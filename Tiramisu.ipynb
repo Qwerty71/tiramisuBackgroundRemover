{
  "nbformat": 4,
  "nbformat_minor": 0,
  "metadata": {
    "colab": {
      "name": "Tiramisu.ipynb",
      "provenance": []
    },
    "kernelspec": {
      "name": "python3",
      "display_name": "Python 3"
    },
    "accelerator": "GPU",
    "widgets": {
      "application/vnd.jupyter.widget-state+json": {
        "0464a7c744814d95a3fc5189829042a6": {
          "model_module": "@jupyter-widgets/controls",
          "model_name": "HBoxModel",
          "state": {
            "_view_name": "HBoxView",
            "_dom_classes": [],
            "_model_name": "HBoxModel",
            "_view_module": "@jupyter-widgets/controls",
            "_model_module_version": "1.5.0",
            "_view_count": null,
            "_view_module_version": "1.5.0",
            "box_style": "",
            "layout": "IPY_MODEL_c34b457d7e574c0db75bb5151112a3a7",
            "_model_module": "@jupyter-widgets/controls",
            "children": [
              "IPY_MODEL_9b2be727031c4c7ba891ce3b85b0759e",
              "IPY_MODEL_6dd6462add3a4186af5a507c9a5aecc5"
            ]
          }
        },
        "c34b457d7e574c0db75bb5151112a3a7": {
          "model_module": "@jupyter-widgets/base",
          "model_name": "LayoutModel",
          "state": {
            "_view_name": "LayoutView",
            "grid_template_rows": null,
            "right": null,
            "justify_content": null,
            "_view_module": "@jupyter-widgets/base",
            "overflow": null,
            "_model_module_version": "1.2.0",
            "_view_count": null,
            "flex_flow": null,
            "width": null,
            "min_width": null,
            "border": null,
            "align_items": null,
            "bottom": null,
            "_model_module": "@jupyter-widgets/base",
            "top": null,
            "grid_column": null,
            "overflow_y": null,
            "overflow_x": null,
            "grid_auto_flow": null,
            "grid_area": null,
            "grid_template_columns": null,
            "flex": null,
            "_model_name": "LayoutModel",
            "justify_items": null,
            "grid_row": null,
            "max_height": null,
            "align_content": null,
            "visibility": null,
            "align_self": null,
            "height": null,
            "min_height": null,
            "padding": null,
            "grid_auto_rows": null,
            "grid_gap": null,
            "max_width": null,
            "order": null,
            "_view_module_version": "1.2.0",
            "grid_template_areas": null,
            "object_position": null,
            "object_fit": null,
            "grid_auto_columns": null,
            "margin": null,
            "display": null,
            "left": null
          }
        },
        "9b2be727031c4c7ba891ce3b85b0759e": {
          "model_module": "@jupyter-widgets/controls",
          "model_name": "IntProgressModel",
          "state": {
            "_view_name": "ProgressView",
            "style": "IPY_MODEL_ad71a44a123e4db0b637c3dfb43b05d9",
            "_dom_classes": [],
            "description": "Dl Completed...",
            "_model_name": "IntProgressModel",
            "bar_style": "success",
            "max": 1,
            "_view_module": "@jupyter-widgets/controls",
            "_model_module_version": "1.5.0",
            "value": 1,
            "_view_count": null,
            "_view_module_version": "1.5.0",
            "orientation": "horizontal",
            "min": 0,
            "description_tooltip": null,
            "_model_module": "@jupyter-widgets/controls",
            "layout": "IPY_MODEL_87f30f58732b4f43bf71e3d53a902694"
          }
        },
        "6dd6462add3a4186af5a507c9a5aecc5": {
          "model_module": "@jupyter-widgets/controls",
          "model_name": "HTMLModel",
          "state": {
            "_view_name": "HTMLView",
            "style": "IPY_MODEL_674135403c3f4ce4982cc27903f332f5",
            "_dom_classes": [],
            "description": "",
            "_model_name": "HTMLModel",
            "placeholder": "​",
            "_view_module": "@jupyter-widgets/controls",
            "_model_module_version": "1.5.0",
            "value": "2/|/100% 2/2 [00:28&lt;00:00,  7.27s/ url]",
            "_view_count": null,
            "_view_module_version": "1.5.0",
            "description_tooltip": null,
            "_model_module": "@jupyter-widgets/controls",
            "layout": "IPY_MODEL_b07e95fce9064bae8a950cd08cd728cf"
          }
        },
        "ad71a44a123e4db0b637c3dfb43b05d9": {
          "model_module": "@jupyter-widgets/controls",
          "model_name": "ProgressStyleModel",
          "state": {
            "_view_name": "StyleView",
            "_model_name": "ProgressStyleModel",
            "description_width": "initial",
            "_view_module": "@jupyter-widgets/base",
            "_model_module_version": "1.5.0",
            "_view_count": null,
            "_view_module_version": "1.2.0",
            "bar_color": null,
            "_model_module": "@jupyter-widgets/controls"
          }
        },
        "87f30f58732b4f43bf71e3d53a902694": {
          "model_module": "@jupyter-widgets/base",
          "model_name": "LayoutModel",
          "state": {
            "_view_name": "LayoutView",
            "grid_template_rows": null,
            "right": null,
            "justify_content": null,
            "_view_module": "@jupyter-widgets/base",
            "overflow": null,
            "_model_module_version": "1.2.0",
            "_view_count": null,
            "flex_flow": null,
            "width": null,
            "min_width": null,
            "border": null,
            "align_items": null,
            "bottom": null,
            "_model_module": "@jupyter-widgets/base",
            "top": null,
            "grid_column": null,
            "overflow_y": null,
            "overflow_x": null,
            "grid_auto_flow": null,
            "grid_area": null,
            "grid_template_columns": null,
            "flex": null,
            "_model_name": "LayoutModel",
            "justify_items": null,
            "grid_row": null,
            "max_height": null,
            "align_content": null,
            "visibility": null,
            "align_self": null,
            "height": null,
            "min_height": null,
            "padding": null,
            "grid_auto_rows": null,
            "grid_gap": null,
            "max_width": null,
            "order": null,
            "_view_module_version": "1.2.0",
            "grid_template_areas": null,
            "object_position": null,
            "object_fit": null,
            "grid_auto_columns": null,
            "margin": null,
            "display": null,
            "left": null
          }
        },
        "674135403c3f4ce4982cc27903f332f5": {
          "model_module": "@jupyter-widgets/controls",
          "model_name": "DescriptionStyleModel",
          "state": {
            "_view_name": "StyleView",
            "_model_name": "DescriptionStyleModel",
            "description_width": "",
            "_view_module": "@jupyter-widgets/base",
            "_model_module_version": "1.5.0",
            "_view_count": null,
            "_view_module_version": "1.2.0",
            "_model_module": "@jupyter-widgets/controls"
          }
        },
        "b07e95fce9064bae8a950cd08cd728cf": {
          "model_module": "@jupyter-widgets/base",
          "model_name": "LayoutModel",
          "state": {
            "_view_name": "LayoutView",
            "grid_template_rows": null,
            "right": null,
            "justify_content": null,
            "_view_module": "@jupyter-widgets/base",
            "overflow": null,
            "_model_module_version": "1.2.0",
            "_view_count": null,
            "flex_flow": null,
            "width": null,
            "min_width": null,
            "border": null,
            "align_items": null,
            "bottom": null,
            "_model_module": "@jupyter-widgets/base",
            "top": null,
            "grid_column": null,
            "overflow_y": null,
            "overflow_x": null,
            "grid_auto_flow": null,
            "grid_area": null,
            "grid_template_columns": null,
            "flex": null,
            "_model_name": "LayoutModel",
            "justify_items": null,
            "grid_row": null,
            "max_height": null,
            "align_content": null,
            "visibility": null,
            "align_self": null,
            "height": null,
            "min_height": null,
            "padding": null,
            "grid_auto_rows": null,
            "grid_gap": null,
            "max_width": null,
            "order": null,
            "_view_module_version": "1.2.0",
            "grid_template_areas": null,
            "object_position": null,
            "object_fit": null,
            "grid_auto_columns": null,
            "margin": null,
            "display": null,
            "left": null
          }
        },
        "8fbeafd618224b6cba6c04861c7188f8": {
          "model_module": "@jupyter-widgets/controls",
          "model_name": "HBoxModel",
          "state": {
            "_view_name": "HBoxView",
            "_dom_classes": [],
            "_model_name": "HBoxModel",
            "_view_module": "@jupyter-widgets/controls",
            "_model_module_version": "1.5.0",
            "_view_count": null,
            "_view_module_version": "1.5.0",
            "box_style": "",
            "layout": "IPY_MODEL_216f06a05c3f4eef989a0b8f55224ab2",
            "_model_module": "@jupyter-widgets/controls",
            "children": [
              "IPY_MODEL_0017cb4b04ef4291b218e445d752b06e",
              "IPY_MODEL_fb5571da7df4431792a5e15b36be1357"
            ]
          }
        },
        "216f06a05c3f4eef989a0b8f55224ab2": {
          "model_module": "@jupyter-widgets/base",
          "model_name": "LayoutModel",
          "state": {
            "_view_name": "LayoutView",
            "grid_template_rows": null,
            "right": null,
            "justify_content": null,
            "_view_module": "@jupyter-widgets/base",
            "overflow": null,
            "_model_module_version": "1.2.0",
            "_view_count": null,
            "flex_flow": null,
            "width": null,
            "min_width": null,
            "border": null,
            "align_items": null,
            "bottom": null,
            "_model_module": "@jupyter-widgets/base",
            "top": null,
            "grid_column": null,
            "overflow_y": null,
            "overflow_x": null,
            "grid_auto_flow": null,
            "grid_area": null,
            "grid_template_columns": null,
            "flex": null,
            "_model_name": "LayoutModel",
            "justify_items": null,
            "grid_row": null,
            "max_height": null,
            "align_content": null,
            "visibility": null,
            "align_self": null,
            "height": null,
            "min_height": null,
            "padding": null,
            "grid_auto_rows": null,
            "grid_gap": null,
            "max_width": null,
            "order": null,
            "_view_module_version": "1.2.0",
            "grid_template_areas": null,
            "object_position": null,
            "object_fit": null,
            "grid_auto_columns": null,
            "margin": null,
            "display": null,
            "left": null
          }
        },
        "0017cb4b04ef4291b218e445d752b06e": {
          "model_module": "@jupyter-widgets/controls",
          "model_name": "IntProgressModel",
          "state": {
            "_view_name": "ProgressView",
            "style": "IPY_MODEL_0c13fd8a5d7c45978867895267f442d7",
            "_dom_classes": [],
            "description": "Dl Size...",
            "_model_name": "IntProgressModel",
            "bar_style": "success",
            "max": 1,
            "_view_module": "@jupyter-widgets/controls",
            "_model_module_version": "1.5.0",
            "value": 1,
            "_view_count": null,
            "_view_module_version": "1.5.0",
            "orientation": "horizontal",
            "min": 0,
            "description_tooltip": null,
            "_model_module": "@jupyter-widgets/controls",
            "layout": "IPY_MODEL_f4215907eeff4d2eba8c451330eec14b"
          }
        },
        "fb5571da7df4431792a5e15b36be1357": {
          "model_module": "@jupyter-widgets/controls",
          "model_name": "HTMLModel",
          "state": {
            "_view_name": "HTMLView",
            "style": "IPY_MODEL_4b01833b310c45408f6bd99a976e7df7",
            "_dom_classes": [],
            "description": "",
            "_model_name": "HTMLModel",
            "placeholder": "​",
            "_view_module": "@jupyter-widgets/controls",
            "_model_module_version": "1.5.0",
            "value": "801 MiB [00:28, 54.04 MiB/s]",
            "_view_count": null,
            "_view_module_version": "1.5.0",
            "description_tooltip": null,
            "_model_module": "@jupyter-widgets/controls",
            "layout": "IPY_MODEL_9aeda4c6d21945dcba6d5ffdd065b210"
          }
        },
        "0c13fd8a5d7c45978867895267f442d7": {
          "model_module": "@jupyter-widgets/controls",
          "model_name": "ProgressStyleModel",
          "state": {
            "_view_name": "StyleView",
            "_model_name": "ProgressStyleModel",
            "description_width": "initial",
            "_view_module": "@jupyter-widgets/base",
            "_model_module_version": "1.5.0",
            "_view_count": null,
            "_view_module_version": "1.2.0",
            "bar_color": null,
            "_model_module": "@jupyter-widgets/controls"
          }
        },
        "f4215907eeff4d2eba8c451330eec14b": {
          "model_module": "@jupyter-widgets/base",
          "model_name": "LayoutModel",
          "state": {
            "_view_name": "LayoutView",
            "grid_template_rows": null,
            "right": null,
            "justify_content": null,
            "_view_module": "@jupyter-widgets/base",
            "overflow": null,
            "_model_module_version": "1.2.0",
            "_view_count": null,
            "flex_flow": null,
            "width": null,
            "min_width": null,
            "border": null,
            "align_items": null,
            "bottom": null,
            "_model_module": "@jupyter-widgets/base",
            "top": null,
            "grid_column": null,
            "overflow_y": null,
            "overflow_x": null,
            "grid_auto_flow": null,
            "grid_area": null,
            "grid_template_columns": null,
            "flex": null,
            "_model_name": "LayoutModel",
            "justify_items": null,
            "grid_row": null,
            "max_height": null,
            "align_content": null,
            "visibility": null,
            "align_self": null,
            "height": null,
            "min_height": null,
            "padding": null,
            "grid_auto_rows": null,
            "grid_gap": null,
            "max_width": null,
            "order": null,
            "_view_module_version": "1.2.0",
            "grid_template_areas": null,
            "object_position": null,
            "object_fit": null,
            "grid_auto_columns": null,
            "margin": null,
            "display": null,
            "left": null
          }
        },
        "4b01833b310c45408f6bd99a976e7df7": {
          "model_module": "@jupyter-widgets/controls",
          "model_name": "DescriptionStyleModel",
          "state": {
            "_view_name": "StyleView",
            "_model_name": "DescriptionStyleModel",
            "description_width": "",
            "_view_module": "@jupyter-widgets/base",
            "_model_module_version": "1.5.0",
            "_view_count": null,
            "_view_module_version": "1.2.0",
            "_model_module": "@jupyter-widgets/controls"
          }
        },
        "9aeda4c6d21945dcba6d5ffdd065b210": {
          "model_module": "@jupyter-widgets/base",
          "model_name": "LayoutModel",
          "state": {
            "_view_name": "LayoutView",
            "grid_template_rows": null,
            "right": null,
            "justify_content": null,
            "_view_module": "@jupyter-widgets/base",
            "overflow": null,
            "_model_module_version": "1.2.0",
            "_view_count": null,
            "flex_flow": null,
            "width": null,
            "min_width": null,
            "border": null,
            "align_items": null,
            "bottom": null,
            "_model_module": "@jupyter-widgets/base",
            "top": null,
            "grid_column": null,
            "overflow_y": null,
            "overflow_x": null,
            "grid_auto_flow": null,
            "grid_area": null,
            "grid_template_columns": null,
            "flex": null,
            "_model_name": "LayoutModel",
            "justify_items": null,
            "grid_row": null,
            "max_height": null,
            "align_content": null,
            "visibility": null,
            "align_self": null,
            "height": null,
            "min_height": null,
            "padding": null,
            "grid_auto_rows": null,
            "grid_gap": null,
            "max_width": null,
            "order": null,
            "_view_module_version": "1.2.0",
            "grid_template_areas": null,
            "object_position": null,
            "object_fit": null,
            "grid_auto_columns": null,
            "margin": null,
            "display": null,
            "left": null
          }
        },
        "36253a0a61cc49d1b0988b317d2d0d6a": {
          "model_module": "@jupyter-widgets/controls",
          "model_name": "HBoxModel",
          "state": {
            "_view_name": "HBoxView",
            "_dom_classes": [],
            "_model_name": "HBoxModel",
            "_view_module": "@jupyter-widgets/controls",
            "_model_module_version": "1.5.0",
            "_view_count": null,
            "_view_module_version": "1.5.0",
            "box_style": "",
            "layout": "IPY_MODEL_2eb89881e1464383a3b690100fa785e1",
            "_model_module": "@jupyter-widgets/controls",
            "children": [
              "IPY_MODEL_27427a423ef84998a14006edffbe3679",
              "IPY_MODEL_dff7512a13814b449f42b72b6f69eb0f"
            ]
          }
        },
        "2eb89881e1464383a3b690100fa785e1": {
          "model_module": "@jupyter-widgets/base",
          "model_name": "LayoutModel",
          "state": {
            "_view_name": "LayoutView",
            "grid_template_rows": null,
            "right": null,
            "justify_content": null,
            "_view_module": "@jupyter-widgets/base",
            "overflow": null,
            "_model_module_version": "1.2.0",
            "_view_count": null,
            "flex_flow": null,
            "width": null,
            "min_width": null,
            "border": null,
            "align_items": null,
            "bottom": null,
            "_model_module": "@jupyter-widgets/base",
            "top": null,
            "grid_column": null,
            "overflow_y": null,
            "overflow_x": null,
            "grid_auto_flow": null,
            "grid_area": null,
            "grid_template_columns": null,
            "flex": null,
            "_model_name": "LayoutModel",
            "justify_items": null,
            "grid_row": null,
            "max_height": null,
            "align_content": null,
            "visibility": null,
            "align_self": null,
            "height": null,
            "min_height": null,
            "padding": null,
            "grid_auto_rows": null,
            "grid_gap": null,
            "max_width": null,
            "order": null,
            "_view_module_version": "1.2.0",
            "grid_template_areas": null,
            "object_position": null,
            "object_fit": null,
            "grid_auto_columns": null,
            "margin": null,
            "display": null,
            "left": null
          }
        },
        "27427a423ef84998a14006edffbe3679": {
          "model_module": "@jupyter-widgets/controls",
          "model_name": "IntProgressModel",
          "state": {
            "_view_name": "ProgressView",
            "style": "IPY_MODEL_0ffdba01d7a34ccc9d225475d921a50b",
            "_dom_classes": [],
            "description": "Extraction completed...",
            "_model_name": "IntProgressModel",
            "bar_style": "success",
            "max": 1,
            "_view_module": "@jupyter-widgets/controls",
            "_model_module_version": "1.5.0",
            "value": 1,
            "_view_count": null,
            "_view_module_version": "1.5.0",
            "orientation": "horizontal",
            "min": 0,
            "description_tooltip": null,
            "_model_module": "@jupyter-widgets/controls",
            "layout": "IPY_MODEL_2dbfd9a719db44b68e602d6740227900"
          }
        },
        "dff7512a13814b449f42b72b6f69eb0f": {
          "model_module": "@jupyter-widgets/controls",
          "model_name": "HTMLModel",
          "state": {
            "_view_name": "HTMLView",
            "style": "IPY_MODEL_c65e2e861ccf4269ae4ce3987911ffa7",
            "_dom_classes": [],
            "description": "",
            "_model_name": "HTMLModel",
            "placeholder": "​",
            "_view_module": "@jupyter-widgets/controls",
            "_model_module_version": "1.5.0",
            "value": "2/|/100% 2/2 [00:28&lt;00:00, 12.80s/ file]",
            "_view_count": null,
            "_view_module_version": "1.5.0",
            "description_tooltip": null,
            "_model_module": "@jupyter-widgets/controls",
            "layout": "IPY_MODEL_bf5ed563a83849188e498ec76c89833e"
          }
        },
        "0ffdba01d7a34ccc9d225475d921a50b": {
          "model_module": "@jupyter-widgets/controls",
          "model_name": "ProgressStyleModel",
          "state": {
            "_view_name": "StyleView",
            "_model_name": "ProgressStyleModel",
            "description_width": "initial",
            "_view_module": "@jupyter-widgets/base",
            "_model_module_version": "1.5.0",
            "_view_count": null,
            "_view_module_version": "1.2.0",
            "bar_color": null,
            "_model_module": "@jupyter-widgets/controls"
          }
        },
        "2dbfd9a719db44b68e602d6740227900": {
          "model_module": "@jupyter-widgets/base",
          "model_name": "LayoutModel",
          "state": {
            "_view_name": "LayoutView",
            "grid_template_rows": null,
            "right": null,
            "justify_content": null,
            "_view_module": "@jupyter-widgets/base",
            "overflow": null,
            "_model_module_version": "1.2.0",
            "_view_count": null,
            "flex_flow": null,
            "width": null,
            "min_width": null,
            "border": null,
            "align_items": null,
            "bottom": null,
            "_model_module": "@jupyter-widgets/base",
            "top": null,
            "grid_column": null,
            "overflow_y": null,
            "overflow_x": null,
            "grid_auto_flow": null,
            "grid_area": null,
            "grid_template_columns": null,
            "flex": null,
            "_model_name": "LayoutModel",
            "justify_items": null,
            "grid_row": null,
            "max_height": null,
            "align_content": null,
            "visibility": null,
            "align_self": null,
            "height": null,
            "min_height": null,
            "padding": null,
            "grid_auto_rows": null,
            "grid_gap": null,
            "max_width": null,
            "order": null,
            "_view_module_version": "1.2.0",
            "grid_template_areas": null,
            "object_position": null,
            "object_fit": null,
            "grid_auto_columns": null,
            "margin": null,
            "display": null,
            "left": null
          }
        },
        "c65e2e861ccf4269ae4ce3987911ffa7": {
          "model_module": "@jupyter-widgets/controls",
          "model_name": "DescriptionStyleModel",
          "state": {
            "_view_name": "StyleView",
            "_model_name": "DescriptionStyleModel",
            "description_width": "",
            "_view_module": "@jupyter-widgets/base",
            "_model_module_version": "1.5.0",
            "_view_count": null,
            "_view_module_version": "1.2.0",
            "_model_module": "@jupyter-widgets/controls"
          }
        },
        "bf5ed563a83849188e498ec76c89833e": {
          "model_module": "@jupyter-widgets/base",
          "model_name": "LayoutModel",
          "state": {
            "_view_name": "LayoutView",
            "grid_template_rows": null,
            "right": null,
            "justify_content": null,
            "_view_module": "@jupyter-widgets/base",
            "overflow": null,
            "_model_module_version": "1.2.0",
            "_view_count": null,
            "flex_flow": null,
            "width": null,
            "min_width": null,
            "border": null,
            "align_items": null,
            "bottom": null,
            "_model_module": "@jupyter-widgets/base",
            "top": null,
            "grid_column": null,
            "overflow_y": null,
            "overflow_x": null,
            "grid_auto_flow": null,
            "grid_area": null,
            "grid_template_columns": null,
            "flex": null,
            "_model_name": "LayoutModel",
            "justify_items": null,
            "grid_row": null,
            "max_height": null,
            "align_content": null,
            "visibility": null,
            "align_self": null,
            "height": null,
            "min_height": null,
            "padding": null,
            "grid_auto_rows": null,
            "grid_gap": null,
            "max_width": null,
            "order": null,
            "_view_module_version": "1.2.0",
            "grid_template_areas": null,
            "object_position": null,
            "object_fit": null,
            "grid_auto_columns": null,
            "margin": null,
            "display": null,
            "left": null
          }
        },
        "0ddfffbab93c4bf2a28eec0404fcffee": {
          "model_module": "@jupyter-widgets/controls",
          "model_name": "HBoxModel",
          "state": {
            "_view_name": "HBoxView",
            "_dom_classes": [],
            "_model_name": "HBoxModel",
            "_view_module": "@jupyter-widgets/controls",
            "_model_module_version": "1.5.0",
            "_view_count": null,
            "_view_module_version": "1.5.0",
            "box_style": "",
            "layout": "IPY_MODEL_beda194f447942c49cef2bbf8792a754",
            "_model_module": "@jupyter-widgets/controls",
            "children": [
              "IPY_MODEL_909b19583c2d488e80b5549078ce7091",
              "IPY_MODEL_0befcfde49094cb0ad3493533700f4c1"
            ]
          }
        },
        "beda194f447942c49cef2bbf8792a754": {
          "model_module": "@jupyter-widgets/base",
          "model_name": "LayoutModel",
          "state": {
            "_view_name": "LayoutView",
            "grid_template_rows": null,
            "right": null,
            "justify_content": null,
            "_view_module": "@jupyter-widgets/base",
            "overflow": null,
            "_model_module_version": "1.2.0",
            "_view_count": null,
            "flex_flow": null,
            "width": null,
            "min_width": null,
            "border": null,
            "align_items": null,
            "bottom": null,
            "_model_module": "@jupyter-widgets/base",
            "top": null,
            "grid_column": null,
            "overflow_y": null,
            "overflow_x": null,
            "grid_auto_flow": null,
            "grid_area": null,
            "grid_template_columns": null,
            "flex": null,
            "_model_name": "LayoutModel",
            "justify_items": null,
            "grid_row": null,
            "max_height": null,
            "align_content": null,
            "visibility": null,
            "align_self": null,
            "height": null,
            "min_height": null,
            "padding": null,
            "grid_auto_rows": null,
            "grid_gap": null,
            "max_width": null,
            "order": null,
            "_view_module_version": "1.2.0",
            "grid_template_areas": null,
            "object_position": null,
            "object_fit": null,
            "grid_auto_columns": null,
            "margin": null,
            "display": null,
            "left": null
          }
        },
        "909b19583c2d488e80b5549078ce7091": {
          "model_module": "@jupyter-widgets/controls",
          "model_name": "IntProgressModel",
          "state": {
            "_view_name": "ProgressView",
            "style": "IPY_MODEL_d5eb6998b52842e8a3e8c3de84731502",
            "_dom_classes": [],
            "description": "",
            "_model_name": "IntProgressModel",
            "bar_style": "info",
            "max": 1,
            "_view_module": "@jupyter-widgets/controls",
            "_model_module_version": "1.5.0",
            "value": 1,
            "_view_count": null,
            "_view_module_version": "1.5.0",
            "orientation": "horizontal",
            "min": 0,
            "description_tooltip": null,
            "_model_module": "@jupyter-widgets/controls",
            "layout": "IPY_MODEL_3ae99a1384fc4db38e9499b64abacc51"
          }
        },
        "0befcfde49094cb0ad3493533700f4c1": {
          "model_module": "@jupyter-widgets/controls",
          "model_name": "HTMLModel",
          "state": {
            "_view_name": "HTMLView",
            "style": "IPY_MODEL_51dfda9a50174c81a12fda88743708b1",
            "_dom_classes": [],
            "description": "",
            "_model_name": "HTMLModel",
            "placeholder": "​",
            "_view_module": "@jupyter-widgets/controls",
            "_model_module_version": "1.5.0",
            "value": "3625 examples [00:03, 1110.38 examples/s]",
            "_view_count": null,
            "_view_module_version": "1.5.0",
            "description_tooltip": null,
            "_model_module": "@jupyter-widgets/controls",
            "layout": "IPY_MODEL_6f6078f119bf41deb733ed1c30601448"
          }
        },
        "d5eb6998b52842e8a3e8c3de84731502": {
          "model_module": "@jupyter-widgets/controls",
          "model_name": "ProgressStyleModel",
          "state": {
            "_view_name": "StyleView",
            "_model_name": "ProgressStyleModel",
            "description_width": "",
            "_view_module": "@jupyter-widgets/base",
            "_model_module_version": "1.5.0",
            "_view_count": null,
            "_view_module_version": "1.2.0",
            "bar_color": null,
            "_model_module": "@jupyter-widgets/controls"
          }
        },
        "3ae99a1384fc4db38e9499b64abacc51": {
          "model_module": "@jupyter-widgets/base",
          "model_name": "LayoutModel",
          "state": {
            "_view_name": "LayoutView",
            "grid_template_rows": null,
            "right": null,
            "justify_content": null,
            "_view_module": "@jupyter-widgets/base",
            "overflow": null,
            "_model_module_version": "1.2.0",
            "_view_count": null,
            "flex_flow": null,
            "width": null,
            "min_width": null,
            "border": null,
            "align_items": null,
            "bottom": null,
            "_model_module": "@jupyter-widgets/base",
            "top": null,
            "grid_column": null,
            "overflow_y": null,
            "overflow_x": null,
            "grid_auto_flow": null,
            "grid_area": null,
            "grid_template_columns": null,
            "flex": null,
            "_model_name": "LayoutModel",
            "justify_items": null,
            "grid_row": null,
            "max_height": null,
            "align_content": null,
            "visibility": null,
            "align_self": null,
            "height": null,
            "min_height": null,
            "padding": null,
            "grid_auto_rows": null,
            "grid_gap": null,
            "max_width": null,
            "order": null,
            "_view_module_version": "1.2.0",
            "grid_template_areas": null,
            "object_position": null,
            "object_fit": null,
            "grid_auto_columns": null,
            "margin": null,
            "display": null,
            "left": null
          }
        },
        "51dfda9a50174c81a12fda88743708b1": {
          "model_module": "@jupyter-widgets/controls",
          "model_name": "DescriptionStyleModel",
          "state": {
            "_view_name": "StyleView",
            "_model_name": "DescriptionStyleModel",
            "description_width": "",
            "_view_module": "@jupyter-widgets/base",
            "_model_module_version": "1.5.0",
            "_view_count": null,
            "_view_module_version": "1.2.0",
            "_model_module": "@jupyter-widgets/controls"
          }
        },
        "6f6078f119bf41deb733ed1c30601448": {
          "model_module": "@jupyter-widgets/base",
          "model_name": "LayoutModel",
          "state": {
            "_view_name": "LayoutView",
            "grid_template_rows": null,
            "right": null,
            "justify_content": null,
            "_view_module": "@jupyter-widgets/base",
            "overflow": null,
            "_model_module_version": "1.2.0",
            "_view_count": null,
            "flex_flow": null,
            "width": null,
            "min_width": null,
            "border": null,
            "align_items": null,
            "bottom": null,
            "_model_module": "@jupyter-widgets/base",
            "top": null,
            "grid_column": null,
            "overflow_y": null,
            "overflow_x": null,
            "grid_auto_flow": null,
            "grid_area": null,
            "grid_template_columns": null,
            "flex": null,
            "_model_name": "LayoutModel",
            "justify_items": null,
            "grid_row": null,
            "max_height": null,
            "align_content": null,
            "visibility": null,
            "align_self": null,
            "height": null,
            "min_height": null,
            "padding": null,
            "grid_auto_rows": null,
            "grid_gap": null,
            "max_width": null,
            "order": null,
            "_view_module_version": "1.2.0",
            "grid_template_areas": null,
            "object_position": null,
            "object_fit": null,
            "grid_auto_columns": null,
            "margin": null,
            "display": null,
            "left": null
          }
        },
        "9b54372e90b8499fadd77b5c7d0fd5a6": {
          "model_module": "@jupyter-widgets/controls",
          "model_name": "HBoxModel",
          "state": {
            "_view_name": "HBoxView",
            "_dom_classes": [],
            "_model_name": "HBoxModel",
            "_view_module": "@jupyter-widgets/controls",
            "_model_module_version": "1.5.0",
            "_view_count": null,
            "_view_module_version": "1.5.0",
            "box_style": "",
            "layout": "IPY_MODEL_ea6029f22cfe4ed586c41d7e58a7fb5b",
            "_model_module": "@jupyter-widgets/controls",
            "children": [
              "IPY_MODEL_6f00c262eb574f7b93367a0bce9ce6e3",
              "IPY_MODEL_aad92e1e0c8448cc95044757f8371353"
            ]
          }
        },
        "ea6029f22cfe4ed586c41d7e58a7fb5b": {
          "model_module": "@jupyter-widgets/base",
          "model_name": "LayoutModel",
          "state": {
            "_view_name": "LayoutView",
            "grid_template_rows": null,
            "right": null,
            "justify_content": null,
            "_view_module": "@jupyter-widgets/base",
            "overflow": null,
            "_model_module_version": "1.2.0",
            "_view_count": null,
            "flex_flow": null,
            "width": null,
            "min_width": null,
            "border": null,
            "align_items": null,
            "bottom": null,
            "_model_module": "@jupyter-widgets/base",
            "top": null,
            "grid_column": null,
            "overflow_y": null,
            "overflow_x": null,
            "grid_auto_flow": null,
            "grid_area": null,
            "grid_template_columns": null,
            "flex": null,
            "_model_name": "LayoutModel",
            "justify_items": null,
            "grid_row": null,
            "max_height": null,
            "align_content": null,
            "visibility": null,
            "align_self": null,
            "height": null,
            "min_height": null,
            "padding": null,
            "grid_auto_rows": null,
            "grid_gap": null,
            "max_width": null,
            "order": null,
            "_view_module_version": "1.2.0",
            "grid_template_areas": null,
            "object_position": null,
            "object_fit": null,
            "grid_auto_columns": null,
            "margin": null,
            "display": null,
            "left": null
          }
        },
        "6f00c262eb574f7b93367a0bce9ce6e3": {
          "model_module": "@jupyter-widgets/controls",
          "model_name": "IntProgressModel",
          "state": {
            "_view_name": "ProgressView",
            "style": "IPY_MODEL_6efd4ff961504f0380853689c4dd80b8",
            "_dom_classes": [],
            "description": "",
            "_model_name": "IntProgressModel",
            "bar_style": "",
            "max": 3680,
            "_view_module": "@jupyter-widgets/controls",
            "_model_module_version": "1.5.0",
            "value": 3350,
            "_view_count": null,
            "_view_module_version": "1.5.0",
            "orientation": "horizontal",
            "min": 0,
            "description_tooltip": null,
            "_model_module": "@jupyter-widgets/controls",
            "layout": "IPY_MODEL_e0366bf31b1c416680d79397569ca7b6"
          }
        },
        "aad92e1e0c8448cc95044757f8371353": {
          "model_module": "@jupyter-widgets/controls",
          "model_name": "HTMLModel",
          "state": {
            "_view_name": "HTMLView",
            "style": "IPY_MODEL_079b9f65f0c84b3cbd3df0a8b5ca05b6",
            "_dom_classes": [],
            "description": "",
            "_model_name": "HTMLModel",
            "placeholder": "​",
            "_view_module": "@jupyter-widgets/controls",
            "_model_module_version": "1.5.0",
            "value": " 91% 3350/3680 [00:00&lt;00:00, 3838.54 examples/s]",
            "_view_count": null,
            "_view_module_version": "1.5.0",
            "description_tooltip": null,
            "_model_module": "@jupyter-widgets/controls",
            "layout": "IPY_MODEL_cf9040c1997944cbb27958365a3db9ca"
          }
        },
        "6efd4ff961504f0380853689c4dd80b8": {
          "model_module": "@jupyter-widgets/controls",
          "model_name": "ProgressStyleModel",
          "state": {
            "_view_name": "StyleView",
            "_model_name": "ProgressStyleModel",
            "description_width": "",
            "_view_module": "@jupyter-widgets/base",
            "_model_module_version": "1.5.0",
            "_view_count": null,
            "_view_module_version": "1.2.0",
            "bar_color": null,
            "_model_module": "@jupyter-widgets/controls"
          }
        },
        "e0366bf31b1c416680d79397569ca7b6": {
          "model_module": "@jupyter-widgets/base",
          "model_name": "LayoutModel",
          "state": {
            "_view_name": "LayoutView",
            "grid_template_rows": null,
            "right": null,
            "justify_content": null,
            "_view_module": "@jupyter-widgets/base",
            "overflow": null,
            "_model_module_version": "1.2.0",
            "_view_count": null,
            "flex_flow": null,
            "width": null,
            "min_width": null,
            "border": null,
            "align_items": null,
            "bottom": null,
            "_model_module": "@jupyter-widgets/base",
            "top": null,
            "grid_column": null,
            "overflow_y": null,
            "overflow_x": null,
            "grid_auto_flow": null,
            "grid_area": null,
            "grid_template_columns": null,
            "flex": null,
            "_model_name": "LayoutModel",
            "justify_items": null,
            "grid_row": null,
            "max_height": null,
            "align_content": null,
            "visibility": null,
            "align_self": null,
            "height": null,
            "min_height": null,
            "padding": null,
            "grid_auto_rows": null,
            "grid_gap": null,
            "max_width": null,
            "order": null,
            "_view_module_version": "1.2.0",
            "grid_template_areas": null,
            "object_position": null,
            "object_fit": null,
            "grid_auto_columns": null,
            "margin": null,
            "display": null,
            "left": null
          }
        },
        "079b9f65f0c84b3cbd3df0a8b5ca05b6": {
          "model_module": "@jupyter-widgets/controls",
          "model_name": "DescriptionStyleModel",
          "state": {
            "_view_name": "StyleView",
            "_model_name": "DescriptionStyleModel",
            "description_width": "",
            "_view_module": "@jupyter-widgets/base",
            "_model_module_version": "1.5.0",
            "_view_count": null,
            "_view_module_version": "1.2.0",
            "_model_module": "@jupyter-widgets/controls"
          }
        },
        "cf9040c1997944cbb27958365a3db9ca": {
          "model_module": "@jupyter-widgets/base",
          "model_name": "LayoutModel",
          "state": {
            "_view_name": "LayoutView",
            "grid_template_rows": null,
            "right": null,
            "justify_content": null,
            "_view_module": "@jupyter-widgets/base",
            "overflow": null,
            "_model_module_version": "1.2.0",
            "_view_count": null,
            "flex_flow": null,
            "width": null,
            "min_width": null,
            "border": null,
            "align_items": null,
            "bottom": null,
            "_model_module": "@jupyter-widgets/base",
            "top": null,
            "grid_column": null,
            "overflow_y": null,
            "overflow_x": null,
            "grid_auto_flow": null,
            "grid_area": null,
            "grid_template_columns": null,
            "flex": null,
            "_model_name": "LayoutModel",
            "justify_items": null,
            "grid_row": null,
            "max_height": null,
            "align_content": null,
            "visibility": null,
            "align_self": null,
            "height": null,
            "min_height": null,
            "padding": null,
            "grid_auto_rows": null,
            "grid_gap": null,
            "max_width": null,
            "order": null,
            "_view_module_version": "1.2.0",
            "grid_template_areas": null,
            "object_position": null,
            "object_fit": null,
            "grid_auto_columns": null,
            "margin": null,
            "display": null,
            "left": null
          }
        },
        "bab24a4b06854ec0ad4a57e22217843e": {
          "model_module": "@jupyter-widgets/controls",
          "model_name": "HBoxModel",
          "state": {
            "_view_name": "HBoxView",
            "_dom_classes": [],
            "_model_name": "HBoxModel",
            "_view_module": "@jupyter-widgets/controls",
            "_model_module_version": "1.5.0",
            "_view_count": null,
            "_view_module_version": "1.5.0",
            "box_style": "",
            "layout": "IPY_MODEL_18d9ccfd4f2d427599447c7dff5f6835",
            "_model_module": "@jupyter-widgets/controls",
            "children": [
              "IPY_MODEL_c8bc2dc310c745bf8b4550304b7d2d1d",
              "IPY_MODEL_c063e74a59b549de915de8c289a077e2"
            ]
          }
        },
        "18d9ccfd4f2d427599447c7dff5f6835": {
          "model_module": "@jupyter-widgets/base",
          "model_name": "LayoutModel",
          "state": {
            "_view_name": "LayoutView",
            "grid_template_rows": null,
            "right": null,
            "justify_content": null,
            "_view_module": "@jupyter-widgets/base",
            "overflow": null,
            "_model_module_version": "1.2.0",
            "_view_count": null,
            "flex_flow": null,
            "width": null,
            "min_width": null,
            "border": null,
            "align_items": null,
            "bottom": null,
            "_model_module": "@jupyter-widgets/base",
            "top": null,
            "grid_column": null,
            "overflow_y": null,
            "overflow_x": null,
            "grid_auto_flow": null,
            "grid_area": null,
            "grid_template_columns": null,
            "flex": null,
            "_model_name": "LayoutModel",
            "justify_items": null,
            "grid_row": null,
            "max_height": null,
            "align_content": null,
            "visibility": null,
            "align_self": null,
            "height": null,
            "min_height": null,
            "padding": null,
            "grid_auto_rows": null,
            "grid_gap": null,
            "max_width": null,
            "order": null,
            "_view_module_version": "1.2.0",
            "grid_template_areas": null,
            "object_position": null,
            "object_fit": null,
            "grid_auto_columns": null,
            "margin": null,
            "display": null,
            "left": null
          }
        },
        "c8bc2dc310c745bf8b4550304b7d2d1d": {
          "model_module": "@jupyter-widgets/controls",
          "model_name": "IntProgressModel",
          "state": {
            "_view_name": "ProgressView",
            "style": "IPY_MODEL_2a51454a2cb44a2daefca1143f9213d5",
            "_dom_classes": [],
            "description": "",
            "_model_name": "IntProgressModel",
            "bar_style": "info",
            "max": 1,
            "_view_module": "@jupyter-widgets/controls",
            "_model_module_version": "1.5.0",
            "value": 1,
            "_view_count": null,
            "_view_module_version": "1.5.0",
            "orientation": "horizontal",
            "min": 0,
            "description_tooltip": null,
            "_model_module": "@jupyter-widgets/controls",
            "layout": "IPY_MODEL_2f74c08e7dd742808ff6f0eb81fc426e"
          }
        },
        "c063e74a59b549de915de8c289a077e2": {
          "model_module": "@jupyter-widgets/controls",
          "model_name": "HTMLModel",
          "state": {
            "_view_name": "HTMLView",
            "style": "IPY_MODEL_09c22e516c1e4b89a2a9877751773f64",
            "_dom_classes": [],
            "description": "",
            "_model_name": "HTMLModel",
            "placeholder": "​",
            "_view_module": "@jupyter-widgets/controls",
            "_model_module_version": "1.5.0",
            "value": "3601 examples [00:03, 1063.92 examples/s]",
            "_view_count": null,
            "_view_module_version": "1.5.0",
            "description_tooltip": null,
            "_model_module": "@jupyter-widgets/controls",
            "layout": "IPY_MODEL_56aea98453e14b349ad53f5a7a516c02"
          }
        },
        "2a51454a2cb44a2daefca1143f9213d5": {
          "model_module": "@jupyter-widgets/controls",
          "model_name": "ProgressStyleModel",
          "state": {
            "_view_name": "StyleView",
            "_model_name": "ProgressStyleModel",
            "description_width": "",
            "_view_module": "@jupyter-widgets/base",
            "_model_module_version": "1.5.0",
            "_view_count": null,
            "_view_module_version": "1.2.0",
            "bar_color": null,
            "_model_module": "@jupyter-widgets/controls"
          }
        },
        "2f74c08e7dd742808ff6f0eb81fc426e": {
          "model_module": "@jupyter-widgets/base",
          "model_name": "LayoutModel",
          "state": {
            "_view_name": "LayoutView",
            "grid_template_rows": null,
            "right": null,
            "justify_content": null,
            "_view_module": "@jupyter-widgets/base",
            "overflow": null,
            "_model_module_version": "1.2.0",
            "_view_count": null,
            "flex_flow": null,
            "width": null,
            "min_width": null,
            "border": null,
            "align_items": null,
            "bottom": null,
            "_model_module": "@jupyter-widgets/base",
            "top": null,
            "grid_column": null,
            "overflow_y": null,
            "overflow_x": null,
            "grid_auto_flow": null,
            "grid_area": null,
            "grid_template_columns": null,
            "flex": null,
            "_model_name": "LayoutModel",
            "justify_items": null,
            "grid_row": null,
            "max_height": null,
            "align_content": null,
            "visibility": null,
            "align_self": null,
            "height": null,
            "min_height": null,
            "padding": null,
            "grid_auto_rows": null,
            "grid_gap": null,
            "max_width": null,
            "order": null,
            "_view_module_version": "1.2.0",
            "grid_template_areas": null,
            "object_position": null,
            "object_fit": null,
            "grid_auto_columns": null,
            "margin": null,
            "display": null,
            "left": null
          }
        },
        "09c22e516c1e4b89a2a9877751773f64": {
          "model_module": "@jupyter-widgets/controls",
          "model_name": "DescriptionStyleModel",
          "state": {
            "_view_name": "StyleView",
            "_model_name": "DescriptionStyleModel",
            "description_width": "",
            "_view_module": "@jupyter-widgets/base",
            "_model_module_version": "1.5.0",
            "_view_count": null,
            "_view_module_version": "1.2.0",
            "_model_module": "@jupyter-widgets/controls"
          }
        },
        "56aea98453e14b349ad53f5a7a516c02": {
          "model_module": "@jupyter-widgets/base",
          "model_name": "LayoutModel",
          "state": {
            "_view_name": "LayoutView",
            "grid_template_rows": null,
            "right": null,
            "justify_content": null,
            "_view_module": "@jupyter-widgets/base",
            "overflow": null,
            "_model_module_version": "1.2.0",
            "_view_count": null,
            "flex_flow": null,
            "width": null,
            "min_width": null,
            "border": null,
            "align_items": null,
            "bottom": null,
            "_model_module": "@jupyter-widgets/base",
            "top": null,
            "grid_column": null,
            "overflow_y": null,
            "overflow_x": null,
            "grid_auto_flow": null,
            "grid_area": null,
            "grid_template_columns": null,
            "flex": null,
            "_model_name": "LayoutModel",
            "justify_items": null,
            "grid_row": null,
            "max_height": null,
            "align_content": null,
            "visibility": null,
            "align_self": null,
            "height": null,
            "min_height": null,
            "padding": null,
            "grid_auto_rows": null,
            "grid_gap": null,
            "max_width": null,
            "order": null,
            "_view_module_version": "1.2.0",
            "grid_template_areas": null,
            "object_position": null,
            "object_fit": null,
            "grid_auto_columns": null,
            "margin": null,
            "display": null,
            "left": null
          }
        },
        "2dbdb87517ee4bd6afb294fdc63db610": {
          "model_module": "@jupyter-widgets/controls",
          "model_name": "HBoxModel",
          "state": {
            "_view_name": "HBoxView",
            "_dom_classes": [],
            "_model_name": "HBoxModel",
            "_view_module": "@jupyter-widgets/controls",
            "_model_module_version": "1.5.0",
            "_view_count": null,
            "_view_module_version": "1.5.0",
            "box_style": "",
            "layout": "IPY_MODEL_50ab5b914b494d7192498f4802e0b743",
            "_model_module": "@jupyter-widgets/controls",
            "children": [
              "IPY_MODEL_b0c3ce2f2d364baf827e44ef197cc061",
              "IPY_MODEL_1525b743ddc947b2b073b2b18a26d683"
            ]
          }
        },
        "50ab5b914b494d7192498f4802e0b743": {
          "model_module": "@jupyter-widgets/base",
          "model_name": "LayoutModel",
          "state": {
            "_view_name": "LayoutView",
            "grid_template_rows": null,
            "right": null,
            "justify_content": null,
            "_view_module": "@jupyter-widgets/base",
            "overflow": null,
            "_model_module_version": "1.2.0",
            "_view_count": null,
            "flex_flow": null,
            "width": null,
            "min_width": null,
            "border": null,
            "align_items": null,
            "bottom": null,
            "_model_module": "@jupyter-widgets/base",
            "top": null,
            "grid_column": null,
            "overflow_y": null,
            "overflow_x": null,
            "grid_auto_flow": null,
            "grid_area": null,
            "grid_template_columns": null,
            "flex": null,
            "_model_name": "LayoutModel",
            "justify_items": null,
            "grid_row": null,
            "max_height": null,
            "align_content": null,
            "visibility": null,
            "align_self": null,
            "height": null,
            "min_height": null,
            "padding": null,
            "grid_auto_rows": null,
            "grid_gap": null,
            "max_width": null,
            "order": null,
            "_view_module_version": "1.2.0",
            "grid_template_areas": null,
            "object_position": null,
            "object_fit": null,
            "grid_auto_columns": null,
            "margin": null,
            "display": null,
            "left": null
          }
        },
        "b0c3ce2f2d364baf827e44ef197cc061": {
          "model_module": "@jupyter-widgets/controls",
          "model_name": "IntProgressModel",
          "state": {
            "_view_name": "ProgressView",
            "style": "IPY_MODEL_e8aa831d5b5c47bc955c3c8894ca3b22",
            "_dom_classes": [],
            "description": "",
            "_model_name": "IntProgressModel",
            "bar_style": "",
            "max": 3669,
            "_view_module": "@jupyter-widgets/controls",
            "_model_module_version": "1.5.0",
            "value": 3548,
            "_view_count": null,
            "_view_module_version": "1.5.0",
            "orientation": "horizontal",
            "min": 0,
            "description_tooltip": null,
            "_model_module": "@jupyter-widgets/controls",
            "layout": "IPY_MODEL_20db43fb031a4c2290a751c289a9c2c9"
          }
        },
        "1525b743ddc947b2b073b2b18a26d683": {
          "model_module": "@jupyter-widgets/controls",
          "model_name": "HTMLModel",
          "state": {
            "_view_name": "HTMLView",
            "style": "IPY_MODEL_c24de7f648bc401682239e46fdf0e181",
            "_dom_classes": [],
            "description": "",
            "_model_name": "HTMLModel",
            "placeholder": "​",
            "_view_module": "@jupyter-widgets/controls",
            "_model_module_version": "1.5.0",
            "value": " 97% 3548/3669 [00:00&lt;00:00, 4738.79 examples/s]",
            "_view_count": null,
            "_view_module_version": "1.5.0",
            "description_tooltip": null,
            "_model_module": "@jupyter-widgets/controls",
            "layout": "IPY_MODEL_429b6d832c774a9cbfe5006a79a87925"
          }
        },
        "e8aa831d5b5c47bc955c3c8894ca3b22": {
          "model_module": "@jupyter-widgets/controls",
          "model_name": "ProgressStyleModel",
          "state": {
            "_view_name": "StyleView",
            "_model_name": "ProgressStyleModel",
            "description_width": "",
            "_view_module": "@jupyter-widgets/base",
            "_model_module_version": "1.5.0",
            "_view_count": null,
            "_view_module_version": "1.2.0",
            "bar_color": null,
            "_model_module": "@jupyter-widgets/controls"
          }
        },
        "20db43fb031a4c2290a751c289a9c2c9": {
          "model_module": "@jupyter-widgets/base",
          "model_name": "LayoutModel",
          "state": {
            "_view_name": "LayoutView",
            "grid_template_rows": null,
            "right": null,
            "justify_content": null,
            "_view_module": "@jupyter-widgets/base",
            "overflow": null,
            "_model_module_version": "1.2.0",
            "_view_count": null,
            "flex_flow": null,
            "width": null,
            "min_width": null,
            "border": null,
            "align_items": null,
            "bottom": null,
            "_model_module": "@jupyter-widgets/base",
            "top": null,
            "grid_column": null,
            "overflow_y": null,
            "overflow_x": null,
            "grid_auto_flow": null,
            "grid_area": null,
            "grid_template_columns": null,
            "flex": null,
            "_model_name": "LayoutModel",
            "justify_items": null,
            "grid_row": null,
            "max_height": null,
            "align_content": null,
            "visibility": null,
            "align_self": null,
            "height": null,
            "min_height": null,
            "padding": null,
            "grid_auto_rows": null,
            "grid_gap": null,
            "max_width": null,
            "order": null,
            "_view_module_version": "1.2.0",
            "grid_template_areas": null,
            "object_position": null,
            "object_fit": null,
            "grid_auto_columns": null,
            "margin": null,
            "display": null,
            "left": null
          }
        },
        "c24de7f648bc401682239e46fdf0e181": {
          "model_module": "@jupyter-widgets/controls",
          "model_name": "DescriptionStyleModel",
          "state": {
            "_view_name": "StyleView",
            "_model_name": "DescriptionStyleModel",
            "description_width": "",
            "_view_module": "@jupyter-widgets/base",
            "_model_module_version": "1.5.0",
            "_view_count": null,
            "_view_module_version": "1.2.0",
            "_model_module": "@jupyter-widgets/controls"
          }
        },
        "429b6d832c774a9cbfe5006a79a87925": {
          "model_module": "@jupyter-widgets/base",
          "model_name": "LayoutModel",
          "state": {
            "_view_name": "LayoutView",
            "grid_template_rows": null,
            "right": null,
            "justify_content": null,
            "_view_module": "@jupyter-widgets/base",
            "overflow": null,
            "_model_module_version": "1.2.0",
            "_view_count": null,
            "flex_flow": null,
            "width": null,
            "min_width": null,
            "border": null,
            "align_items": null,
            "bottom": null,
            "_model_module": "@jupyter-widgets/base",
            "top": null,
            "grid_column": null,
            "overflow_y": null,
            "overflow_x": null,
            "grid_auto_flow": null,
            "grid_area": null,
            "grid_template_columns": null,
            "flex": null,
            "_model_name": "LayoutModel",
            "justify_items": null,
            "grid_row": null,
            "max_height": null,
            "align_content": null,
            "visibility": null,
            "align_self": null,
            "height": null,
            "min_height": null,
            "padding": null,
            "grid_auto_rows": null,
            "grid_gap": null,
            "max_width": null,
            "order": null,
            "_view_module_version": "1.2.0",
            "grid_template_areas": null,
            "object_position": null,
            "object_fit": null,
            "grid_auto_columns": null,
            "margin": null,
            "display": null,
            "left": null
          }
        },
        "d3809fa681ee42f9aae091064533f7e6": {
          "model_module": "@jupyter-widgets/controls",
          "model_name": "HBoxModel",
          "state": {
            "_view_name": "HBoxView",
            "_dom_classes": [],
            "_model_name": "HBoxModel",
            "_view_module": "@jupyter-widgets/controls",
            "_model_module_version": "1.5.0",
            "_view_count": null,
            "_view_module_version": "1.5.0",
            "box_style": "",
            "layout": "IPY_MODEL_4753cb83e9b44b979ccb05b75a27b4f6",
            "_model_module": "@jupyter-widgets/controls",
            "children": [
              "IPY_MODEL_c3b7f8ea0e914d8bbfa29fe1f0f282a8",
              "IPY_MODEL_a38b3a766bab416b9f1339da7c9a4aa9"
            ]
          }
        },
        "4753cb83e9b44b979ccb05b75a27b4f6": {
          "model_module": "@jupyter-widgets/base",
          "model_name": "LayoutModel",
          "state": {
            "_view_name": "LayoutView",
            "grid_template_rows": null,
            "right": null,
            "justify_content": null,
            "_view_module": "@jupyter-widgets/base",
            "overflow": null,
            "_model_module_version": "1.2.0",
            "_view_count": null,
            "flex_flow": null,
            "width": null,
            "min_width": null,
            "border": null,
            "align_items": null,
            "bottom": null,
            "_model_module": "@jupyter-widgets/base",
            "top": null,
            "grid_column": null,
            "overflow_y": null,
            "overflow_x": null,
            "grid_auto_flow": null,
            "grid_area": null,
            "grid_template_columns": null,
            "flex": null,
            "_model_name": "LayoutModel",
            "justify_items": null,
            "grid_row": null,
            "max_height": null,
            "align_content": null,
            "visibility": null,
            "align_self": null,
            "height": null,
            "min_height": null,
            "padding": null,
            "grid_auto_rows": null,
            "grid_gap": null,
            "max_width": null,
            "order": null,
            "_view_module_version": "1.2.0",
            "grid_template_areas": null,
            "object_position": null,
            "object_fit": null,
            "grid_auto_columns": null,
            "margin": null,
            "display": null,
            "left": null
          }
        },
        "c3b7f8ea0e914d8bbfa29fe1f0f282a8": {
          "model_module": "@jupyter-widgets/controls",
          "model_name": "IntProgressModel",
          "state": {
            "_view_name": "ProgressView",
            "style": "IPY_MODEL_8538a04aca784a2a930907c466de2494",
            "_dom_classes": [],
            "description": "Computing statistics...",
            "_model_name": "IntProgressModel",
            "bar_style": "success",
            "max": 2,
            "_view_module": "@jupyter-widgets/controls",
            "_model_module_version": "1.5.0",
            "value": 2,
            "_view_count": null,
            "_view_module_version": "1.5.0",
            "orientation": "horizontal",
            "min": 0,
            "description_tooltip": null,
            "_model_module": "@jupyter-widgets/controls",
            "layout": "IPY_MODEL_e59e1870cff14f398968f5dece4774aa"
          }
        },
        "a38b3a766bab416b9f1339da7c9a4aa9": {
          "model_module": "@jupyter-widgets/controls",
          "model_name": "HTMLModel",
          "state": {
            "_view_name": "HTMLView",
            "style": "IPY_MODEL_74390fdb49564e6d9d35dda1cce1d07d",
            "_dom_classes": [],
            "description": "",
            "_model_name": "HTMLModel",
            "placeholder": "​",
            "_view_module": "@jupyter-widgets/controls",
            "_model_module_version": "1.5.0",
            "value": "100% 2/2 [00:34&lt;00:00, 18.76s/ split]",
            "_view_count": null,
            "_view_module_version": "1.5.0",
            "description_tooltip": null,
            "_model_module": "@jupyter-widgets/controls",
            "layout": "IPY_MODEL_444567f2e8b446b28e858e456cd4bca0"
          }
        },
        "8538a04aca784a2a930907c466de2494": {
          "model_module": "@jupyter-widgets/controls",
          "model_name": "ProgressStyleModel",
          "state": {
            "_view_name": "StyleView",
            "_model_name": "ProgressStyleModel",
            "description_width": "initial",
            "_view_module": "@jupyter-widgets/base",
            "_model_module_version": "1.5.0",
            "_view_count": null,
            "_view_module_version": "1.2.0",
            "bar_color": null,
            "_model_module": "@jupyter-widgets/controls"
          }
        },
        "e59e1870cff14f398968f5dece4774aa": {
          "model_module": "@jupyter-widgets/base",
          "model_name": "LayoutModel",
          "state": {
            "_view_name": "LayoutView",
            "grid_template_rows": null,
            "right": null,
            "justify_content": null,
            "_view_module": "@jupyter-widgets/base",
            "overflow": null,
            "_model_module_version": "1.2.0",
            "_view_count": null,
            "flex_flow": null,
            "width": null,
            "min_width": null,
            "border": null,
            "align_items": null,
            "bottom": null,
            "_model_module": "@jupyter-widgets/base",
            "top": null,
            "grid_column": null,
            "overflow_y": null,
            "overflow_x": null,
            "grid_auto_flow": null,
            "grid_area": null,
            "grid_template_columns": null,
            "flex": null,
            "_model_name": "LayoutModel",
            "justify_items": null,
            "grid_row": null,
            "max_height": null,
            "align_content": null,
            "visibility": null,
            "align_self": null,
            "height": null,
            "min_height": null,
            "padding": null,
            "grid_auto_rows": null,
            "grid_gap": null,
            "max_width": null,
            "order": null,
            "_view_module_version": "1.2.0",
            "grid_template_areas": null,
            "object_position": null,
            "object_fit": null,
            "grid_auto_columns": null,
            "margin": null,
            "display": null,
            "left": null
          }
        },
        "74390fdb49564e6d9d35dda1cce1d07d": {
          "model_module": "@jupyter-widgets/controls",
          "model_name": "DescriptionStyleModel",
          "state": {
            "_view_name": "StyleView",
            "_model_name": "DescriptionStyleModel",
            "description_width": "",
            "_view_module": "@jupyter-widgets/base",
            "_model_module_version": "1.5.0",
            "_view_count": null,
            "_view_module_version": "1.2.0",
            "_model_module": "@jupyter-widgets/controls"
          }
        },
        "444567f2e8b446b28e858e456cd4bca0": {
          "model_module": "@jupyter-widgets/base",
          "model_name": "LayoutModel",
          "state": {
            "_view_name": "LayoutView",
            "grid_template_rows": null,
            "right": null,
            "justify_content": null,
            "_view_module": "@jupyter-widgets/base",
            "overflow": null,
            "_model_module_version": "1.2.0",
            "_view_count": null,
            "flex_flow": null,
            "width": null,
            "min_width": null,
            "border": null,
            "align_items": null,
            "bottom": null,
            "_model_module": "@jupyter-widgets/base",
            "top": null,
            "grid_column": null,
            "overflow_y": null,
            "overflow_x": null,
            "grid_auto_flow": null,
            "grid_area": null,
            "grid_template_columns": null,
            "flex": null,
            "_model_name": "LayoutModel",
            "justify_items": null,
            "grid_row": null,
            "max_height": null,
            "align_content": null,
            "visibility": null,
            "align_self": null,
            "height": null,
            "min_height": null,
            "padding": null,
            "grid_auto_rows": null,
            "grid_gap": null,
            "max_width": null,
            "order": null,
            "_view_module_version": "1.2.0",
            "grid_template_areas": null,
            "object_position": null,
            "object_fit": null,
            "grid_auto_columns": null,
            "margin": null,
            "display": null,
            "left": null
          }
        },
        "016a0755047947bbbeb24d75768cb866": {
          "model_module": "@jupyter-widgets/controls",
          "model_name": "HBoxModel",
          "state": {
            "_view_name": "HBoxView",
            "_dom_classes": [],
            "_model_name": "HBoxModel",
            "_view_module": "@jupyter-widgets/controls",
            "_model_module_version": "1.5.0",
            "_view_count": null,
            "_view_module_version": "1.5.0",
            "box_style": "",
            "layout": "IPY_MODEL_014d24b988fb441595ee16aec5541bdf",
            "_model_module": "@jupyter-widgets/controls",
            "children": [
              "IPY_MODEL_44b3740409944f2dac2bf224eec57555",
              "IPY_MODEL_7d6fe5660f214ee9a3396ccc0481d11e"
            ]
          }
        },
        "014d24b988fb441595ee16aec5541bdf": {
          "model_module": "@jupyter-widgets/base",
          "model_name": "LayoutModel",
          "state": {
            "_view_name": "LayoutView",
            "grid_template_rows": null,
            "right": null,
            "justify_content": null,
            "_view_module": "@jupyter-widgets/base",
            "overflow": null,
            "_model_module_version": "1.2.0",
            "_view_count": null,
            "flex_flow": null,
            "width": null,
            "min_width": null,
            "border": null,
            "align_items": null,
            "bottom": null,
            "_model_module": "@jupyter-widgets/base",
            "top": null,
            "grid_column": null,
            "overflow_y": null,
            "overflow_x": null,
            "grid_auto_flow": null,
            "grid_area": null,
            "grid_template_columns": null,
            "flex": null,
            "_model_name": "LayoutModel",
            "justify_items": null,
            "grid_row": null,
            "max_height": null,
            "align_content": null,
            "visibility": null,
            "align_self": null,
            "height": null,
            "min_height": null,
            "padding": null,
            "grid_auto_rows": null,
            "grid_gap": null,
            "max_width": null,
            "order": null,
            "_view_module_version": "1.2.0",
            "grid_template_areas": null,
            "object_position": null,
            "object_fit": null,
            "grid_auto_columns": null,
            "margin": null,
            "display": null,
            "left": null
          }
        },
        "44b3740409944f2dac2bf224eec57555": {
          "model_module": "@jupyter-widgets/controls",
          "model_name": "IntProgressModel",
          "state": {
            "_view_name": "ProgressView",
            "style": "IPY_MODEL_3d633c9bc9b04429b4343cef3630c47d",
            "_dom_classes": [],
            "description": "",
            "_model_name": "IntProgressModel",
            "bar_style": "info",
            "max": 1,
            "_view_module": "@jupyter-widgets/controls",
            "_model_module_version": "1.5.0",
            "value": 1,
            "_view_count": null,
            "_view_module_version": "1.5.0",
            "orientation": "horizontal",
            "min": 0,
            "description_tooltip": null,
            "_model_module": "@jupyter-widgets/controls",
            "layout": "IPY_MODEL_eaaf0cef7ce9433f990b0a91e428f68e"
          }
        },
        "7d6fe5660f214ee9a3396ccc0481d11e": {
          "model_module": "@jupyter-widgets/controls",
          "model_name": "HTMLModel",
          "state": {
            "_view_name": "HTMLView",
            "style": "IPY_MODEL_0d187ee97ef04ad195e658aeb8f69db3",
            "_dom_classes": [],
            "description": "",
            "_model_name": "HTMLModel",
            "placeholder": "​",
            "_view_module": "@jupyter-widgets/controls",
            "_model_module_version": "1.5.0",
            "value": "3641 examples [00:19, 264.53 examples/s]",
            "_view_count": null,
            "_view_module_version": "1.5.0",
            "description_tooltip": null,
            "_model_module": "@jupyter-widgets/controls",
            "layout": "IPY_MODEL_9bc9a640077c45db81fb29314aa00f01"
          }
        },
        "3d633c9bc9b04429b4343cef3630c47d": {
          "model_module": "@jupyter-widgets/controls",
          "model_name": "ProgressStyleModel",
          "state": {
            "_view_name": "StyleView",
            "_model_name": "ProgressStyleModel",
            "description_width": "",
            "_view_module": "@jupyter-widgets/base",
            "_model_module_version": "1.5.0",
            "_view_count": null,
            "_view_module_version": "1.2.0",
            "bar_color": null,
            "_model_module": "@jupyter-widgets/controls"
          }
        },
        "eaaf0cef7ce9433f990b0a91e428f68e": {
          "model_module": "@jupyter-widgets/base",
          "model_name": "LayoutModel",
          "state": {
            "_view_name": "LayoutView",
            "grid_template_rows": null,
            "right": null,
            "justify_content": null,
            "_view_module": "@jupyter-widgets/base",
            "overflow": null,
            "_model_module_version": "1.2.0",
            "_view_count": null,
            "flex_flow": null,
            "width": null,
            "min_width": null,
            "border": null,
            "align_items": null,
            "bottom": null,
            "_model_module": "@jupyter-widgets/base",
            "top": null,
            "grid_column": null,
            "overflow_y": null,
            "overflow_x": null,
            "grid_auto_flow": null,
            "grid_area": null,
            "grid_template_columns": null,
            "flex": null,
            "_model_name": "LayoutModel",
            "justify_items": null,
            "grid_row": null,
            "max_height": null,
            "align_content": null,
            "visibility": null,
            "align_self": null,
            "height": null,
            "min_height": null,
            "padding": null,
            "grid_auto_rows": null,
            "grid_gap": null,
            "max_width": null,
            "order": null,
            "_view_module_version": "1.2.0",
            "grid_template_areas": null,
            "object_position": null,
            "object_fit": null,
            "grid_auto_columns": null,
            "margin": null,
            "display": null,
            "left": null
          }
        },
        "0d187ee97ef04ad195e658aeb8f69db3": {
          "model_module": "@jupyter-widgets/controls",
          "model_name": "DescriptionStyleModel",
          "state": {
            "_view_name": "StyleView",
            "_model_name": "DescriptionStyleModel",
            "description_width": "",
            "_view_module": "@jupyter-widgets/base",
            "_model_module_version": "1.5.0",
            "_view_count": null,
            "_view_module_version": "1.2.0",
            "_model_module": "@jupyter-widgets/controls"
          }
        },
        "9bc9a640077c45db81fb29314aa00f01": {
          "model_module": "@jupyter-widgets/base",
          "model_name": "LayoutModel",
          "state": {
            "_view_name": "LayoutView",
            "grid_template_rows": null,
            "right": null,
            "justify_content": null,
            "_view_module": "@jupyter-widgets/base",
            "overflow": null,
            "_model_module_version": "1.2.0",
            "_view_count": null,
            "flex_flow": null,
            "width": null,
            "min_width": null,
            "border": null,
            "align_items": null,
            "bottom": null,
            "_model_module": "@jupyter-widgets/base",
            "top": null,
            "grid_column": null,
            "overflow_y": null,
            "overflow_x": null,
            "grid_auto_flow": null,
            "grid_area": null,
            "grid_template_columns": null,
            "flex": null,
            "_model_name": "LayoutModel",
            "justify_items": null,
            "grid_row": null,
            "max_height": null,
            "align_content": null,
            "visibility": null,
            "align_self": null,
            "height": null,
            "min_height": null,
            "padding": null,
            "grid_auto_rows": null,
            "grid_gap": null,
            "max_width": null,
            "order": null,
            "_view_module_version": "1.2.0",
            "grid_template_areas": null,
            "object_position": null,
            "object_fit": null,
            "grid_auto_columns": null,
            "margin": null,
            "display": null,
            "left": null
          }
        },
        "5b6c42f807c94436b7b3d28fe46b176c": {
          "model_module": "@jupyter-widgets/controls",
          "model_name": "HBoxModel",
          "state": {
            "_view_name": "HBoxView",
            "_dom_classes": [],
            "_model_name": "HBoxModel",
            "_view_module": "@jupyter-widgets/controls",
            "_model_module_version": "1.5.0",
            "_view_count": null,
            "_view_module_version": "1.5.0",
            "box_style": "",
            "layout": "IPY_MODEL_733a595a128a4398b7fd8c0de3ee59bb",
            "_model_module": "@jupyter-widgets/controls",
            "children": [
              "IPY_MODEL_12872368d5ee44ee9aef479d30a1df2b",
              "IPY_MODEL_7200d4101c704dd5884eda2559e41fcf"
            ]
          }
        },
        "733a595a128a4398b7fd8c0de3ee59bb": {
          "model_module": "@jupyter-widgets/base",
          "model_name": "LayoutModel",
          "state": {
            "_view_name": "LayoutView",
            "grid_template_rows": null,
            "right": null,
            "justify_content": null,
            "_view_module": "@jupyter-widgets/base",
            "overflow": null,
            "_model_module_version": "1.2.0",
            "_view_count": null,
            "flex_flow": null,
            "width": null,
            "min_width": null,
            "border": null,
            "align_items": null,
            "bottom": null,
            "_model_module": "@jupyter-widgets/base",
            "top": null,
            "grid_column": null,
            "overflow_y": null,
            "overflow_x": null,
            "grid_auto_flow": null,
            "grid_area": null,
            "grid_template_columns": null,
            "flex": null,
            "_model_name": "LayoutModel",
            "justify_items": null,
            "grid_row": null,
            "max_height": null,
            "align_content": null,
            "visibility": null,
            "align_self": null,
            "height": null,
            "min_height": null,
            "padding": null,
            "grid_auto_rows": null,
            "grid_gap": null,
            "max_width": null,
            "order": null,
            "_view_module_version": "1.2.0",
            "grid_template_areas": null,
            "object_position": null,
            "object_fit": null,
            "grid_auto_columns": null,
            "margin": null,
            "display": null,
            "left": null
          }
        },
        "12872368d5ee44ee9aef479d30a1df2b": {
          "model_module": "@jupyter-widgets/controls",
          "model_name": "IntProgressModel",
          "state": {
            "_view_name": "ProgressView",
            "style": "IPY_MODEL_ad3c0e2e5ab14559bd8a0272711ed46d",
            "_dom_classes": [],
            "description": "",
            "_model_name": "IntProgressModel",
            "bar_style": "info",
            "max": 1,
            "_view_module": "@jupyter-widgets/controls",
            "_model_module_version": "1.5.0",
            "value": 1,
            "_view_count": null,
            "_view_module_version": "1.5.0",
            "orientation": "horizontal",
            "min": 0,
            "description_tooltip": null,
            "_model_module": "@jupyter-widgets/controls",
            "layout": "IPY_MODEL_41d6512c74804494ac7fd8f868effbae"
          }
        },
        "7200d4101c704dd5884eda2559e41fcf": {
          "model_module": "@jupyter-widgets/controls",
          "model_name": "HTMLModel",
          "state": {
            "_view_name": "HTMLView",
            "style": "IPY_MODEL_801b14e808d046f4b8df6e1567968c54",
            "_dom_classes": [],
            "description": "",
            "_model_name": "HTMLModel",
            "placeholder": "​",
            "_view_module": "@jupyter-widgets/controls",
            "_model_module_version": "1.5.0",
            "value": "3677 examples [00:13, 288.94 examples/s]",
            "_view_count": null,
            "_view_module_version": "1.5.0",
            "description_tooltip": null,
            "_model_module": "@jupyter-widgets/controls",
            "layout": "IPY_MODEL_142d37dd377e45fe8fd475a26aa894cf"
          }
        },
        "ad3c0e2e5ab14559bd8a0272711ed46d": {
          "model_module": "@jupyter-widgets/controls",
          "model_name": "ProgressStyleModel",
          "state": {
            "_view_name": "StyleView",
            "_model_name": "ProgressStyleModel",
            "description_width": "",
            "_view_module": "@jupyter-widgets/base",
            "_model_module_version": "1.5.0",
            "_view_count": null,
            "_view_module_version": "1.2.0",
            "bar_color": null,
            "_model_module": "@jupyter-widgets/controls"
          }
        },
        "41d6512c74804494ac7fd8f868effbae": {
          "model_module": "@jupyter-widgets/base",
          "model_name": "LayoutModel",
          "state": {
            "_view_name": "LayoutView",
            "grid_template_rows": null,
            "right": null,
            "justify_content": null,
            "_view_module": "@jupyter-widgets/base",
            "overflow": null,
            "_model_module_version": "1.2.0",
            "_view_count": null,
            "flex_flow": null,
            "width": null,
            "min_width": null,
            "border": null,
            "align_items": null,
            "bottom": null,
            "_model_module": "@jupyter-widgets/base",
            "top": null,
            "grid_column": null,
            "overflow_y": null,
            "overflow_x": null,
            "grid_auto_flow": null,
            "grid_area": null,
            "grid_template_columns": null,
            "flex": null,
            "_model_name": "LayoutModel",
            "justify_items": null,
            "grid_row": null,
            "max_height": null,
            "align_content": null,
            "visibility": null,
            "align_self": null,
            "height": null,
            "min_height": null,
            "padding": null,
            "grid_auto_rows": null,
            "grid_gap": null,
            "max_width": null,
            "order": null,
            "_view_module_version": "1.2.0",
            "grid_template_areas": null,
            "object_position": null,
            "object_fit": null,
            "grid_auto_columns": null,
            "margin": null,
            "display": null,
            "left": null
          }
        },
        "801b14e808d046f4b8df6e1567968c54": {
          "model_module": "@jupyter-widgets/controls",
          "model_name": "DescriptionStyleModel",
          "state": {
            "_view_name": "StyleView",
            "_model_name": "DescriptionStyleModel",
            "description_width": "",
            "_view_module": "@jupyter-widgets/base",
            "_model_module_version": "1.5.0",
            "_view_count": null,
            "_view_module_version": "1.2.0",
            "_model_module": "@jupyter-widgets/controls"
          }
        },
        "142d37dd377e45fe8fd475a26aa894cf": {
          "model_module": "@jupyter-widgets/base",
          "model_name": "LayoutModel",
          "state": {
            "_view_name": "LayoutView",
            "grid_template_rows": null,
            "right": null,
            "justify_content": null,
            "_view_module": "@jupyter-widgets/base",
            "overflow": null,
            "_model_module_version": "1.2.0",
            "_view_count": null,
            "flex_flow": null,
            "width": null,
            "min_width": null,
            "border": null,
            "align_items": null,
            "bottom": null,
            "_model_module": "@jupyter-widgets/base",
            "top": null,
            "grid_column": null,
            "overflow_y": null,
            "overflow_x": null,
            "grid_auto_flow": null,
            "grid_area": null,
            "grid_template_columns": null,
            "flex": null,
            "_model_name": "LayoutModel",
            "justify_items": null,
            "grid_row": null,
            "max_height": null,
            "align_content": null,
            "visibility": null,
            "align_self": null,
            "height": null,
            "min_height": null,
            "padding": null,
            "grid_auto_rows": null,
            "grid_gap": null,
            "max_width": null,
            "order": null,
            "_view_module_version": "1.2.0",
            "grid_template_areas": null,
            "object_position": null,
            "object_fit": null,
            "grid_auto_columns": null,
            "margin": null,
            "display": null,
            "left": null
          }
        }
      }
    }
  },
  "cells": [
    {
      "cell_type": "markdown",
      "metadata": {
        "id": "WwlcollR9BIL",
        "colab_type": "text"
      },
      "source": [
        "## **Background Removal with the One-Hundred Layers Tiramisu Model**\n",
        "\n",
        "\n",
        "---\n",
        "\n",
        "Background removal is a very useful form of machine learning. Over the years, there have been many models created to try and improve on this task. Today, we will look at the Tiramisu Model, and implement it in Keras.\n",
        "\n",
        "### **What is the Tiramisu Model?**\n",
        "\n",
        "The Tiramisu Model (also known as the One-Hundred layer Tiramisu Model), is a deep convolutional neural network composed of 103 layers (contrary to the name), created by the researchers in [this paper](https://arxiv.org/pdf/1611.09326.pdf). It is often used for image segmentation, and in this application we will use it to separate a pet from the background.\n",
        "\n",
        "Before we get into building this model, let's load our libraries."
      ]
    },
    {
      "cell_type": "code",
      "metadata": {
        "id": "whRiv7P_lM1a",
        "colab_type": "code",
        "outputId": "274ac3f0-9bae-44b6-ab35-a9c1e11dcf26",
        "colab": {
          "base_uri": "https://localhost:8080/",
          "height": 34
        }
      },
      "source": [
        "%tensorflow_version 2.x\n",
        "import tensorflow as tf\n",
        "import numpy as np\n",
        "import matplotlib.pyplot as plt\n",
        "import tensorflow_datasets as tfds\n",
        "from tensorflow import keras\n",
        "import datetime"
      ],
      "execution_count": 1,
      "outputs": [
        {
          "output_type": "stream",
          "text": [
            "TensorFlow 2.x selected.\n"
          ],
          "name": "stdout"
        }
      ]
    },
    {
      "cell_type": "markdown",
      "metadata": {
        "id": "duudIKj8-mNV",
        "colab_type": "text"
      },
      "source": [
        "We will be using the Oxford Pet dataset to train. It consists of images, labels representing which type of cat/dog the pet is (will not be used in this background removal task), and a segmentation mask which separates the pet from the background. The mask is a set of pixels where each pixel is a 1, 2, or 3 - a 1 represents a pixel within the object, a 2 represents a pixel bordering the object, and a 3 represents a pixel without the object. Since we have concrete outputs, our problem here is a classification problem.\n",
        "\n",
        "Thankfully, TensorFlow Datasets already has this dataset in its library, so we will simply load it from there."
      ]
    },
    {
      "cell_type": "code",
      "metadata": {
        "id": "XCVZQDSblO1I",
        "colab_type": "code",
        "outputId": "69f4a008-90b9-4f7a-e5ef-ca089215a5ed",
        "colab": {
          "base_uri": "https://localhost:8080/",
          "height": 298,
          "referenced_widgets": [
            "0464a7c744814d95a3fc5189829042a6",
            "c34b457d7e574c0db75bb5151112a3a7",
            "9b2be727031c4c7ba891ce3b85b0759e",
            "6dd6462add3a4186af5a507c9a5aecc5",
            "ad71a44a123e4db0b637c3dfb43b05d9",
            "87f30f58732b4f43bf71e3d53a902694",
            "674135403c3f4ce4982cc27903f332f5",
            "b07e95fce9064bae8a950cd08cd728cf",
            "8fbeafd618224b6cba6c04861c7188f8",
            "216f06a05c3f4eef989a0b8f55224ab2",
            "0017cb4b04ef4291b218e445d752b06e",
            "fb5571da7df4431792a5e15b36be1357",
            "0c13fd8a5d7c45978867895267f442d7",
            "f4215907eeff4d2eba8c451330eec14b",
            "4b01833b310c45408f6bd99a976e7df7",
            "9aeda4c6d21945dcba6d5ffdd065b210",
            "36253a0a61cc49d1b0988b317d2d0d6a",
            "2eb89881e1464383a3b690100fa785e1",
            "27427a423ef84998a14006edffbe3679",
            "dff7512a13814b449f42b72b6f69eb0f",
            "0ffdba01d7a34ccc9d225475d921a50b",
            "2dbfd9a719db44b68e602d6740227900",
            "c65e2e861ccf4269ae4ce3987911ffa7",
            "bf5ed563a83849188e498ec76c89833e",
            "0ddfffbab93c4bf2a28eec0404fcffee",
            "beda194f447942c49cef2bbf8792a754",
            "909b19583c2d488e80b5549078ce7091",
            "0befcfde49094cb0ad3493533700f4c1",
            "d5eb6998b52842e8a3e8c3de84731502",
            "3ae99a1384fc4db38e9499b64abacc51",
            "51dfda9a50174c81a12fda88743708b1",
            "6f6078f119bf41deb733ed1c30601448",
            "9b54372e90b8499fadd77b5c7d0fd5a6",
            "ea6029f22cfe4ed586c41d7e58a7fb5b",
            "6f00c262eb574f7b93367a0bce9ce6e3",
            "aad92e1e0c8448cc95044757f8371353",
            "6efd4ff961504f0380853689c4dd80b8",
            "e0366bf31b1c416680d79397569ca7b6",
            "079b9f65f0c84b3cbd3df0a8b5ca05b6",
            "cf9040c1997944cbb27958365a3db9ca",
            "bab24a4b06854ec0ad4a57e22217843e",
            "18d9ccfd4f2d427599447c7dff5f6835",
            "c8bc2dc310c745bf8b4550304b7d2d1d",
            "c063e74a59b549de915de8c289a077e2",
            "2a51454a2cb44a2daefca1143f9213d5",
            "2f74c08e7dd742808ff6f0eb81fc426e",
            "09c22e516c1e4b89a2a9877751773f64",
            "56aea98453e14b349ad53f5a7a516c02",
            "2dbdb87517ee4bd6afb294fdc63db610",
            "50ab5b914b494d7192498f4802e0b743",
            "b0c3ce2f2d364baf827e44ef197cc061",
            "1525b743ddc947b2b073b2b18a26d683",
            "e8aa831d5b5c47bc955c3c8894ca3b22",
            "20db43fb031a4c2290a751c289a9c2c9",
            "c24de7f648bc401682239e46fdf0e181",
            "429b6d832c774a9cbfe5006a79a87925",
            "d3809fa681ee42f9aae091064533f7e6",
            "4753cb83e9b44b979ccb05b75a27b4f6",
            "c3b7f8ea0e914d8bbfa29fe1f0f282a8",
            "a38b3a766bab416b9f1339da7c9a4aa9",
            "8538a04aca784a2a930907c466de2494",
            "e59e1870cff14f398968f5dece4774aa",
            "74390fdb49564e6d9d35dda1cce1d07d",
            "444567f2e8b446b28e858e456cd4bca0",
            "016a0755047947bbbeb24d75768cb866",
            "014d24b988fb441595ee16aec5541bdf",
            "44b3740409944f2dac2bf224eec57555",
            "7d6fe5660f214ee9a3396ccc0481d11e",
            "3d633c9bc9b04429b4343cef3630c47d",
            "eaaf0cef7ce9433f990b0a91e428f68e",
            "0d187ee97ef04ad195e658aeb8f69db3",
            "9bc9a640077c45db81fb29314aa00f01",
            "5b6c42f807c94436b7b3d28fe46b176c",
            "733a595a128a4398b7fd8c0de3ee59bb",
            "12872368d5ee44ee9aef479d30a1df2b",
            "7200d4101c704dd5884eda2559e41fcf",
            "ad3c0e2e5ab14559bd8a0272711ed46d",
            "41d6512c74804494ac7fd8f868effbae",
            "801b14e808d046f4b8df6e1567968c54",
            "142d37dd377e45fe8fd475a26aa894cf"
          ]
        }
      },
      "source": [
        "data = tfds.load('oxford_iiit_pet:3.*.*')"
      ],
      "execution_count": 2,
      "outputs": [
        {
          "output_type": "stream",
          "text": [
            "\u001b[1mDownloading and preparing dataset oxford_iiit_pet (801.24 MiB) to /root/tensorflow_datasets/oxford_iiit_pet/3.0.0...\u001b[0m\n"
          ],
          "name": "stdout"
        },
        {
          "output_type": "display_data",
          "data": {
            "application/vnd.jupyter.widget-view+json": {
              "model_id": "0464a7c744814d95a3fc5189829042a6",
              "version_minor": 0,
              "version_major": 2
            },
            "text/plain": [
              "HBox(children=(IntProgress(value=1, bar_style='info', description='Dl Completed...', max=1, style=ProgressStyl…"
            ]
          },
          "metadata": {
            "tags": []
          }
        },
        {
          "output_type": "display_data",
          "data": {
            "application/vnd.jupyter.widget-view+json": {
              "model_id": "8fbeafd618224b6cba6c04861c7188f8",
              "version_minor": 0,
              "version_major": 2
            },
            "text/plain": [
              "HBox(children=(IntProgress(value=1, bar_style='info', description='Dl Size...', max=1, style=ProgressStyle(des…"
            ]
          },
          "metadata": {
            "tags": []
          }
        },
        {
          "output_type": "display_data",
          "data": {
            "application/vnd.jupyter.widget-view+json": {
              "model_id": "36253a0a61cc49d1b0988b317d2d0d6a",
              "version_minor": 0,
              "version_major": 2
            },
            "text/plain": [
              "HBox(children=(IntProgress(value=1, bar_style='info', description='Extraction completed...', max=1, style=Prog…"
            ]
          },
          "metadata": {
            "tags": []
          }
        },
        {
          "output_type": "stream",
          "text": [
            "\n",
            "\n",
            "\n",
            "\n"
          ],
          "name": "stdout"
        },
        {
          "output_type": "display_data",
          "data": {
            "application/vnd.jupyter.widget-view+json": {
              "model_id": "0ddfffbab93c4bf2a28eec0404fcffee",
              "version_minor": 0,
              "version_major": 2
            },
            "text/plain": [
              "HBox(children=(IntProgress(value=1, bar_style='info', max=1), HTML(value='')))"
            ]
          },
          "metadata": {
            "tags": []
          }
        },
        {
          "output_type": "stream",
          "text": [
            "\rShuffling and writing examples to /root/tensorflow_datasets/oxford_iiit_pet/3.0.0.incompleteZR32UO/oxford_iiit_pet-train.tfrecord\n"
          ],
          "name": "stdout"
        },
        {
          "output_type": "display_data",
          "data": {
            "application/vnd.jupyter.widget-view+json": {
              "model_id": "9b54372e90b8499fadd77b5c7d0fd5a6",
              "version_minor": 0,
              "version_major": 2
            },
            "text/plain": [
              "HBox(children=(IntProgress(value=0, max=3680), HTML(value='')))"
            ]
          },
          "metadata": {
            "tags": []
          }
        },
        {
          "output_type": "stream",
          "text": [
            "\r"
          ],
          "name": "stdout"
        },
        {
          "output_type": "display_data",
          "data": {
            "application/vnd.jupyter.widget-view+json": {
              "model_id": "bab24a4b06854ec0ad4a57e22217843e",
              "version_minor": 0,
              "version_major": 2
            },
            "text/plain": [
              "HBox(children=(IntProgress(value=1, bar_style='info', max=1), HTML(value='')))"
            ]
          },
          "metadata": {
            "tags": []
          }
        },
        {
          "output_type": "stream",
          "text": [
            "\rShuffling and writing examples to /root/tensorflow_datasets/oxford_iiit_pet/3.0.0.incompleteZR32UO/oxford_iiit_pet-test.tfrecord\n"
          ],
          "name": "stdout"
        },
        {
          "output_type": "display_data",
          "data": {
            "application/vnd.jupyter.widget-view+json": {
              "model_id": "2dbdb87517ee4bd6afb294fdc63db610",
              "version_minor": 0,
              "version_major": 2
            },
            "text/plain": [
              "HBox(children=(IntProgress(value=0, max=3669), HTML(value='')))"
            ]
          },
          "metadata": {
            "tags": []
          }
        },
        {
          "output_type": "stream",
          "text": [
            "\r"
          ],
          "name": "stdout"
        },
        {
          "output_type": "display_data",
          "data": {
            "application/vnd.jupyter.widget-view+json": {
              "model_id": "d3809fa681ee42f9aae091064533f7e6",
              "version_minor": 0,
              "version_major": 2
            },
            "text/plain": [
              "HBox(children=(IntProgress(value=0, description='Computing statistics...', max=2, style=ProgressStyle(descript…"
            ]
          },
          "metadata": {
            "tags": []
          }
        },
        {
          "output_type": "display_data",
          "data": {
            "application/vnd.jupyter.widget-view+json": {
              "model_id": "016a0755047947bbbeb24d75768cb866",
              "version_minor": 0,
              "version_major": 2
            },
            "text/plain": [
              "HBox(children=(IntProgress(value=1, bar_style='info', max=1), HTML(value='')))"
            ]
          },
          "metadata": {
            "tags": []
          }
        },
        {
          "output_type": "display_data",
          "data": {
            "application/vnd.jupyter.widget-view+json": {
              "model_id": "5b6c42f807c94436b7b3d28fe46b176c",
              "version_minor": 0,
              "version_major": 2
            },
            "text/plain": [
              "HBox(children=(IntProgress(value=1, bar_style='info', max=1), HTML(value='')))"
            ]
          },
          "metadata": {
            "tags": []
          }
        },
        {
          "output_type": "stream",
          "text": [
            "\n",
            "\u001b[1mDataset oxford_iiit_pet downloaded and prepared to /root/tensorflow_datasets/oxford_iiit_pet/3.0.0. Subsequent calls will reuse this data.\u001b[0m\n"
          ],
          "name": "stdout"
        }
      ]
    },
    {
      "cell_type": "markdown",
      "metadata": {
        "id": "TS3125Eo-2Nv",
        "colab_type": "text"
      },
      "source": [
        "Let's also normalize the data. The following code resizes the images and masks to be `64x64` rather than `128x128` (as that would be too computationally expensive, and outside the hardware capability of Google Colab), normalizes the images to be between ```[0, 1]``` by dividing by 255, and the masks to be values in the set of `{0, 1, 2}` by subtracting 1."
      ]
    },
    {
      "cell_type": "code",
      "metadata": {
        "id": "m_YenAPelQQe",
        "colab_type": "code",
        "colab": {}
      },
      "source": [
        "size = 64\n",
        "\n",
        "def normalizeImage(image):\n",
        "  return tf.cast(image, tf.float32) / 255\n",
        "\n",
        "def normalizeMask(mask):\n",
        "  return mask - 1\n",
        "\n",
        "def generateData(dataset):\n",
        "  x_train, y_train, x_test, y_test = [], [], [], []\n",
        "  for example in dataset['train']:\n",
        "    x_train.append(normalizeImage(tf.image.resize(example['image'], (size, size))).numpy())\n",
        "    y_train.append(normalizeMask(tf.image.resize(example['segmentation_mask'], (size, size))).numpy())\n",
        "  for example in dataset['test']:\n",
        "    x_test.append(normalizeImage(tf.image.resize(example['image'], (size, size))).numpy())\n",
        "    y_test.append(normalizeMask(tf.image.resize(example['segmentation_mask'], (size, size))).numpy())\n",
        "  return [np.array(x_train), np.array(x_test)], [np.array(y_train), np.array(y_test)]\n",
        "\n",
        "(x_train, x_test), (y_train, y_test) = generateData(data)"
      ],
      "execution_count": 0,
      "outputs": []
    },
    {
      "cell_type": "markdown",
      "metadata": {
        "id": "NBhl7CKrBFib",
        "colab_type": "text"
      },
      "source": [
        "Let's visualize what the image and segmentation masks look like (separately)."
      ]
    },
    {
      "cell_type": "code",
      "metadata": {
        "id": "z7tq7pWroHrV",
        "colab_type": "code",
        "outputId": "e7a2014a-1867-443a-8e61-058614b9fa23",
        "colab": {
          "base_uri": "https://localhost:8080/",
          "height": 519
        }
      },
      "source": [
        "plt.imshow(x_train[0])\n",
        "plt.show()\n",
        "plt.imshow(y_train[0].reshape((64, 64)))\n",
        "plt.show()"
      ],
      "execution_count": 4,
      "outputs": [
        {
          "output_type": "display_data",
          "data": {
            "image/png": "[encoded data removed]",
            "text/plain": [
              "<Figure size 432x288 with 1 Axes>"
            ]
          },
          "metadata": {
            "tags": []
          }
        },
        {
          "output_type": "display_data",
          "data": {
            "image/png": "[encoded data removed]",
            "text/plain": [
              "<Figure size 432x288 with 1 Axes>"
            ]
          },
          "metadata": {
            "tags": []
          }
        }
      ]
    },
    {
      "cell_type": "markdown",
      "metadata": {
        "id": "oYwgp0O3BSUu",
        "colab_type": "text"
      },
      "source": [
        "Now let's see what the image looks like with a segmentation mask overlayed on top of it."
      ]
    },
    {
      "cell_type": "code",
      "metadata": {
        "id": "s7V-lRZsBWjb",
        "colab_type": "code",
        "outputId": "ea1a53d9-9ea3-42be-c15f-32fedba3fdc7",
        "colab": {
          "base_uri": "https://localhost:8080/",
          "height": 268
        }
      },
      "source": [
        "plt.imshow(x_train[0], cmap='gray')\n",
        "plt.imshow(y_train[0].reshape((64, 64)), cmap='jet', alpha=0.5)\n",
        "plt.show()"
      ],
      "execution_count": 5,
      "outputs": [
        {
          "output_type": "display_data",
          "data": {
            "image/png": "[encoded data removed]",
            "text/plain": [
              "<Figure size 432x288 with 1 Axes>"
            ]
          },
          "metadata": {
            "tags": []
          }
        }
      ]
    },
    {
      "cell_type": "markdown",
      "metadata": {
        "id": "zR1Bv-TMBeyE",
        "colab_type": "text"
      },
      "source": [
        "## **Understanding the Model**\n",
        "\n",
        "\n",
        "\n",
        "---\n",
        "\n",
        "Let's see how to build this model. All the following information and images come from [the paper](https://arxiv.org/pdf/1611.09326.pdf).\n",
        "\n",
        "Let's start by understanding how the model works. It is comprised of a down-path (similar to an encoder), and an up-path (similar to a decoder). The general structure of the model is shown below. In the model, there are three main components - a \"Dense Block,\" a \"Transition Up\" and a \"Transition Down.\" The Dense Block is comprised of \"Layers,\" which we will define later as well.\n",
        "\n",
        "![General Architecture of Tiramisu Model](https://forums.fast.ai/uploads/default/original/2X/f/fc919345aa2105948ca50a55a43f7c5793b0e162.jpg)\n",
        "\n",
        "As we can see, the left-side of the model is comprised of \"Dense Blocks\", followed by concatenation computations and then \"Transition Down\" computations. This cycle is repeated (keep in mind this is a very miniature version of the network, the actual one is much deeper. This is only for visualization). Take note of the skip connections between the down-path and the up-path.\n",
        "\n",
        "The right side is comprised of a similar architecture, but reversed - it starts with a \"Transition Up\" computation, followed by a concatenation computation, and then a Dense Block. Conjoining the two is another Dense Block. The first and last layer are convolutions.\n",
        "\n",
        "Let's see the structure of a Dense Block (note that this is a very small, 4-layer dense block. The ones we will use are much larger).\n",
        "\n",
        "![alt text](https://www.jeremyjordan.me/content/images/2018/05/Screen-Shot-2018-05-20-at-3.42.24-PM.png)\n",
        "\n",
        "As we can see, a Dense Block is comprised of multiple layers and concatenation computations. First, the input is run through a layer (which we will define later) - then, the output of this layer is concatenated to the input to this layer (the original input), and this value is then input into the next layer. The next concatenation computations takes this value (the input into this next layer) and the output of this next layer and concatenates them. This cycle is repeated over and over again, until the very last layer. The last concatenation computation is a concatenation of all of the layer's outputs in the Dense Block - this is then returned as the output.\n",
        "\n",
        "Now let's see what this \"Layer\" inside a Dense Block, \"Transition Up\" and \"Transition Down\" are made of.\n",
        "\n",
        "![](https://miro.medium.com/max/1970/1*1Pj56mTHPNha8Pg58fWJEQ.png)\n",
        "\n",
        "This part is rather straightforward. As you can see above, the \"Layer\" used in our \"Dense Block\" is a computation comprised of batch normalization, a ReLU activation, 3x3 convolutions, and a dropout with a rate of 0.2.\n",
        "\n",
        "The \"Transition Down,\" only used in the down-path, is comprised of batch normalization, ReLU activation, a 1x1 convolution, a dropout with rate 0.2, and 2x2 maxpooling.\n",
        "\n",
        "The \"Transition Up,\" only used in the up-path, is comprised of a single 3x3 transposed convolution with a stride of 2. \n",
        "\n",
        "The full model architecture can be seen below.\n",
        "\n",
        "![](https://forums.fast.ai/uploads/default/original/2X/c/c0e6b43494d60bb50b2d10f95505ee64fd3a09a0.png)\n",
        "\n",
        "Here we can see all the elements from our diagram (note that `m` refers to the output dimensions). It is comprised of a 3x3 convolution, multiple layers of Dense Block + Transition Down groups (in our code, we will create a function for this called `db_td`), dense blocks, multiple layers of Transition Up + Dense Block (in our code, we will create a function for this called `tu_db`), and finally a 1x1 convolution with a softmax activation.\n",
        "\n",
        "Now let's get into the code. We will start by making `layer`, `denseBlock`, `transitionUp`, and `transitionDown`, and then we will make higher-level functions to ease the model creation process.\n",
        "\n"
      ]
    },
    {
      "cell_type": "markdown",
      "metadata": {
        "id": "k99mHul3Nriy",
        "colab_type": "text"
      },
      "source": [
        "## **Designing the Model**\n",
        "\n",
        "\n",
        "\n",
        "---\n",
        "\n",
        "\n",
        "\n",
        "First, let's create the `layer` function, as it will be used in `denseBlock`."
      ]
    },
    {
      "cell_type": "code",
      "metadata": {
        "id": "jPjCwycyNvaD",
        "colab_type": "code",
        "colab": {}
      },
      "source": [
        "def layer(x, filters=16):\n",
        "    x = keras.layers.BatchNormalization()(x)\n",
        "    x = keras.layers.ReLU()(x)\n",
        "    x = keras.layers.Conv2D(filters, kernel_size=(3, 3), padding='same')(x)\n",
        "    x = keras.layers.Dropout(0.2)(x)\n",
        "    return x"
      ],
      "execution_count": 0,
      "outputs": []
    },
    {
      "cell_type": "markdown",
      "metadata": {
        "id": "ZrxeKCT8NxSL",
        "colab_type": "text"
      },
      "source": [
        "This code simply performs the operations mentioned above in keras.\n",
        "Now let's create `denseBlock`."
      ]
    },
    {
      "cell_type": "code",
      "metadata": {
        "id": "afJua5uBN7bl",
        "colab_type": "code",
        "colab": {}
      },
      "source": [
        "def denseBlock(x, layers):\n",
        "    blocks = []\n",
        "    for i in range(layers-1):\n",
        "        tmp = x\n",
        "        x = layer(x, 16)\n",
        "        blocks.append(x)\n",
        "        x = keras.layers.concatenate([x, tmp])\n",
        "    x = layer(x, 16)\n",
        "    blocks.append(x)\n",
        "    return keras.layers.concatenate(blocks)"
      ],
      "execution_count": 0,
      "outputs": []
    },
    {
      "cell_type": "markdown",
      "metadata": {
        "id": "KI-95SYlN9BF",
        "colab_type": "text"
      },
      "source": [
        "This functions starts by initializing an empty array for us to store all of the outputs to `layer` (so we can concatenate them in the final output, as mentioned above). Then, we iterate through the layers (we use `layers-1` as the last layer does not use the same computation, it concatenates all the blocks instead of just the previous input). We store the input to the layer in a `tmp` variable, we append the output of the layer to the `blocks` list, and we concatenate the input (`tmp`) to the output (`x`). We continue this process until we get to the last layer - then, we also run the input through `layer` and add it to our `blocks` list, but our final output is just a concatenation of all the `layer` outputs.\n",
        "\n",
        "Now let's create our `transitionDown` function."
      ]
    },
    {
      "cell_type": "code",
      "metadata": {
        "id": "c24Kr27VOl7V",
        "colab_type": "code",
        "colab": {}
      },
      "source": [
        "def transitionDown(x, filters):\n",
        "    x = keras.layers.BatchNormalization()(x)\n",
        "    x = keras.layers.ReLU()(x)\n",
        "    x = keras.layers.Conv2D(filters, kernel_size=(1, 1), padding='same')(x)\n",
        "    x = keras.layers.Dropout(0.2)(x)\n",
        "    x = keras.layers.MaxPool2D(padding='same')(x)\n",
        "    return x"
      ],
      "execution_count": 0,
      "outputs": []
    },
    {
      "cell_type": "markdown",
      "metadata": {
        "id": "pLOSKAS2Omh_",
        "colab_type": "text"
      },
      "source": [
        "This code is also straight forward - it simply performs the operations mentioned when we described what it does in keras.\n",
        "\n",
        "Finally, let's create our final building block - `transitionUp`."
      ]
    },
    {
      "cell_type": "code",
      "metadata": {
        "id": "ziLelD-7Ozua",
        "colab_type": "code",
        "colab": {}
      },
      "source": [
        "def transitionUp(x, filters):\n",
        "    x = keras.layers.Conv2DTranspose(filters, kernel_size=(3, 3), strides=2, padding='same')(x)\n",
        "    return x"
      ],
      "execution_count": 0,
      "outputs": []
    },
    {
      "cell_type": "markdown",
      "metadata": {
        "id": "pGDVjfI2O0MV",
        "colab_type": "text"
      },
      "source": [
        "This code performs the computations listed in the table in the previous section. Note the usage of `Conv2DTranspose` rather than `Conv2D`, as this is a transposed convolution, not just a convolution.\n",
        "\n",
        "Now we will create our `db_td` and `tu_db` functions. These functions comprise the down-path and up-path. Feel free to refer to the first image in the previous section to recall what these sections of the model do."
      ]
    },
    {
      "cell_type": "code",
      "metadata": {
        "id": "2ObweEiuPGcg",
        "colab_type": "code",
        "colab": {}
      },
      "source": [
        "def db_td(layers, x, m):\n",
        "    tmp = x\n",
        "    x = denseBlock(x, layers)\n",
        "    x = keras.layers.concatenate([x, tmp])\n",
        "    skipConnections.append(x)\n",
        "    return transitionDown(x, m)"
      ],
      "execution_count": 0,
      "outputs": []
    },
    {
      "cell_type": "markdown",
      "metadata": {
        "id": "XKblrSEjPJUx",
        "colab_type": "text"
      },
      "source": [
        "Here, we take the input and store it to `tmp`. We then perform a `denseBlock` computation for `layers` amount of layers, and concatenate its output with the `tmp` variable. We then append this output to a list of `skipConnections` to be used in the up-path. Finally, we return a `transitionDown` with an output dimensionality of `m`.\n",
        "\n",
        "Now let's define `tu_db`."
      ]
    },
    {
      "cell_type": "code",
      "metadata": {
        "id": "O26TJxBVPvVK",
        "colab_type": "code",
        "colab": {}
      },
      "source": [
        "def tu_db(layers, x, m, i):\n",
        "    x = transitionUp(x, m)\n",
        "    x = keras.layers.concatenate([x, skipConnections[::-1][i]])\n",
        "    return denseBlock(x, layers)"
      ],
      "execution_count": 0,
      "outputs": []
    },
    {
      "cell_type": "markdown",
      "metadata": {
        "id": "TV60Em5bPv0c",
        "colab_type": "text"
      },
      "source": [
        "This code takes the input and performs the `transitionUp` computation on it - then it adds the output of this with the corresponding `skipConnections` (`i` is a parameter passed that simply indicates the index of which item in `skipConnections` to choose - note that we reverse this list since what we added last is at the end). Then, we output a `denseBlock` computation for `layers` amount of layers.\n",
        "\n",
        "Now we've finished with the building blocks of this model. We can go on to defining the broader architecture. This is now made very easy - we simply have to refer to the overall architecture of the model (last image in previous section), and use it here. This contains everything the table contains, including the output dimensionality (`m`). Here is the overall code."
      ]
    },
    {
      "cell_type": "code",
      "metadata": {
        "id": "TZdCZUKylRqL",
        "colab_type": "code",
        "colab": {}
      },
      "source": [
        "skipConnections = []\n",
        "\n",
        "inp = keras.layers.Input((size, size, 3))\n",
        "x = keras.layers.Conv2D(48, kernel_size=(3, 3), padding='same')(inp)\n",
        "x = db_td(4, x, 112)\n",
        "x = db_td(5, x, 192)\n",
        "x = db_td(7, x, 304)\n",
        "x = db_td(10, x, 464)\n",
        "x = db_td(12, x, 656)\n",
        "x = denseBlock(x, 15)\n",
        "x = tu_db(12, x, 1088, 0)\n",
        "x = tu_db(10, x, 816, 1)\n",
        "x = tu_db(7, x, 578, 2)\n",
        "x = tu_db(5, x, 384, 3)\n",
        "x = tu_db(4, x, 256, 4)\n",
        "x = keras.layers.Conv2D(3, kernel_size=(1, 1), activation='softmax')(x)\n",
        "model = keras.models.Model(inputs=inp, outputs=x)"
      ],
      "execution_count": 0,
      "outputs": []
    },
    {
      "cell_type": "markdown",
      "metadata": {
        "id": "eSpAcdJFQdSi",
        "colab_type": "text"
      },
      "source": [
        "Note that our final convolution layer outputs for `3` classes, as it distinguishes between `{0, 1, 2}` for the different values of pixels."
      ]
    },
    {
      "cell_type": "markdown",
      "metadata": {
        "id": "_ozcqqgcRwHQ",
        "colab_type": "text"
      },
      "source": [
        "## **Training the Model**\n",
        "\n",
        "\n",
        "\n",
        "---\n",
        "\n",
        "\n",
        "Now let's go on to compiling this model.\n"
      ]
    },
    {
      "cell_type": "code",
      "metadata": {
        "id": "1uaVo1-OlYlA",
        "colab_type": "code",
        "colab": {}
      },
      "source": [
        "model.compile(loss='sparse_categorical_crossentropy', optimizer='adam', metrics=['accuracy'])"
      ],
      "execution_count": 0,
      "outputs": []
    },
    {
      "cell_type": "markdown",
      "metadata": {
        "id": "Nb7zWjdARPZm",
        "colab_type": "text"
      },
      "source": [
        "We will now train our model. We're going to use `tensorboard` to visualize the model's performance over time."
      ]
    },
    {
      "cell_type": "code",
      "metadata": {
        "id": "1631IWEdlY7F",
        "colab_type": "code",
        "outputId": "9908e877-1fc7-4b60-b8ea-a00c31ab55bd",
        "colab": {
          "base_uri": "https://localhost:8080/",
          "height": 731
        }
      },
      "source": [
        "logDir = \"logs/fit/\" + datetime.datetime.now().strftime(\"%Y%m%d-%H%M%S\")\n",
        "tf_cb = keras.callbacks.TensorBoard(logDir, histogram_freq=1)\n",
        "\n",
        "model.fit(x_train, y_train, validation_data=(x_test, y_test), epochs=20, batch_size=64, shuffle=True, callbacks=[tf_cb])"
      ],
      "execution_count": 14,
      "outputs": [
        {
          "output_type": "stream",
          "text": [
            "Train on 3680 samples, validate on 3669 samples\n",
            "Epoch 1/20\n",
            "3680/3680 [==============================] - 71s 19ms/sample - loss: 1.0090 - accuracy: 0.5978 - val_loss: 0.9248 - val_accuracy: 0.5733\n",
            "Epoch 2/20\n",
            "3680/3680 [==============================] - 36s 10ms/sample - loss: 0.6737 - accuracy: 0.7099 - val_loss: 0.9686 - val_accuracy: 0.5255\n",
            "Epoch 3/20\n",
            "3680/3680 [==============================] - 36s 10ms/sample - loss: 0.5865 - accuracy: 0.7573 - val_loss: 0.9580 - val_accuracy: 0.6107\n",
            "Epoch 4/20\n",
            "3680/3680 [==============================] - 36s 10ms/sample - loss: 0.5488 - accuracy: 0.7740 - val_loss: 1.0872 - val_accuracy: 0.5798\n",
            "Epoch 5/20\n",
            "3680/3680 [==============================] - 36s 10ms/sample - loss: 0.5266 - accuracy: 0.7842 - val_loss: 1.2076 - val_accuracy: 0.5175\n",
            "Epoch 6/20\n",
            "3680/3680 [==============================] - 36s 10ms/sample - loss: 0.4932 - accuracy: 0.7975 - val_loss: 1.1873 - val_accuracy: 0.5163\n",
            "Epoch 7/20\n",
            "3680/3680 [==============================] - 36s 10ms/sample - loss: 0.4631 - accuracy: 0.8106 - val_loss: 1.4486 - val_accuracy: 0.4416\n",
            "Epoch 8/20\n",
            "3680/3680 [==============================] - 36s 10ms/sample - loss: 0.4321 - accuracy: 0.8231 - val_loss: 0.9256 - val_accuracy: 0.5987\n",
            "Epoch 9/20\n",
            "3680/3680 [==============================] - 36s 10ms/sample - loss: 0.4208 - accuracy: 0.8276 - val_loss: 1.3019 - val_accuracy: 0.5422\n",
            "Epoch 10/20\n",
            "3680/3680 [==============================] - 36s 10ms/sample - loss: 0.4035 - accuracy: 0.8351 - val_loss: 0.8051 - val_accuracy: 0.6628\n",
            "Epoch 11/20\n",
            "3680/3680 [==============================] - 36s 10ms/sample - loss: 0.3835 - accuracy: 0.8429 - val_loss: 0.5005 - val_accuracy: 0.7942\n",
            "Epoch 12/20\n",
            "3680/3680 [==============================] - 36s 10ms/sample - loss: 0.3678 - accuracy: 0.8495 - val_loss: 0.4881 - val_accuracy: 0.8099\n",
            "Epoch 13/20\n",
            "3680/3680 [==============================] - 36s 10ms/sample - loss: 0.3552 - accuracy: 0.8542 - val_loss: 0.5662 - val_accuracy: 0.7841\n",
            "Epoch 14/20\n",
            "3680/3680 [==============================] - 36s 10ms/sample - loss: 0.3403 - accuracy: 0.8608 - val_loss: 0.4439 - val_accuracy: 0.8240\n",
            "Epoch 15/20\n",
            "3680/3680 [==============================] - 36s 10ms/sample - loss: 0.3322 - accuracy: 0.8636 - val_loss: 0.3837 - val_accuracy: 0.8458\n",
            "Epoch 16/20\n",
            "3680/3680 [==============================] - 36s 10ms/sample - loss: 0.3136 - accuracy: 0.8714 - val_loss: 0.5364 - val_accuracy: 0.7965\n",
            "Epoch 17/20\n",
            "3680/3680 [==============================] - 36s 10ms/sample - loss: 0.3069 - accuracy: 0.8732 - val_loss: 0.4027 - val_accuracy: 0.8428\n",
            "Epoch 18/20\n",
            "3680/3680 [==============================] - 36s 10ms/sample - loss: 0.2984 - accuracy: 0.8767 - val_loss: 0.4325 - val_accuracy: 0.8310\n",
            "Epoch 19/20\n",
            "3680/3680 [==============================] - 36s 10ms/sample - loss: 0.2957 - accuracy: 0.8780 - val_loss: 0.4105 - val_accuracy: 0.8426\n",
            "Epoch 20/20\n",
            "3680/3680 [==============================] - 36s 10ms/sample - loss: 0.2925 - accuracy: 0.8791 - val_loss: 0.3840 - val_accuracy: 0.8557\n"
          ],
          "name": "stdout"
        },
        {
          "output_type": "execute_result",
          "data": {
            "text/plain": [
              "<tensorflow.python.keras.callbacks.History at 0x7f36f0856748>"
            ]
          },
          "metadata": {
            "tags": []
          },
          "execution_count": 14
        }
      ]
    },
    {
      "cell_type": "markdown",
      "metadata": {
        "id": "aZY9KdEbUclE",
        "colab_type": "text"
      },
      "source": [
        "Let's visualize it in TensorBoard."
      ]
    },
    {
      "cell_type": "code",
      "metadata": {
        "id": "Nh3r_4pqUec5",
        "colab_type": "code",
        "colab": {}
      },
      "source": [
        "!tensorboard dev upload --logdir ./logs"
      ],
      "execution_count": 0,
      "outputs": []
    },
    {
      "cell_type": "markdown",
      "metadata": {
        "id": "68ZBTou8X1TS",
        "colab_type": "text"
      },
      "source": [
        "As we can see, our loss went down and our accuracy converged (if we wanted to improve accuracy, we could train for more epochs, but in this tutorial we will keep it at 20)."
      ]
    },
    {
      "cell_type": "markdown",
      "metadata": {
        "id": "_WwseU0IR4FG",
        "colab_type": "text"
      },
      "source": [
        "## **Background Removal**\n",
        "\n",
        "\n",
        "---\n",
        "\n",
        "First, let's create a function that transforms our output mask, an array of probabilities, into a defined segmentation mask (as defined [here](https://www.tensorflow.org/tutorials/images/segmentation))."
      ]
    },
    {
      "cell_type": "code",
      "metadata": {
        "id": "lGggvRUJapjW",
        "colab_type": "code",
        "colab": {}
      },
      "source": [
        "def mask(pred_mask):\n",
        "  pred_mask = np.argmax(pred_mask, axis=-1)\n",
        "  pred_mask = pred_mask[..., tf.newaxis]\n",
        "  return pred_mask[0]"
      ],
      "execution_count": 0,
      "outputs": []
    },
    {
      "cell_type": "markdown",
      "metadata": {
        "id": "nIqtxEDDaqLP",
        "colab_type": "text"
      },
      "source": [
        "This simply takes the `argmax` (highest value) of each array index.\n",
        "\n",
        "Next, let's create a utility function to remove backgrounds. It checks whether the `mask` has a value of `0` (containing the pet) - if not, it turns the `image` pixel to white."
      ]
    },
    {
      "cell_type": "code",
      "metadata": {
        "id": "YtEyUj0ma4Om",
        "colab_type": "code",
        "colab": {}
      },
      "source": [
        "def create(image, mask):\n",
        "  for i in range(size):\n",
        "    for j in range(size):\n",
        "      if mask[i][j] != 0:\n",
        "        image[i][j][0] = 255\n",
        "        image[i][j][1] = 255\n",
        "        image[i][j][2] = 255\n",
        "  return image"
      ],
      "execution_count": 0,
      "outputs": []
    },
    {
      "cell_type": "markdown",
      "metadata": {
        "id": "C0b38RX6a5Bk",
        "colab_type": "text"
      },
      "source": [
        "Now let's create a prediction function that takes an image as input and removes the background."
      ]
    },
    {
      "cell_type": "code",
      "metadata": {
        "id": "vgoBQIKVQ2ve",
        "colab_type": "code",
        "colab": {}
      },
      "source": [
        "def predict(i):\n",
        "  i = tf.image.resize(i, (64, 64))\n",
        "\n",
        "  pred_mask = model.predict(tf.reshape(i, (1,64,64,3)))\n",
        "  pred_mask = mask(pred_mask)\n",
        "\n",
        "  removed = create(i.numpy(), pred_mask)\n",
        "  plt.imshow(removed)\n",
        "  plt.show()"
      ],
      "execution_count": 0,
      "outputs": []
    },
    {
      "cell_type": "markdown",
      "metadata": {
        "id": "9qxTkotFbBMu",
        "colab_type": "text"
      },
      "source": [
        "Let's see how our model performs."
      ]
    },
    {
      "cell_type": "code",
      "metadata": {
        "id": "rx_S8Y4i82wa",
        "colab_type": "code",
        "outputId": "3cd985d8-fa18-4381-e2e2-7b7f624c058f",
        "colab": {
          "base_uri": "https://localhost:8080/",
          "height": 536
        }
      },
      "source": [
        "plt.imshow(x_test[38])\n",
        "plt.show()\n",
        "predict(x_test[38])"
      ],
      "execution_count": 46,
      "outputs": [
        {
          "output_type": "display_data",
          "data": {
            "image/png": "[encoded data removed]",
            "text/plain": [
              "<Figure size 432x288 with 1 Axes>"
            ]
          },
          "metadata": {
            "tags": []
          }
        },
        {
          "output_type": "stream",
          "text": [
            "WARNING:matplotlib.image:Clipping input data to the valid range for imshow with RGB data ([0..1] for floats or [0..255] for integers).\n"
          ],
          "name": "stderr"
        },
        {
          "output_type": "display_data",
          "data": {
            "image/png": "[encoded data removed]",
            "text/plain": [
              "<Figure size 432x288 with 1 Axes>"
            ]
          },
          "metadata": {
            "tags": []
          }
        }
      ]
    },
    {
      "cell_type": "markdown",
      "metadata": {
        "id": "YAV4ctUlbv_6",
        "colab_type": "text"
      },
      "source": [
        "As we can see, although it is not perfect (this could be trained for much longer), our model gets the gist and is able to separate the pet from the background of the image.\n",
        "\n",
        "\n",
        "\n",
        "---\n",
        "\n",
        "### **References**\n",
        "\n",
        "https://arxiv.org/pdf/1611.09326.pdf\n",
        "\n",
        "https://www.tensorflow.org/tutorials/images/segmentation\n",
        "\n",
        "**Images**\n",
        "\n",
        "https://www.jeremyjordan.me/content/images/2018/05/Screen-Shot-2018-05-20-at-3.42.24-PM.png\n",
        "\n",
        "https://forums.fast.ai/uploads/default/original/2X/f/fc919345aa2105948ca50a55a43f7c5793b0e162.jpg\n",
        "\n",
        "https://www.jeremyjordan.me/content/images/2018/05/Screen-Shot-2018-05-20-at-3.42.24-PM.png\n",
        "\n",
        "https://miro.medium.com/max/1970/1*1Pj56mTHPNha8Pg58fWJEQ.png\n",
        "\n",
        "https://forums.fast.ai/uploads/default/original/2X/c/c0e6b43494d60bb50b2d10f95505ee64fd3a09a0.png\n"
      ]
    }
  ]
}