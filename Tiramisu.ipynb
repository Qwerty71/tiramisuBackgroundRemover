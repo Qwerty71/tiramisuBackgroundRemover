{
  "nbformat": 4,
  "nbformat_minor": 0,
  "metadata": {
    "colab": {
      "name": "Tiramisu.ipynb",
      "provenance": [],
      "include_colab_link": false
    },
    "kernelspec": {
      "name": "python3",
      "display_name": "Python 3"
    },
    "accelerator": "GPU",
    "widgets": {
      "application/vnd.jupyter.widget-state+json": {
        "c6196497f118478487564910f2f3529e": {
          "model_module": "@jupyter-widgets/controls",
          "model_name": "HBoxModel",
          "state": {
            "_view_name": "HBoxView",
            "_dom_classes": [],
            "_model_name": "HBoxModel",
            "_view_module": "@jupyter-widgets/controls",
            "_model_module_version": "1.5.0",
            "_view_count": null,
            "_view_module_version": "1.5.0",
            "box_style": "",
            "layout": "IPY_MODEL_9fff0ae78e244807991804ffedd75ed1",
            "_model_module": "@jupyter-widgets/controls",
            "children": [
              "IPY_MODEL_34c0e2f0e5094ac59eac225e481680a3",
              "IPY_MODEL_d76b4b57fb2643dd9f036901a9e7afd0"
            ]
          }
        },
        "9fff0ae78e244807991804ffedd75ed1": {
          "model_module": "@jupyter-widgets/base",
          "model_name": "LayoutModel",
          "state": {
            "_view_name": "LayoutView",
            "grid_template_rows": null,
            "right": null,
            "justify_content": null,
            "_view_module": "@jupyter-widgets/base",
            "overflow": null,
            "_model_module_version": "1.2.0",
            "_view_count": null,
            "flex_flow": null,
            "width": null,
            "min_width": null,
            "border": null,
            "align_items": null,
            "bottom": null,
            "_model_module": "@jupyter-widgets/base",
            "top": null,
            "grid_column": null,
            "overflow_y": null,
            "overflow_x": null,
            "grid_auto_flow": null,
            "grid_area": null,
            "grid_template_columns": null,
            "flex": null,
            "_model_name": "LayoutModel",
            "justify_items": null,
            "grid_row": null,
            "max_height": null,
            "align_content": null,
            "visibility": null,
            "align_self": null,
            "height": null,
            "min_height": null,
            "padding": null,
            "grid_auto_rows": null,
            "grid_gap": null,
            "max_width": null,
            "order": null,
            "_view_module_version": "1.2.0",
            "grid_template_areas": null,
            "object_position": null,
            "object_fit": null,
            "grid_auto_columns": null,
            "margin": null,
            "display": null,
            "left": null
          }
        },
        "34c0e2f0e5094ac59eac225e481680a3": {
          "model_module": "@jupyter-widgets/controls",
          "model_name": "IntProgressModel",
          "state": {
            "_view_name": "ProgressView",
            "style": "IPY_MODEL_291a3efdd9b64a9da3a96340f4461443",
            "_dom_classes": [],
            "description": "Dl Completed...",
            "_model_name": "IntProgressModel",
            "bar_style": "success",
            "max": 1,
            "_view_module": "@jupyter-widgets/controls",
            "_model_module_version": "1.5.0",
            "value": 1,
            "_view_count": null,
            "_view_module_version": "1.5.0",
            "orientation": "horizontal",
            "min": 0,
            "description_tooltip": null,
            "_model_module": "@jupyter-widgets/controls",
            "layout": "IPY_MODEL_90eeaad2b63b43deaae3516ed3f8cdb2"
          }
        },
        "d76b4b57fb2643dd9f036901a9e7afd0": {
          "model_module": "@jupyter-widgets/controls",
          "model_name": "HTMLModel",
          "state": {
            "_view_name": "HTMLView",
            "style": "IPY_MODEL_f69c4d3e8096457fa2a6c7ebdaf1e818",
            "_dom_classes": [],
            "description": "",
            "_model_name": "HTMLModel",
            "placeholder": "​",
            "_view_module": "@jupyter-widgets/controls",
            "_model_module_version": "1.5.0",
            "value": "2/|/100% 2/2 [01:20&lt;00:00, 23.96s/ url]",
            "_view_count": null,
            "_view_module_version": "1.5.0",
            "description_tooltip": null,
            "_model_module": "@jupyter-widgets/controls",
            "layout": "IPY_MODEL_7f8a94e0ae874b928b18f03696b3fd10"
          }
        },
        "291a3efdd9b64a9da3a96340f4461443": {
          "model_module": "@jupyter-widgets/controls",
          "model_name": "ProgressStyleModel",
          "state": {
            "_view_name": "StyleView",
            "_model_name": "ProgressStyleModel",
            "description_width": "initial",
            "_view_module": "@jupyter-widgets/base",
            "_model_module_version": "1.5.0",
            "_view_count": null,
            "_view_module_version": "1.2.0",
            "bar_color": null,
            "_model_module": "@jupyter-widgets/controls"
          }
        },
        "90eeaad2b63b43deaae3516ed3f8cdb2": {
          "model_module": "@jupyter-widgets/base",
          "model_name": "LayoutModel",
          "state": {
            "_view_name": "LayoutView",
            "grid_template_rows": null,
            "right": null,
            "justify_content": null,
            "_view_module": "@jupyter-widgets/base",
            "overflow": null,
            "_model_module_version": "1.2.0",
            "_view_count": null,
            "flex_flow": null,
            "width": null,
            "min_width": null,
            "border": null,
            "align_items": null,
            "bottom": null,
            "_model_module": "@jupyter-widgets/base",
            "top": null,
            "grid_column": null,
            "overflow_y": null,
            "overflow_x": null,
            "grid_auto_flow": null,
            "grid_area": null,
            "grid_template_columns": null,
            "flex": null,
            "_model_name": "LayoutModel",
            "justify_items": null,
            "grid_row": null,
            "max_height": null,
            "align_content": null,
            "visibility": null,
            "align_self": null,
            "height": null,
            "min_height": null,
            "padding": null,
            "grid_auto_rows": null,
            "grid_gap": null,
            "max_width": null,
            "order": null,
            "_view_module_version": "1.2.0",
            "grid_template_areas": null,
            "object_position": null,
            "object_fit": null,
            "grid_auto_columns": null,
            "margin": null,
            "display": null,
            "left": null
          }
        },
        "f69c4d3e8096457fa2a6c7ebdaf1e818": {
          "model_module": "@jupyter-widgets/controls",
          "model_name": "DescriptionStyleModel",
          "state": {
            "_view_name": "StyleView",
            "_model_name": "DescriptionStyleModel",
            "description_width": "",
            "_view_module": "@jupyter-widgets/base",
            "_model_module_version": "1.5.0",
            "_view_count": null,
            "_view_module_version": "1.2.0",
            "_model_module": "@jupyter-widgets/controls"
          }
        },
        "7f8a94e0ae874b928b18f03696b3fd10": {
          "model_module": "@jupyter-widgets/base",
          "model_name": "LayoutModel",
          "state": {
            "_view_name": "LayoutView",
            "grid_template_rows": null,
            "right": null,
            "justify_content": null,
            "_view_module": "@jupyter-widgets/base",
            "overflow": null,
            "_model_module_version": "1.2.0",
            "_view_count": null,
            "flex_flow": null,
            "width": null,
            "min_width": null,
            "border": null,
            "align_items": null,
            "bottom": null,
            "_model_module": "@jupyter-widgets/base",
            "top": null,
            "grid_column": null,
            "overflow_y": null,
            "overflow_x": null,
            "grid_auto_flow": null,
            "grid_area": null,
            "grid_template_columns": null,
            "flex": null,
            "_model_name": "LayoutModel",
            "justify_items": null,
            "grid_row": null,
            "max_height": null,
            "align_content": null,
            "visibility": null,
            "align_self": null,
            "height": null,
            "min_height": null,
            "padding": null,
            "grid_auto_rows": null,
            "grid_gap": null,
            "max_width": null,
            "order": null,
            "_view_module_version": "1.2.0",
            "grid_template_areas": null,
            "object_position": null,
            "object_fit": null,
            "grid_auto_columns": null,
            "margin": null,
            "display": null,
            "left": null
          }
        },
        "fd2cd59eeefb48509d6374deed34e6fd": {
          "model_module": "@jupyter-widgets/controls",
          "model_name": "HBoxModel",
          "state": {
            "_view_name": "HBoxView",
            "_dom_classes": [],
            "_model_name": "HBoxModel",
            "_view_module": "@jupyter-widgets/controls",
            "_model_module_version": "1.5.0",
            "_view_count": null,
            "_view_module_version": "1.5.0",
            "box_style": "",
            "layout": "IPY_MODEL_53e45470fc0f4500aad92bf2430c0e2a",
            "_model_module": "@jupyter-widgets/controls",
            "children": [
              "IPY_MODEL_025914f22630475aafcc98ac4b741841",
              "IPY_MODEL_dd06f9fadb6442bebba7720222ef4a7b"
            ]
          }
        },
        "53e45470fc0f4500aad92bf2430c0e2a": {
          "model_module": "@jupyter-widgets/base",
          "model_name": "LayoutModel",
          "state": {
            "_view_name": "LayoutView",
            "grid_template_rows": null,
            "right": null,
            "justify_content": null,
            "_view_module": "@jupyter-widgets/base",
            "overflow": null,
            "_model_module_version": "1.2.0",
            "_view_count": null,
            "flex_flow": null,
            "width": null,
            "min_width": null,
            "border": null,
            "align_items": null,
            "bottom": null,
            "_model_module": "@jupyter-widgets/base",
            "top": null,
            "grid_column": null,
            "overflow_y": null,
            "overflow_x": null,
            "grid_auto_flow": null,
            "grid_area": null,
            "grid_template_columns": null,
            "flex": null,
            "_model_name": "LayoutModel",
            "justify_items": null,
            "grid_row": null,
            "max_height": null,
            "align_content": null,
            "visibility": null,
            "align_self": null,
            "height": null,
            "min_height": null,
            "padding": null,
            "grid_auto_rows": null,
            "grid_gap": null,
            "max_width": null,
            "order": null,
            "_view_module_version": "1.2.0",
            "grid_template_areas": null,
            "object_position": null,
            "object_fit": null,
            "grid_auto_columns": null,
            "margin": null,
            "display": null,
            "left": null
          }
        },
        "025914f22630475aafcc98ac4b741841": {
          "model_module": "@jupyter-widgets/controls",
          "model_name": "IntProgressModel",
          "state": {
            "_view_name": "ProgressView",
            "style": "IPY_MODEL_1e0ed5a6091d42ecab3f6d22448c1a2e",
            "_dom_classes": [],
            "description": "Dl Size...",
            "_model_name": "IntProgressModel",
            "bar_style": "success",
            "max": 1,
            "_view_module": "@jupyter-widgets/controls",
            "_model_module_version": "1.5.0",
            "value": 1,
            "_view_count": null,
            "_view_module_version": "1.5.0",
            "orientation": "horizontal",
            "min": 0,
            "description_tooltip": null,
            "_model_module": "@jupyter-widgets/controls",
            "layout": "IPY_MODEL_f4a4ae2bf8244f748c7c4da6895709b9"
          }
        },
        "dd06f9fadb6442bebba7720222ef4a7b": {
          "model_module": "@jupyter-widgets/controls",
          "model_name": "HTMLModel",
          "state": {
            "_view_name": "HTMLView",
            "style": "IPY_MODEL_724c2bb785b44b6a91b94264530d225d",
            "_dom_classes": [],
            "description": "",
            "_model_name": "HTMLModel",
            "placeholder": "​",
            "_view_module": "@jupyter-widgets/controls",
            "_model_module_version": "1.5.0",
            "value": "801 MiB [01:20,  9.99 MiB/s]",
            "_view_count": null,
            "_view_module_version": "1.5.0",
            "description_tooltip": null,
            "_model_module": "@jupyter-widgets/controls",
            "layout": "IPY_MODEL_9fac84a86c7a42fea1b4d67a16b2a333"
          }
        },
        "1e0ed5a6091d42ecab3f6d22448c1a2e": {
          "model_module": "@jupyter-widgets/controls",
          "model_name": "ProgressStyleModel",
          "state": {
            "_view_name": "StyleView",
            "_model_name": "ProgressStyleModel",
            "description_width": "initial",
            "_view_module": "@jupyter-widgets/base",
            "_model_module_version": "1.5.0",
            "_view_count": null,
            "_view_module_version": "1.2.0",
            "bar_color": null,
            "_model_module": "@jupyter-widgets/controls"
          }
        },
        "f4a4ae2bf8244f748c7c4da6895709b9": {
          "model_module": "@jupyter-widgets/base",
          "model_name": "LayoutModel",
          "state": {
            "_view_name": "LayoutView",
            "grid_template_rows": null,
            "right": null,
            "justify_content": null,
            "_view_module": "@jupyter-widgets/base",
            "overflow": null,
            "_model_module_version": "1.2.0",
            "_view_count": null,
            "flex_flow": null,
            "width": null,
            "min_width": null,
            "border": null,
            "align_items": null,
            "bottom": null,
            "_model_module": "@jupyter-widgets/base",
            "top": null,
            "grid_column": null,
            "overflow_y": null,
            "overflow_x": null,
            "grid_auto_flow": null,
            "grid_area": null,
            "grid_template_columns": null,
            "flex": null,
            "_model_name": "LayoutModel",
            "justify_items": null,
            "grid_row": null,
            "max_height": null,
            "align_content": null,
            "visibility": null,
            "align_self": null,
            "height": null,
            "min_height": null,
            "padding": null,
            "grid_auto_rows": null,
            "grid_gap": null,
            "max_width": null,
            "order": null,
            "_view_module_version": "1.2.0",
            "grid_template_areas": null,
            "object_position": null,
            "object_fit": null,
            "grid_auto_columns": null,
            "margin": null,
            "display": null,
            "left": null
          }
        },
        "724c2bb785b44b6a91b94264530d225d": {
          "model_module": "@jupyter-widgets/controls",
          "model_name": "DescriptionStyleModel",
          "state": {
            "_view_name": "StyleView",
            "_model_name": "DescriptionStyleModel",
            "description_width": "",
            "_view_module": "@jupyter-widgets/base",
            "_model_module_version": "1.5.0",
            "_view_count": null,
            "_view_module_version": "1.2.0",
            "_model_module": "@jupyter-widgets/controls"
          }
        },
        "9fac84a86c7a42fea1b4d67a16b2a333": {
          "model_module": "@jupyter-widgets/base",
          "model_name": "LayoutModel",
          "state": {
            "_view_name": "LayoutView",
            "grid_template_rows": null,
            "right": null,
            "justify_content": null,
            "_view_module": "@jupyter-widgets/base",
            "overflow": null,
            "_model_module_version": "1.2.0",
            "_view_count": null,
            "flex_flow": null,
            "width": null,
            "min_width": null,
            "border": null,
            "align_items": null,
            "bottom": null,
            "_model_module": "@jupyter-widgets/base",
            "top": null,
            "grid_column": null,
            "overflow_y": null,
            "overflow_x": null,
            "grid_auto_flow": null,
            "grid_area": null,
            "grid_template_columns": null,
            "flex": null,
            "_model_name": "LayoutModel",
            "justify_items": null,
            "grid_row": null,
            "max_height": null,
            "align_content": null,
            "visibility": null,
            "align_self": null,
            "height": null,
            "min_height": null,
            "padding": null,
            "grid_auto_rows": null,
            "grid_gap": null,
            "max_width": null,
            "order": null,
            "_view_module_version": "1.2.0",
            "grid_template_areas": null,
            "object_position": null,
            "object_fit": null,
            "grid_auto_columns": null,
            "margin": null,
            "display": null,
            "left": null
          }
        },
        "227c0c12905e4e7eabd35901fea06292": {
          "model_module": "@jupyter-widgets/controls",
          "model_name": "HBoxModel",
          "state": {
            "_view_name": "HBoxView",
            "_dom_classes": [],
            "_model_name": "HBoxModel",
            "_view_module": "@jupyter-widgets/controls",
            "_model_module_version": "1.5.0",
            "_view_count": null,
            "_view_module_version": "1.5.0",
            "box_style": "",
            "layout": "IPY_MODEL_df37b993be814433875c05aa49e25064",
            "_model_module": "@jupyter-widgets/controls",
            "children": [
              "IPY_MODEL_977a3c32bef54db9aa70f103660ff178",
              "IPY_MODEL_7f0683836f3545d5b666794b7d11e3ca"
            ]
          }
        },
        "df37b993be814433875c05aa49e25064": {
          "model_module": "@jupyter-widgets/base",
          "model_name": "LayoutModel",
          "state": {
            "_view_name": "LayoutView",
            "grid_template_rows": null,
            "right": null,
            "justify_content": null,
            "_view_module": "@jupyter-widgets/base",
            "overflow": null,
            "_model_module_version": "1.2.0",
            "_view_count": null,
            "flex_flow": null,
            "width": null,
            "min_width": null,
            "border": null,
            "align_items": null,
            "bottom": null,
            "_model_module": "@jupyter-widgets/base",
            "top": null,
            "grid_column": null,
            "overflow_y": null,
            "overflow_x": null,
            "grid_auto_flow": null,
            "grid_area": null,
            "grid_template_columns": null,
            "flex": null,
            "_model_name": "LayoutModel",
            "justify_items": null,
            "grid_row": null,
            "max_height": null,
            "align_content": null,
            "visibility": null,
            "align_self": null,
            "height": null,
            "min_height": null,
            "padding": null,
            "grid_auto_rows": null,
            "grid_gap": null,
            "max_width": null,
            "order": null,
            "_view_module_version": "1.2.0",
            "grid_template_areas": null,
            "object_position": null,
            "object_fit": null,
            "grid_auto_columns": null,
            "margin": null,
            "display": null,
            "left": null
          }
        },
        "977a3c32bef54db9aa70f103660ff178": {
          "model_module": "@jupyter-widgets/controls",
          "model_name": "IntProgressModel",
          "state": {
            "_view_name": "ProgressView",
            "style": "IPY_MODEL_708f4ec8e2f74d31a952e94b7b51a32a",
            "_dom_classes": [],
            "description": "Extraction completed...",
            "_model_name": "IntProgressModel",
            "bar_style": "success",
            "max": 1,
            "_view_module": "@jupyter-widgets/controls",
            "_model_module_version": "1.5.0",
            "value": 1,
            "_view_count": null,
            "_view_module_version": "1.5.0",
            "orientation": "horizontal",
            "min": 0,
            "description_tooltip": null,
            "_model_module": "@jupyter-widgets/controls",
            "layout": "IPY_MODEL_de4412c0a2b74ee8baf315ecf3b172ca"
          }
        },
        "7f0683836f3545d5b666794b7d11e3ca": {
          "model_module": "@jupyter-widgets/controls",
          "model_name": "HTMLModel",
          "state": {
            "_view_name": "HTMLView",
            "style": "IPY_MODEL_60e80127c7b2488d88d2a70264d64d59",
            "_dom_classes": [],
            "description": "",
            "_model_name": "HTMLModel",
            "placeholder": "​",
            "_view_module": "@jupyter-widgets/controls",
            "_model_module_version": "1.5.0",
            "value": "2/|/100% 2/2 [01:20&lt;00:00, 28.37s/ file]",
            "_view_count": null,
            "_view_module_version": "1.5.0",
            "description_tooltip": null,
            "_model_module": "@jupyter-widgets/controls",
            "layout": "IPY_MODEL_77e93b86f1704af1abe69e59eb76de78"
          }
        },
        "708f4ec8e2f74d31a952e94b7b51a32a": {
          "model_module": "@jupyter-widgets/controls",
          "model_name": "ProgressStyleModel",
          "state": {
            "_view_name": "StyleView",
            "_model_name": "ProgressStyleModel",
            "description_width": "initial",
            "_view_module": "@jupyter-widgets/base",
            "_model_module_version": "1.5.0",
            "_view_count": null,
            "_view_module_version": "1.2.0",
            "bar_color": null,
            "_model_module": "@jupyter-widgets/controls"
          }
        },
        "de4412c0a2b74ee8baf315ecf3b172ca": {
          "model_module": "@jupyter-widgets/base",
          "model_name": "LayoutModel",
          "state": {
            "_view_name": "LayoutView",
            "grid_template_rows": null,
            "right": null,
            "justify_content": null,
            "_view_module": "@jupyter-widgets/base",
            "overflow": null,
            "_model_module_version": "1.2.0",
            "_view_count": null,
            "flex_flow": null,
            "width": null,
            "min_width": null,
            "border": null,
            "align_items": null,
            "bottom": null,
            "_model_module": "@jupyter-widgets/base",
            "top": null,
            "grid_column": null,
            "overflow_y": null,
            "overflow_x": null,
            "grid_auto_flow": null,
            "grid_area": null,
            "grid_template_columns": null,
            "flex": null,
            "_model_name": "LayoutModel",
            "justify_items": null,
            "grid_row": null,
            "max_height": null,
            "align_content": null,
            "visibility": null,
            "align_self": null,
            "height": null,
            "min_height": null,
            "padding": null,
            "grid_auto_rows": null,
            "grid_gap": null,
            "max_width": null,
            "order": null,
            "_view_module_version": "1.2.0",
            "grid_template_areas": null,
            "object_position": null,
            "object_fit": null,
            "grid_auto_columns": null,
            "margin": null,
            "display": null,
            "left": null
          }
        },
        "60e80127c7b2488d88d2a70264d64d59": {
          "model_module": "@jupyter-widgets/controls",
          "model_name": "DescriptionStyleModel",
          "state": {
            "_view_name": "StyleView",
            "_model_name": "DescriptionStyleModel",
            "description_width": "",
            "_view_module": "@jupyter-widgets/base",
            "_model_module_version": "1.5.0",
            "_view_count": null,
            "_view_module_version": "1.2.0",
            "_model_module": "@jupyter-widgets/controls"
          }
        },
        "77e93b86f1704af1abe69e59eb76de78": {
          "model_module": "@jupyter-widgets/base",
          "model_name": "LayoutModel",
          "state": {
            "_view_name": "LayoutView",
            "grid_template_rows": null,
            "right": null,
            "justify_content": null,
            "_view_module": "@jupyter-widgets/base",
            "overflow": null,
            "_model_module_version": "1.2.0",
            "_view_count": null,
            "flex_flow": null,
            "width": null,
            "min_width": null,
            "border": null,
            "align_items": null,
            "bottom": null,
            "_model_module": "@jupyter-widgets/base",
            "top": null,
            "grid_column": null,
            "overflow_y": null,
            "overflow_x": null,
            "grid_auto_flow": null,
            "grid_area": null,
            "grid_template_columns": null,
            "flex": null,
            "_model_name": "LayoutModel",
            "justify_items": null,
            "grid_row": null,
            "max_height": null,
            "align_content": null,
            "visibility": null,
            "align_self": null,
            "height": null,
            "min_height": null,
            "padding": null,
            "grid_auto_rows": null,
            "grid_gap": null,
            "max_width": null,
            "order": null,
            "_view_module_version": "1.2.0",
            "grid_template_areas": null,
            "object_position": null,
            "object_fit": null,
            "grid_auto_columns": null,
            "margin": null,
            "display": null,
            "left": null
          }
        },
        "be06452eb0f04c41b532a230fd5f4f24": {
          "model_module": "@jupyter-widgets/controls",
          "model_name": "HBoxModel",
          "state": {
            "_view_name": "HBoxView",
            "_dom_classes": [],
            "_model_name": "HBoxModel",
            "_view_module": "@jupyter-widgets/controls",
            "_model_module_version": "1.5.0",
            "_view_count": null,
            "_view_module_version": "1.5.0",
            "box_style": "",
            "layout": "IPY_MODEL_6f548e7e90a44675b7812d2aa6662ec8",
            "_model_module": "@jupyter-widgets/controls",
            "children": [
              "IPY_MODEL_54ea7eb9c8da496bb033874ee7463db6",
              "IPY_MODEL_df0dd660492540d28bfd5640c0a01114"
            ]
          }
        },
        "6f548e7e90a44675b7812d2aa6662ec8": {
          "model_module": "@jupyter-widgets/base",
          "model_name": "LayoutModel",
          "state": {
            "_view_name": "LayoutView",
            "grid_template_rows": null,
            "right": null,
            "justify_content": null,
            "_view_module": "@jupyter-widgets/base",
            "overflow": null,
            "_model_module_version": "1.2.0",
            "_view_count": null,
            "flex_flow": null,
            "width": null,
            "min_width": null,
            "border": null,
            "align_items": null,
            "bottom": null,
            "_model_module": "@jupyter-widgets/base",
            "top": null,
            "grid_column": null,
            "overflow_y": null,
            "overflow_x": null,
            "grid_auto_flow": null,
            "grid_area": null,
            "grid_template_columns": null,
            "flex": null,
            "_model_name": "LayoutModel",
            "justify_items": null,
            "grid_row": null,
            "max_height": null,
            "align_content": null,
            "visibility": null,
            "align_self": null,
            "height": null,
            "min_height": null,
            "padding": null,
            "grid_auto_rows": null,
            "grid_gap": null,
            "max_width": null,
            "order": null,
            "_view_module_version": "1.2.0",
            "grid_template_areas": null,
            "object_position": null,
            "object_fit": null,
            "grid_auto_columns": null,
            "margin": null,
            "display": null,
            "left": null
          }
        },
        "54ea7eb9c8da496bb033874ee7463db6": {
          "model_module": "@jupyter-widgets/controls",
          "model_name": "IntProgressModel",
          "state": {
            "_view_name": "ProgressView",
            "style": "IPY_MODEL_559b4df4788a4489bbfc71f58a25dfcf",
            "_dom_classes": [],
            "description": "",
            "_model_name": "IntProgressModel",
            "bar_style": "info",
            "max": 1,
            "_view_module": "@jupyter-widgets/controls",
            "_model_module_version": "1.5.0",
            "value": 1,
            "_view_count": null,
            "_view_module_version": "1.5.0",
            "orientation": "horizontal",
            "min": 0,
            "description_tooltip": null,
            "_model_module": "@jupyter-widgets/controls",
            "layout": "IPY_MODEL_c0772d182d16435ca272e8b7809a284d"
          }
        },
        "df0dd660492540d28bfd5640c0a01114": {
          "model_module": "@jupyter-widgets/controls",
          "model_name": "HTMLModel",
          "state": {
            "_view_name": "HTMLView",
            "style": "IPY_MODEL_fe45be09caf443818ddb693f7c1a321e",
            "_dom_classes": [],
            "description": "",
            "_model_name": "HTMLModel",
            "placeholder": "​",
            "_view_module": "@jupyter-widgets/controls",
            "_model_module_version": "1.5.0",
            "value": "3619 examples [00:03, 947.18 examples/s]",
            "_view_count": null,
            "_view_module_version": "1.5.0",
            "description_tooltip": null,
            "_model_module": "@jupyter-widgets/controls",
            "layout": "IPY_MODEL_40303bd241a04c76b0d8ed02e3c1c9ec"
          }
        },
        "559b4df4788a4489bbfc71f58a25dfcf": {
          "model_module": "@jupyter-widgets/controls",
          "model_name": "ProgressStyleModel",
          "state": {
            "_view_name": "StyleView",
            "_model_name": "ProgressStyleModel",
            "description_width": "",
            "_view_module": "@jupyter-widgets/base",
            "_model_module_version": "1.5.0",
            "_view_count": null,
            "_view_module_version": "1.2.0",
            "bar_color": null,
            "_model_module": "@jupyter-widgets/controls"
          }
        },
        "c0772d182d16435ca272e8b7809a284d": {
          "model_module": "@jupyter-widgets/base",
          "model_name": "LayoutModel",
          "state": {
            "_view_name": "LayoutView",
            "grid_template_rows": null,
            "right": null,
            "justify_content": null,
            "_view_module": "@jupyter-widgets/base",
            "overflow": null,
            "_model_module_version": "1.2.0",
            "_view_count": null,
            "flex_flow": null,
            "width": null,
            "min_width": null,
            "border": null,
            "align_items": null,
            "bottom": null,
            "_model_module": "@jupyter-widgets/base",
            "top": null,
            "grid_column": null,
            "overflow_y": null,
            "overflow_x": null,
            "grid_auto_flow": null,
            "grid_area": null,
            "grid_template_columns": null,
            "flex": null,
            "_model_name": "LayoutModel",
            "justify_items": null,
            "grid_row": null,
            "max_height": null,
            "align_content": null,
            "visibility": null,
            "align_self": null,
            "height": null,
            "min_height": null,
            "padding": null,
            "grid_auto_rows": null,
            "grid_gap": null,
            "max_width": null,
            "order": null,
            "_view_module_version": "1.2.0",
            "grid_template_areas": null,
            "object_position": null,
            "object_fit": null,
            "grid_auto_columns": null,
            "margin": null,
            "display": null,
            "left": null
          }
        },
        "fe45be09caf443818ddb693f7c1a321e": {
          "model_module": "@jupyter-widgets/controls",
          "model_name": "DescriptionStyleModel",
          "state": {
            "_view_name": "StyleView",
            "_model_name": "DescriptionStyleModel",
            "description_width": "",
            "_view_module": "@jupyter-widgets/base",
            "_model_module_version": "1.5.0",
            "_view_count": null,
            "_view_module_version": "1.2.0",
            "_model_module": "@jupyter-widgets/controls"
          }
        },
        "40303bd241a04c76b0d8ed02e3c1c9ec": {
          "model_module": "@jupyter-widgets/base",
          "model_name": "LayoutModel",
          "state": {
            "_view_name": "LayoutView",
            "grid_template_rows": null,
            "right": null,
            "justify_content": null,
            "_view_module": "@jupyter-widgets/base",
            "overflow": null,
            "_model_module_version": "1.2.0",
            "_view_count": null,
            "flex_flow": null,
            "width": null,
            "min_width": null,
            "border": null,
            "align_items": null,
            "bottom": null,
            "_model_module": "@jupyter-widgets/base",
            "top": null,
            "grid_column": null,
            "overflow_y": null,
            "overflow_x": null,
            "grid_auto_flow": null,
            "grid_area": null,
            "grid_template_columns": null,
            "flex": null,
            "_model_name": "LayoutModel",
            "justify_items": null,
            "grid_row": null,
            "max_height": null,
            "align_content": null,
            "visibility": null,
            "align_self": null,
            "height": null,
            "min_height": null,
            "padding": null,
            "grid_auto_rows": null,
            "grid_gap": null,
            "max_width": null,
            "order": null,
            "_view_module_version": "1.2.0",
            "grid_template_areas": null,
            "object_position": null,
            "object_fit": null,
            "grid_auto_columns": null,
            "margin": null,
            "display": null,
            "left": null
          }
        },
        "1b592078ef024cbdbeca9ed6ca34fe89": {
          "model_module": "@jupyter-widgets/controls",
          "model_name": "HBoxModel",
          "state": {
            "_view_name": "HBoxView",
            "_dom_classes": [],
            "_model_name": "HBoxModel",
            "_view_module": "@jupyter-widgets/controls",
            "_model_module_version": "1.5.0",
            "_view_count": null,
            "_view_module_version": "1.5.0",
            "box_style": "",
            "layout": "IPY_MODEL_f4d775ae8c204b829d4bf09c42779521",
            "_model_module": "@jupyter-widgets/controls",
            "children": [
              "IPY_MODEL_3e171bd2e1234ccca3edaf96dc18270d",
              "IPY_MODEL_4cc73ad199284d1585a38290986e5708"
            ]
          }
        },
        "f4d775ae8c204b829d4bf09c42779521": {
          "model_module": "@jupyter-widgets/base",
          "model_name": "LayoutModel",
          "state": {
            "_view_name": "LayoutView",
            "grid_template_rows": null,
            "right": null,
            "justify_content": null,
            "_view_module": "@jupyter-widgets/base",
            "overflow": null,
            "_model_module_version": "1.2.0",
            "_view_count": null,
            "flex_flow": null,
            "width": null,
            "min_width": null,
            "border": null,
            "align_items": null,
            "bottom": null,
            "_model_module": "@jupyter-widgets/base",
            "top": null,
            "grid_column": null,
            "overflow_y": null,
            "overflow_x": null,
            "grid_auto_flow": null,
            "grid_area": null,
            "grid_template_columns": null,
            "flex": null,
            "_model_name": "LayoutModel",
            "justify_items": null,
            "grid_row": null,
            "max_height": null,
            "align_content": null,
            "visibility": null,
            "align_self": null,
            "height": null,
            "min_height": null,
            "padding": null,
            "grid_auto_rows": null,
            "grid_gap": null,
            "max_width": null,
            "order": null,
            "_view_module_version": "1.2.0",
            "grid_template_areas": null,
            "object_position": null,
            "object_fit": null,
            "grid_auto_columns": null,
            "margin": null,
            "display": null,
            "left": null
          }
        },
        "3e171bd2e1234ccca3edaf96dc18270d": {
          "model_module": "@jupyter-widgets/controls",
          "model_name": "IntProgressModel",
          "state": {
            "_view_name": "ProgressView",
            "style": "IPY_MODEL_68588de1d4c54a40920a897e1063254e",
            "_dom_classes": [],
            "description": "",
            "_model_name": "IntProgressModel",
            "bar_style": "",
            "max": 3680,
            "_view_module": "@jupyter-widgets/controls",
            "_model_module_version": "1.5.0",
            "value": 3519,
            "_view_count": null,
            "_view_module_version": "1.5.0",
            "orientation": "horizontal",
            "min": 0,
            "description_tooltip": null,
            "_model_module": "@jupyter-widgets/controls",
            "layout": "IPY_MODEL_a45cb8dcbf3e4e8ab9c647c57a66638b"
          }
        },
        "4cc73ad199284d1585a38290986e5708": {
          "model_module": "@jupyter-widgets/controls",
          "model_name": "HTMLModel",
          "state": {
            "_view_name": "HTMLView",
            "style": "IPY_MODEL_f166d7ca606e4fd7b43eefb1d982cfda",
            "_dom_classes": [],
            "description": "",
            "_model_name": "HTMLModel",
            "placeholder": "​",
            "_view_module": "@jupyter-widgets/controls",
            "_model_module_version": "1.5.0",
            "value": " 96% 3519/3680 [00:00&lt;00:00, 3656.53 examples/s]",
            "_view_count": null,
            "_view_module_version": "1.5.0",
            "description_tooltip": null,
            "_model_module": "@jupyter-widgets/controls",
            "layout": "IPY_MODEL_1c7c2899e28b4f5a8a4a16eb51f12993"
          }
        },
        "68588de1d4c54a40920a897e1063254e": {
          "model_module": "@jupyter-widgets/controls",
          "model_name": "ProgressStyleModel",
          "state": {
            "_view_name": "StyleView",
            "_model_name": "ProgressStyleModel",
            "description_width": "",
            "_view_module": "@jupyter-widgets/base",
            "_model_module_version": "1.5.0",
            "_view_count": null,
            "_view_module_version": "1.2.0",
            "bar_color": null,
            "_model_module": "@jupyter-widgets/controls"
          }
        },
        "a45cb8dcbf3e4e8ab9c647c57a66638b": {
          "model_module": "@jupyter-widgets/base",
          "model_name": "LayoutModel",
          "state": {
            "_view_name": "LayoutView",
            "grid_template_rows": null,
            "right": null,
            "justify_content": null,
            "_view_module": "@jupyter-widgets/base",
            "overflow": null,
            "_model_module_version": "1.2.0",
            "_view_count": null,
            "flex_flow": null,
            "width": null,
            "min_width": null,
            "border": null,
            "align_items": null,
            "bottom": null,
            "_model_module": "@jupyter-widgets/base",
            "top": null,
            "grid_column": null,
            "overflow_y": null,
            "overflow_x": null,
            "grid_auto_flow": null,
            "grid_area": null,
            "grid_template_columns": null,
            "flex": null,
            "_model_name": "LayoutModel",
            "justify_items": null,
            "grid_row": null,
            "max_height": null,
            "align_content": null,
            "visibility": null,
            "align_self": null,
            "height": null,
            "min_height": null,
            "padding": null,
            "grid_auto_rows": null,
            "grid_gap": null,
            "max_width": null,
            "order": null,
            "_view_module_version": "1.2.0",
            "grid_template_areas": null,
            "object_position": null,
            "object_fit": null,
            "grid_auto_columns": null,
            "margin": null,
            "display": null,
            "left": null
          }
        },
        "f166d7ca606e4fd7b43eefb1d982cfda": {
          "model_module": "@jupyter-widgets/controls",
          "model_name": "DescriptionStyleModel",
          "state": {
            "_view_name": "StyleView",
            "_model_name": "DescriptionStyleModel",
            "description_width": "",
            "_view_module": "@jupyter-widgets/base",
            "_model_module_version": "1.5.0",
            "_view_count": null,
            "_view_module_version": "1.2.0",
            "_model_module": "@jupyter-widgets/controls"
          }
        },
        "1c7c2899e28b4f5a8a4a16eb51f12993": {
          "model_module": "@jupyter-widgets/base",
          "model_name": "LayoutModel",
          "state": {
            "_view_name": "LayoutView",
            "grid_template_rows": null,
            "right": null,
            "justify_content": null,
            "_view_module": "@jupyter-widgets/base",
            "overflow": null,
            "_model_module_version": "1.2.0",
            "_view_count": null,
            "flex_flow": null,
            "width": null,
            "min_width": null,
            "border": null,
            "align_items": null,
            "bottom": null,
            "_model_module": "@jupyter-widgets/base",
            "top": null,
            "grid_column": null,
            "overflow_y": null,
            "overflow_x": null,
            "grid_auto_flow": null,
            "grid_area": null,
            "grid_template_columns": null,
            "flex": null,
            "_model_name": "LayoutModel",
            "justify_items": null,
            "grid_row": null,
            "max_height": null,
            "align_content": null,
            "visibility": null,
            "align_self": null,
            "height": null,
            "min_height": null,
            "padding": null,
            "grid_auto_rows": null,
            "grid_gap": null,
            "max_width": null,
            "order": null,
            "_view_module_version": "1.2.0",
            "grid_template_areas": null,
            "object_position": null,
            "object_fit": null,
            "grid_auto_columns": null,
            "margin": null,
            "display": null,
            "left": null
          }
        },
        "7b37cac763d04b9e9224b9fbadb03cc0": {
          "model_module": "@jupyter-widgets/controls",
          "model_name": "HBoxModel",
          "state": {
            "_view_name": "HBoxView",
            "_dom_classes": [],
            "_model_name": "HBoxModel",
            "_view_module": "@jupyter-widgets/controls",
            "_model_module_version": "1.5.0",
            "_view_count": null,
            "_view_module_version": "1.5.0",
            "box_style": "",
            "layout": "IPY_MODEL_5bd4598106ca455090a78f35bc9835b2",
            "_model_module": "@jupyter-widgets/controls",
            "children": [
              "IPY_MODEL_99683909c93c44e9a0489b5160cc8885",
              "IPY_MODEL_9598b3c9cfb14e04bf8daa0cb6e81f39"
            ]
          }
        },
        "5bd4598106ca455090a78f35bc9835b2": {
          "model_module": "@jupyter-widgets/base",
          "model_name": "LayoutModel",
          "state": {
            "_view_name": "LayoutView",
            "grid_template_rows": null,
            "right": null,
            "justify_content": null,
            "_view_module": "@jupyter-widgets/base",
            "overflow": null,
            "_model_module_version": "1.2.0",
            "_view_count": null,
            "flex_flow": null,
            "width": null,
            "min_width": null,
            "border": null,
            "align_items": null,
            "bottom": null,
            "_model_module": "@jupyter-widgets/base",
            "top": null,
            "grid_column": null,
            "overflow_y": null,
            "overflow_x": null,
            "grid_auto_flow": null,
            "grid_area": null,
            "grid_template_columns": null,
            "flex": null,
            "_model_name": "LayoutModel",
            "justify_items": null,
            "grid_row": null,
            "max_height": null,
            "align_content": null,
            "visibility": null,
            "align_self": null,
            "height": null,
            "min_height": null,
            "padding": null,
            "grid_auto_rows": null,
            "grid_gap": null,
            "max_width": null,
            "order": null,
            "_view_module_version": "1.2.0",
            "grid_template_areas": null,
            "object_position": null,
            "object_fit": null,
            "grid_auto_columns": null,
            "margin": null,
            "display": null,
            "left": null
          }
        },
        "99683909c93c44e9a0489b5160cc8885": {
          "model_module": "@jupyter-widgets/controls",
          "model_name": "IntProgressModel",
          "state": {
            "_view_name": "ProgressView",
            "style": "IPY_MODEL_08e62858ce0e46ccaa99fe52b4755d30",
            "_dom_classes": [],
            "description": "",
            "_model_name": "IntProgressModel",
            "bar_style": "info",
            "max": 1,
            "_view_module": "@jupyter-widgets/controls",
            "_model_module_version": "1.5.0",
            "value": 1,
            "_view_count": null,
            "_view_module_version": "1.5.0",
            "orientation": "horizontal",
            "min": 0,
            "description_tooltip": null,
            "_model_module": "@jupyter-widgets/controls",
            "layout": "IPY_MODEL_1c7b8fbc24c1403a8622d5f1141e82d0"
          }
        },
        "9598b3c9cfb14e04bf8daa0cb6e81f39": {
          "model_module": "@jupyter-widgets/controls",
          "model_name": "HTMLModel",
          "state": {
            "_view_name": "HTMLView",
            "style": "IPY_MODEL_4f89c747d2774532ac7060556523212e",
            "_dom_classes": [],
            "description": "",
            "_model_name": "HTMLModel",
            "placeholder": "​",
            "_view_module": "@jupyter-widgets/controls",
            "_model_module_version": "1.5.0",
            "value": "3629 examples [00:03, 1045.59 examples/s]",
            "_view_count": null,
            "_view_module_version": "1.5.0",
            "description_tooltip": null,
            "_model_module": "@jupyter-widgets/controls",
            "layout": "IPY_MODEL_42eea5a9391146ca983a43d4187a089a"
          }
        },
        "08e62858ce0e46ccaa99fe52b4755d30": {
          "model_module": "@jupyter-widgets/controls",
          "model_name": "ProgressStyleModel",
          "state": {
            "_view_name": "StyleView",
            "_model_name": "ProgressStyleModel",
            "description_width": "",
            "_view_module": "@jupyter-widgets/base",
            "_model_module_version": "1.5.0",
            "_view_count": null,
            "_view_module_version": "1.2.0",
            "bar_color": null,
            "_model_module": "@jupyter-widgets/controls"
          }
        },
        "1c7b8fbc24c1403a8622d5f1141e82d0": {
          "model_module": "@jupyter-widgets/base",
          "model_name": "LayoutModel",
          "state": {
            "_view_name": "LayoutView",
            "grid_template_rows": null,
            "right": null,
            "justify_content": null,
            "_view_module": "@jupyter-widgets/base",
            "overflow": null,
            "_model_module_version": "1.2.0",
            "_view_count": null,
            "flex_flow": null,
            "width": null,
            "min_width": null,
            "border": null,
            "align_items": null,
            "bottom": null,
            "_model_module": "@jupyter-widgets/base",
            "top": null,
            "grid_column": null,
            "overflow_y": null,
            "overflow_x": null,
            "grid_auto_flow": null,
            "grid_area": null,
            "grid_template_columns": null,
            "flex": null,
            "_model_name": "LayoutModel",
            "justify_items": null,
            "grid_row": null,
            "max_height": null,
            "align_content": null,
            "visibility": null,
            "align_self": null,
            "height": null,
            "min_height": null,
            "padding": null,
            "grid_auto_rows": null,
            "grid_gap": null,
            "max_width": null,
            "order": null,
            "_view_module_version": "1.2.0",
            "grid_template_areas": null,
            "object_position": null,
            "object_fit": null,
            "grid_auto_columns": null,
            "margin": null,
            "display": null,
            "left": null
          }
        },
        "4f89c747d2774532ac7060556523212e": {
          "model_module": "@jupyter-widgets/controls",
          "model_name": "DescriptionStyleModel",
          "state": {
            "_view_name": "StyleView",
            "_model_name": "DescriptionStyleModel",
            "description_width": "",
            "_view_module": "@jupyter-widgets/base",
            "_model_module_version": "1.5.0",
            "_view_count": null,
            "_view_module_version": "1.2.0",
            "_model_module": "@jupyter-widgets/controls"
          }
        },
        "42eea5a9391146ca983a43d4187a089a": {
          "model_module": "@jupyter-widgets/base",
          "model_name": "LayoutModel",
          "state": {
            "_view_name": "LayoutView",
            "grid_template_rows": null,
            "right": null,
            "justify_content": null,
            "_view_module": "@jupyter-widgets/base",
            "overflow": null,
            "_model_module_version": "1.2.0",
            "_view_count": null,
            "flex_flow": null,
            "width": null,
            "min_width": null,
            "border": null,
            "align_items": null,
            "bottom": null,
            "_model_module": "@jupyter-widgets/base",
            "top": null,
            "grid_column": null,
            "overflow_y": null,
            "overflow_x": null,
            "grid_auto_flow": null,
            "grid_area": null,
            "grid_template_columns": null,
            "flex": null,
            "_model_name": "LayoutModel",
            "justify_items": null,
            "grid_row": null,
            "max_height": null,
            "align_content": null,
            "visibility": null,
            "align_self": null,
            "height": null,
            "min_height": null,
            "padding": null,
            "grid_auto_rows": null,
            "grid_gap": null,
            "max_width": null,
            "order": null,
            "_view_module_version": "1.2.0",
            "grid_template_areas": null,
            "object_position": null,
            "object_fit": null,
            "grid_auto_columns": null,
            "margin": null,
            "display": null,
            "left": null
          }
        },
        "1e39d8baae80467bbf491141eb36ac44": {
          "model_module": "@jupyter-widgets/controls",
          "model_name": "HBoxModel",
          "state": {
            "_view_name": "HBoxView",
            "_dom_classes": [],
            "_model_name": "HBoxModel",
            "_view_module": "@jupyter-widgets/controls",
            "_model_module_version": "1.5.0",
            "_view_count": null,
            "_view_module_version": "1.5.0",
            "box_style": "",
            "layout": "IPY_MODEL_f437fdf5bd434206afb07c4ff8402342",
            "_model_module": "@jupyter-widgets/controls",
            "children": [
              "IPY_MODEL_8b284899ce7540429be2d5ac22ba17c8",
              "IPY_MODEL_6ce55efcf3244a699534ba0f8a62463c"
            ]
          }
        },
        "f437fdf5bd434206afb07c4ff8402342": {
          "model_module": "@jupyter-widgets/base",
          "model_name": "LayoutModel",
          "state": {
            "_view_name": "LayoutView",
            "grid_template_rows": null,
            "right": null,
            "justify_content": null,
            "_view_module": "@jupyter-widgets/base",
            "overflow": null,
            "_model_module_version": "1.2.0",
            "_view_count": null,
            "flex_flow": null,
            "width": null,
            "min_width": null,
            "border": null,
            "align_items": null,
            "bottom": null,
            "_model_module": "@jupyter-widgets/base",
            "top": null,
            "grid_column": null,
            "overflow_y": null,
            "overflow_x": null,
            "grid_auto_flow": null,
            "grid_area": null,
            "grid_template_columns": null,
            "flex": null,
            "_model_name": "LayoutModel",
            "justify_items": null,
            "grid_row": null,
            "max_height": null,
            "align_content": null,
            "visibility": null,
            "align_self": null,
            "height": null,
            "min_height": null,
            "padding": null,
            "grid_auto_rows": null,
            "grid_gap": null,
            "max_width": null,
            "order": null,
            "_view_module_version": "1.2.0",
            "grid_template_areas": null,
            "object_position": null,
            "object_fit": null,
            "grid_auto_columns": null,
            "margin": null,
            "display": null,
            "left": null
          }
        },
        "8b284899ce7540429be2d5ac22ba17c8": {
          "model_module": "@jupyter-widgets/controls",
          "model_name": "IntProgressModel",
          "state": {
            "_view_name": "ProgressView",
            "style": "IPY_MODEL_b9f0c3845b1a48ad8cfbaff4af27888b",
            "_dom_classes": [],
            "description": "",
            "_model_name": "IntProgressModel",
            "bar_style": "",
            "max": 3669,
            "_view_module": "@jupyter-widgets/controls",
            "_model_module_version": "1.5.0",
            "value": 3465,
            "_view_count": null,
            "_view_module_version": "1.5.0",
            "orientation": "horizontal",
            "min": 0,
            "description_tooltip": null,
            "_model_module": "@jupyter-widgets/controls",
            "layout": "IPY_MODEL_d1bad2420ddd409e90092d547bb154e1"
          }
        },
        "6ce55efcf3244a699534ba0f8a62463c": {
          "model_module": "@jupyter-widgets/controls",
          "model_name": "HTMLModel",
          "state": {
            "_view_name": "HTMLView",
            "style": "IPY_MODEL_6915d2510d0e4536a193e5586e118872",
            "_dom_classes": [],
            "description": "",
            "_model_name": "HTMLModel",
            "placeholder": "​",
            "_view_module": "@jupyter-widgets/controls",
            "_model_module_version": "1.5.0",
            "value": " 94% 3465/3669 [00:01&lt;00:00, 2418.88 examples/s]",
            "_view_count": null,
            "_view_module_version": "1.5.0",
            "description_tooltip": null,
            "_model_module": "@jupyter-widgets/controls",
            "layout": "IPY_MODEL_2c18770502e847f68487740c73ac5fa1"
          }
        },
        "b9f0c3845b1a48ad8cfbaff4af27888b": {
          "model_module": "@jupyter-widgets/controls",
          "model_name": "ProgressStyleModel",
          "state": {
            "_view_name": "StyleView",
            "_model_name": "ProgressStyleModel",
            "description_width": "",
            "_view_module": "@jupyter-widgets/base",
            "_model_module_version": "1.5.0",
            "_view_count": null,
            "_view_module_version": "1.2.0",
            "bar_color": null,
            "_model_module": "@jupyter-widgets/controls"
          }
        },
        "d1bad2420ddd409e90092d547bb154e1": {
          "model_module": "@jupyter-widgets/base",
          "model_name": "LayoutModel",
          "state": {
            "_view_name": "LayoutView",
            "grid_template_rows": null,
            "right": null,
            "justify_content": null,
            "_view_module": "@jupyter-widgets/base",
            "overflow": null,
            "_model_module_version": "1.2.0",
            "_view_count": null,
            "flex_flow": null,
            "width": null,
            "min_width": null,
            "border": null,
            "align_items": null,
            "bottom": null,
            "_model_module": "@jupyter-widgets/base",
            "top": null,
            "grid_column": null,
            "overflow_y": null,
            "overflow_x": null,
            "grid_auto_flow": null,
            "grid_area": null,
            "grid_template_columns": null,
            "flex": null,
            "_model_name": "LayoutModel",
            "justify_items": null,
            "grid_row": null,
            "max_height": null,
            "align_content": null,
            "visibility": null,
            "align_self": null,
            "height": null,
            "min_height": null,
            "padding": null,
            "grid_auto_rows": null,
            "grid_gap": null,
            "max_width": null,
            "order": null,
            "_view_module_version": "1.2.0",
            "grid_template_areas": null,
            "object_position": null,
            "object_fit": null,
            "grid_auto_columns": null,
            "margin": null,
            "display": null,
            "left": null
          }
        },
        "6915d2510d0e4536a193e5586e118872": {
          "model_module": "@jupyter-widgets/controls",
          "model_name": "DescriptionStyleModel",
          "state": {
            "_view_name": "StyleView",
            "_model_name": "DescriptionStyleModel",
            "description_width": "",
            "_view_module": "@jupyter-widgets/base",
            "_model_module_version": "1.5.0",
            "_view_count": null,
            "_view_module_version": "1.2.0",
            "_model_module": "@jupyter-widgets/controls"
          }
        },
        "2c18770502e847f68487740c73ac5fa1": {
          "model_module": "@jupyter-widgets/base",
          "model_name": "LayoutModel",
          "state": {
            "_view_name": "LayoutView",
            "grid_template_rows": null,
            "right": null,
            "justify_content": null,
            "_view_module": "@jupyter-widgets/base",
            "overflow": null,
            "_model_module_version": "1.2.0",
            "_view_count": null,
            "flex_flow": null,
            "width": null,
            "min_width": null,
            "border": null,
            "align_items": null,
            "bottom": null,
            "_model_module": "@jupyter-widgets/base",
            "top": null,
            "grid_column": null,
            "overflow_y": null,
            "overflow_x": null,
            "grid_auto_flow": null,
            "grid_area": null,
            "grid_template_columns": null,
            "flex": null,
            "_model_name": "LayoutModel",
            "justify_items": null,
            "grid_row": null,
            "max_height": null,
            "align_content": null,
            "visibility": null,
            "align_self": null,
            "height": null,
            "min_height": null,
            "padding": null,
            "grid_auto_rows": null,
            "grid_gap": null,
            "max_width": null,
            "order": null,
            "_view_module_version": "1.2.0",
            "grid_template_areas": null,
            "object_position": null,
            "object_fit": null,
            "grid_auto_columns": null,
            "margin": null,
            "display": null,
            "left": null
          }
        },
        "82430aa314814d3184eb92c3c7d28c68": {
          "model_module": "@jupyter-widgets/controls",
          "model_name": "HBoxModel",
          "state": {
            "_view_name": "HBoxView",
            "_dom_classes": [],
            "_model_name": "HBoxModel",
            "_view_module": "@jupyter-widgets/controls",
            "_model_module_version": "1.5.0",
            "_view_count": null,
            "_view_module_version": "1.5.0",
            "box_style": "",
            "layout": "IPY_MODEL_8cde5c77c3814acb8296368accd240c8",
            "_model_module": "@jupyter-widgets/controls",
            "children": [
              "IPY_MODEL_f8c6389465b547a19ab920d31ef578ce",
              "IPY_MODEL_34141159a4354147aae66c352a6d0b53"
            ]
          }
        },
        "8cde5c77c3814acb8296368accd240c8": {
          "model_module": "@jupyter-widgets/base",
          "model_name": "LayoutModel",
          "state": {
            "_view_name": "LayoutView",
            "grid_template_rows": null,
            "right": null,
            "justify_content": null,
            "_view_module": "@jupyter-widgets/base",
            "overflow": null,
            "_model_module_version": "1.2.0",
            "_view_count": null,
            "flex_flow": null,
            "width": null,
            "min_width": null,
            "border": null,
            "align_items": null,
            "bottom": null,
            "_model_module": "@jupyter-widgets/base",
            "top": null,
            "grid_column": null,
            "overflow_y": null,
            "overflow_x": null,
            "grid_auto_flow": null,
            "grid_area": null,
            "grid_template_columns": null,
            "flex": null,
            "_model_name": "LayoutModel",
            "justify_items": null,
            "grid_row": null,
            "max_height": null,
            "align_content": null,
            "visibility": null,
            "align_self": null,
            "height": null,
            "min_height": null,
            "padding": null,
            "grid_auto_rows": null,
            "grid_gap": null,
            "max_width": null,
            "order": null,
            "_view_module_version": "1.2.0",
            "grid_template_areas": null,
            "object_position": null,
            "object_fit": null,
            "grid_auto_columns": null,
            "margin": null,
            "display": null,
            "left": null
          }
        },
        "f8c6389465b547a19ab920d31ef578ce": {
          "model_module": "@jupyter-widgets/controls",
          "model_name": "IntProgressModel",
          "state": {
            "_view_name": "ProgressView",
            "style": "IPY_MODEL_d71b0260246d449da14d4eb68a3c1610",
            "_dom_classes": [],
            "description": "Computing statistics...",
            "_model_name": "IntProgressModel",
            "bar_style": "success",
            "max": 2,
            "_view_module": "@jupyter-widgets/controls",
            "_model_module_version": "1.5.0",
            "value": 2,
            "_view_count": null,
            "_view_module_version": "1.5.0",
            "orientation": "horizontal",
            "min": 0,
            "description_tooltip": null,
            "_model_module": "@jupyter-widgets/controls",
            "layout": "IPY_MODEL_8af14b4f285e42808c74046f73b5c69c"
          }
        },
        "34141159a4354147aae66c352a6d0b53": {
          "model_module": "@jupyter-widgets/controls",
          "model_name": "HTMLModel",
          "state": {
            "_view_name": "HTMLView",
            "style": "IPY_MODEL_5d7717326f524e03992081d47e83b9d3",
            "_dom_classes": [],
            "description": "",
            "_model_name": "HTMLModel",
            "placeholder": "​",
            "_view_module": "@jupyter-widgets/controls",
            "_model_module_version": "1.5.0",
            "value": "100% 2/2 [00:25&lt;00:00, 12.85s/ split]",
            "_view_count": null,
            "_view_module_version": "1.5.0",
            "description_tooltip": null,
            "_model_module": "@jupyter-widgets/controls",
            "layout": "IPY_MODEL_2b7b9677b11d4dad975cc7022aef6562"
          }
        },
        "d71b0260246d449da14d4eb68a3c1610": {
          "model_module": "@jupyter-widgets/controls",
          "model_name": "ProgressStyleModel",
          "state": {
            "_view_name": "StyleView",
            "_model_name": "ProgressStyleModel",
            "description_width": "initial",
            "_view_module": "@jupyter-widgets/base",
            "_model_module_version": "1.5.0",
            "_view_count": null,
            "_view_module_version": "1.2.0",
            "bar_color": null,
            "_model_module": "@jupyter-widgets/controls"
          }
        },
        "8af14b4f285e42808c74046f73b5c69c": {
          "model_module": "@jupyter-widgets/base",
          "model_name": "LayoutModel",
          "state": {
            "_view_name": "LayoutView",
            "grid_template_rows": null,
            "right": null,
            "justify_content": null,
            "_view_module": "@jupyter-widgets/base",
            "overflow": null,
            "_model_module_version": "1.2.0",
            "_view_count": null,
            "flex_flow": null,
            "width": null,
            "min_width": null,
            "border": null,
            "align_items": null,
            "bottom": null,
            "_model_module": "@jupyter-widgets/base",
            "top": null,
            "grid_column": null,
            "overflow_y": null,
            "overflow_x": null,
            "grid_auto_flow": null,
            "grid_area": null,
            "grid_template_columns": null,
            "flex": null,
            "_model_name": "LayoutModel",
            "justify_items": null,
            "grid_row": null,
            "max_height": null,
            "align_content": null,
            "visibility": null,
            "align_self": null,
            "height": null,
            "min_height": null,
            "padding": null,
            "grid_auto_rows": null,
            "grid_gap": null,
            "max_width": null,
            "order": null,
            "_view_module_version": "1.2.0",
            "grid_template_areas": null,
            "object_position": null,
            "object_fit": null,
            "grid_auto_columns": null,
            "margin": null,
            "display": null,
            "left": null
          }
        },
        "5d7717326f524e03992081d47e83b9d3": {
          "model_module": "@jupyter-widgets/controls",
          "model_name": "DescriptionStyleModel",
          "state": {
            "_view_name": "StyleView",
            "_model_name": "DescriptionStyleModel",
            "description_width": "",
            "_view_module": "@jupyter-widgets/base",
            "_model_module_version": "1.5.0",
            "_view_count": null,
            "_view_module_version": "1.2.0",
            "_model_module": "@jupyter-widgets/controls"
          }
        },
        "2b7b9677b11d4dad975cc7022aef6562": {
          "model_module": "@jupyter-widgets/base",
          "model_name": "LayoutModel",
          "state": {
            "_view_name": "LayoutView",
            "grid_template_rows": null,
            "right": null,
            "justify_content": null,
            "_view_module": "@jupyter-widgets/base",
            "overflow": null,
            "_model_module_version": "1.2.0",
            "_view_count": null,
            "flex_flow": null,
            "width": null,
            "min_width": null,
            "border": null,
            "align_items": null,
            "bottom": null,
            "_model_module": "@jupyter-widgets/base",
            "top": null,
            "grid_column": null,
            "overflow_y": null,
            "overflow_x": null,
            "grid_auto_flow": null,
            "grid_area": null,
            "grid_template_columns": null,
            "flex": null,
            "_model_name": "LayoutModel",
            "justify_items": null,
            "grid_row": null,
            "max_height": null,
            "align_content": null,
            "visibility": null,
            "align_self": null,
            "height": null,
            "min_height": null,
            "padding": null,
            "grid_auto_rows": null,
            "grid_gap": null,
            "max_width": null,
            "order": null,
            "_view_module_version": "1.2.0",
            "grid_template_areas": null,
            "object_position": null,
            "object_fit": null,
            "grid_auto_columns": null,
            "margin": null,
            "display": null,
            "left": null
          }
        },
        "71f3cf40b8d94ef0ab993ec9349f39ad": {
          "model_module": "@jupyter-widgets/controls",
          "model_name": "HBoxModel",
          "state": {
            "_view_name": "HBoxView",
            "_dom_classes": [],
            "_model_name": "HBoxModel",
            "_view_module": "@jupyter-widgets/controls",
            "_model_module_version": "1.5.0",
            "_view_count": null,
            "_view_module_version": "1.5.0",
            "box_style": "",
            "layout": "IPY_MODEL_130b7d02044041ffb9dbec2c8b56da9b",
            "_model_module": "@jupyter-widgets/controls",
            "children": [
              "IPY_MODEL_7ae4fa9ca73e417fa30ddda398d0fe63",
              "IPY_MODEL_54450a048e7b4af28154a1567965f7c2"
            ]
          }
        },
        "130b7d02044041ffb9dbec2c8b56da9b": {
          "model_module": "@jupyter-widgets/base",
          "model_name": "LayoutModel",
          "state": {
            "_view_name": "LayoutView",
            "grid_template_rows": null,
            "right": null,
            "justify_content": null,
            "_view_module": "@jupyter-widgets/base",
            "overflow": null,
            "_model_module_version": "1.2.0",
            "_view_count": null,
            "flex_flow": null,
            "width": null,
            "min_width": null,
            "border": null,
            "align_items": null,
            "bottom": null,
            "_model_module": "@jupyter-widgets/base",
            "top": null,
            "grid_column": null,
            "overflow_y": null,
            "overflow_x": null,
            "grid_auto_flow": null,
            "grid_area": null,
            "grid_template_columns": null,
            "flex": null,
            "_model_name": "LayoutModel",
            "justify_items": null,
            "grid_row": null,
            "max_height": null,
            "align_content": null,
            "visibility": null,
            "align_self": null,
            "height": null,
            "min_height": null,
            "padding": null,
            "grid_auto_rows": null,
            "grid_gap": null,
            "max_width": null,
            "order": null,
            "_view_module_version": "1.2.0",
            "grid_template_areas": null,
            "object_position": null,
            "object_fit": null,
            "grid_auto_columns": null,
            "margin": null,
            "display": null,
            "left": null
          }
        },
        "7ae4fa9ca73e417fa30ddda398d0fe63": {
          "model_module": "@jupyter-widgets/controls",
          "model_name": "IntProgressModel",
          "state": {
            "_view_name": "ProgressView",
            "style": "IPY_MODEL_5fde503b4fa54037b6022e8d89858119",
            "_dom_classes": [],
            "description": "",
            "_model_name": "IntProgressModel",
            "bar_style": "info",
            "max": 1,
            "_view_module": "@jupyter-widgets/controls",
            "_model_module_version": "1.5.0",
            "value": 1,
            "_view_count": null,
            "_view_module_version": "1.5.0",
            "orientation": "horizontal",
            "min": 0,
            "description_tooltip": null,
            "_model_module": "@jupyter-widgets/controls",
            "layout": "IPY_MODEL_606846c52f594e03a5716774d4fc5fe8"
          }
        },
        "54450a048e7b4af28154a1567965f7c2": {
          "model_module": "@jupyter-widgets/controls",
          "model_name": "HTMLModel",
          "state": {
            "_view_name": "HTMLView",
            "style": "IPY_MODEL_d3d0da735c924ceeacc3090af69aff37",
            "_dom_classes": [],
            "description": "",
            "_model_name": "HTMLModel",
            "placeholder": "​",
            "_view_module": "@jupyter-widgets/controls",
            "_model_module_version": "1.5.0",
            "value": "3639 examples [00:12, 301.04 examples/s]",
            "_view_count": null,
            "_view_module_version": "1.5.0",
            "description_tooltip": null,
            "_model_module": "@jupyter-widgets/controls",
            "layout": "IPY_MODEL_084622645681446d925f074607dd7849"
          }
        },
        "5fde503b4fa54037b6022e8d89858119": {
          "model_module": "@jupyter-widgets/controls",
          "model_name": "ProgressStyleModel",
          "state": {
            "_view_name": "StyleView",
            "_model_name": "ProgressStyleModel",
            "description_width": "",
            "_view_module": "@jupyter-widgets/base",
            "_model_module_version": "1.5.0",
            "_view_count": null,
            "_view_module_version": "1.2.0",
            "bar_color": null,
            "_model_module": "@jupyter-widgets/controls"
          }
        },
        "606846c52f594e03a5716774d4fc5fe8": {
          "model_module": "@jupyter-widgets/base",
          "model_name": "LayoutModel",
          "state": {
            "_view_name": "LayoutView",
            "grid_template_rows": null,
            "right": null,
            "justify_content": null,
            "_view_module": "@jupyter-widgets/base",
            "overflow": null,
            "_model_module_version": "1.2.0",
            "_view_count": null,
            "flex_flow": null,
            "width": null,
            "min_width": null,
            "border": null,
            "align_items": null,
            "bottom": null,
            "_model_module": "@jupyter-widgets/base",
            "top": null,
            "grid_column": null,
            "overflow_y": null,
            "overflow_x": null,
            "grid_auto_flow": null,
            "grid_area": null,
            "grid_template_columns": null,
            "flex": null,
            "_model_name": "LayoutModel",
            "justify_items": null,
            "grid_row": null,
            "max_height": null,
            "align_content": null,
            "visibility": null,
            "align_self": null,
            "height": null,
            "min_height": null,
            "padding": null,
            "grid_auto_rows": null,
            "grid_gap": null,
            "max_width": null,
            "order": null,
            "_view_module_version": "1.2.0",
            "grid_template_areas": null,
            "object_position": null,
            "object_fit": null,
            "grid_auto_columns": null,
            "margin": null,
            "display": null,
            "left": null
          }
        },
        "d3d0da735c924ceeacc3090af69aff37": {
          "model_module": "@jupyter-widgets/controls",
          "model_name": "DescriptionStyleModel",
          "state": {
            "_view_name": "StyleView",
            "_model_name": "DescriptionStyleModel",
            "description_width": "",
            "_view_module": "@jupyter-widgets/base",
            "_model_module_version": "1.5.0",
            "_view_count": null,
            "_view_module_version": "1.2.0",
            "_model_module": "@jupyter-widgets/controls"
          }
        },
        "084622645681446d925f074607dd7849": {
          "model_module": "@jupyter-widgets/base",
          "model_name": "LayoutModel",
          "state": {
            "_view_name": "LayoutView",
            "grid_template_rows": null,
            "right": null,
            "justify_content": null,
            "_view_module": "@jupyter-widgets/base",
            "overflow": null,
            "_model_module_version": "1.2.0",
            "_view_count": null,
            "flex_flow": null,
            "width": null,
            "min_width": null,
            "border": null,
            "align_items": null,
            "bottom": null,
            "_model_module": "@jupyter-widgets/base",
            "top": null,
            "grid_column": null,
            "overflow_y": null,
            "overflow_x": null,
            "grid_auto_flow": null,
            "grid_area": null,
            "grid_template_columns": null,
            "flex": null,
            "_model_name": "LayoutModel",
            "justify_items": null,
            "grid_row": null,
            "max_height": null,
            "align_content": null,
            "visibility": null,
            "align_self": null,
            "height": null,
            "min_height": null,
            "padding": null,
            "grid_auto_rows": null,
            "grid_gap": null,
            "max_width": null,
            "order": null,
            "_view_module_version": "1.2.0",
            "grid_template_areas": null,
            "object_position": null,
            "object_fit": null,
            "grid_auto_columns": null,
            "margin": null,
            "display": null,
            "left": null
          }
        },
        "d7538621e101421fa83afc1700815eb7": {
          "model_module": "@jupyter-widgets/controls",
          "model_name": "HBoxModel",
          "state": {
            "_view_name": "HBoxView",
            "_dom_classes": [],
            "_model_name": "HBoxModel",
            "_view_module": "@jupyter-widgets/controls",
            "_model_module_version": "1.5.0",
            "_view_count": null,
            "_view_module_version": "1.5.0",
            "box_style": "",
            "layout": "IPY_MODEL_3c9e776779054360b09625fb076f65c8",
            "_model_module": "@jupyter-widgets/controls",
            "children": [
              "IPY_MODEL_3f382ad79a8b47569003b6ebe621f611",
              "IPY_MODEL_d7d4156d388f4b3f8a4ff7cf3669161d"
            ]
          }
        },
        "3c9e776779054360b09625fb076f65c8": {
          "model_module": "@jupyter-widgets/base",
          "model_name": "LayoutModel",
          "state": {
            "_view_name": "LayoutView",
            "grid_template_rows": null,
            "right": null,
            "justify_content": null,
            "_view_module": "@jupyter-widgets/base",
            "overflow": null,
            "_model_module_version": "1.2.0",
            "_view_count": null,
            "flex_flow": null,
            "width": null,
            "min_width": null,
            "border": null,
            "align_items": null,
            "bottom": null,
            "_model_module": "@jupyter-widgets/base",
            "top": null,
            "grid_column": null,
            "overflow_y": null,
            "overflow_x": null,
            "grid_auto_flow": null,
            "grid_area": null,
            "grid_template_columns": null,
            "flex": null,
            "_model_name": "LayoutModel",
            "justify_items": null,
            "grid_row": null,
            "max_height": null,
            "align_content": null,
            "visibility": null,
            "align_self": null,
            "height": null,
            "min_height": null,
            "padding": null,
            "grid_auto_rows": null,
            "grid_gap": null,
            "max_width": null,
            "order": null,
            "_view_module_version": "1.2.0",
            "grid_template_areas": null,
            "object_position": null,
            "object_fit": null,
            "grid_auto_columns": null,
            "margin": null,
            "display": null,
            "left": null
          }
        },
        "3f382ad79a8b47569003b6ebe621f611": {
          "model_module": "@jupyter-widgets/controls",
          "model_name": "IntProgressModel",
          "state": {
            "_view_name": "ProgressView",
            "style": "IPY_MODEL_ad8285c7cd1748e6bf2b27dcad213a15",
            "_dom_classes": [],
            "description": "",
            "_model_name": "IntProgressModel",
            "bar_style": "info",
            "max": 1,
            "_view_module": "@jupyter-widgets/controls",
            "_model_module_version": "1.5.0",
            "value": 1,
            "_view_count": null,
            "_view_module_version": "1.5.0",
            "orientation": "horizontal",
            "min": 0,
            "description_tooltip": null,
            "_model_module": "@jupyter-widgets/controls",
            "layout": "IPY_MODEL_3ca1a08d8a23497a83cf7372d0f8337c"
          }
        },
        "d7d4156d388f4b3f8a4ff7cf3669161d": {
          "model_module": "@jupyter-widgets/controls",
          "model_name": "HTMLModel",
          "state": {
            "_view_name": "HTMLView",
            "style": "IPY_MODEL_95055af40ce54035a3c9b0bd4c0e5cd2",
            "_dom_classes": [],
            "description": "",
            "_model_name": "HTMLModel",
            "placeholder": "​",
            "_view_module": "@jupyter-widgets/controls",
            "_model_module_version": "1.5.0",
            "value": "3660 examples [00:11, 329.90 examples/s]",
            "_view_count": null,
            "_view_module_version": "1.5.0",
            "description_tooltip": null,
            "_model_module": "@jupyter-widgets/controls",
            "layout": "IPY_MODEL_0dc39e756965484bbd876758dbdac308"
          }
        },
        "ad8285c7cd1748e6bf2b27dcad213a15": {
          "model_module": "@jupyter-widgets/controls",
          "model_name": "ProgressStyleModel",
          "state": {
            "_view_name": "StyleView",
            "_model_name": "ProgressStyleModel",
            "description_width": "",
            "_view_module": "@jupyter-widgets/base",
            "_model_module_version": "1.5.0",
            "_view_count": null,
            "_view_module_version": "1.2.0",
            "bar_color": null,
            "_model_module": "@jupyter-widgets/controls"
          }
        },
        "3ca1a08d8a23497a83cf7372d0f8337c": {
          "model_module": "@jupyter-widgets/base",
          "model_name": "LayoutModel",
          "state": {
            "_view_name": "LayoutView",
            "grid_template_rows": null,
            "right": null,
            "justify_content": null,
            "_view_module": "@jupyter-widgets/base",
            "overflow": null,
            "_model_module_version": "1.2.0",
            "_view_count": null,
            "flex_flow": null,
            "width": null,
            "min_width": null,
            "border": null,
            "align_items": null,
            "bottom": null,
            "_model_module": "@jupyter-widgets/base",
            "top": null,
            "grid_column": null,
            "overflow_y": null,
            "overflow_x": null,
            "grid_auto_flow": null,
            "grid_area": null,
            "grid_template_columns": null,
            "flex": null,
            "_model_name": "LayoutModel",
            "justify_items": null,
            "grid_row": null,
            "max_height": null,
            "align_content": null,
            "visibility": null,
            "align_self": null,
            "height": null,
            "min_height": null,
            "padding": null,
            "grid_auto_rows": null,
            "grid_gap": null,
            "max_width": null,
            "order": null,
            "_view_module_version": "1.2.0",
            "grid_template_areas": null,
            "object_position": null,
            "object_fit": null,
            "grid_auto_columns": null,
            "margin": null,
            "display": null,
            "left": null
          }
        },
        "95055af40ce54035a3c9b0bd4c0e5cd2": {
          "model_module": "@jupyter-widgets/controls",
          "model_name": "DescriptionStyleModel",
          "state": {
            "_view_name": "StyleView",
            "_model_name": "DescriptionStyleModel",
            "description_width": "",
            "_view_module": "@jupyter-widgets/base",
            "_model_module_version": "1.5.0",
            "_view_count": null,
            "_view_module_version": "1.2.0",
            "_model_module": "@jupyter-widgets/controls"
          }
        },
        "0dc39e756965484bbd876758dbdac308": {
          "model_module": "@jupyter-widgets/base",
          "model_name": "LayoutModel",
          "state": {
            "_view_name": "LayoutView",
            "grid_template_rows": null,
            "right": null,
            "justify_content": null,
            "_view_module": "@jupyter-widgets/base",
            "overflow": null,
            "_model_module_version": "1.2.0",
            "_view_count": null,
            "flex_flow": null,
            "width": null,
            "min_width": null,
            "border": null,
            "align_items": null,
            "bottom": null,
            "_model_module": "@jupyter-widgets/base",
            "top": null,
            "grid_column": null,
            "overflow_y": null,
            "overflow_x": null,
            "grid_auto_flow": null,
            "grid_area": null,
            "grid_template_columns": null,
            "flex": null,
            "_model_name": "LayoutModel",
            "justify_items": null,
            "grid_row": null,
            "max_height": null,
            "align_content": null,
            "visibility": null,
            "align_self": null,
            "height": null,
            "min_height": null,
            "padding": null,
            "grid_auto_rows": null,
            "grid_gap": null,
            "max_width": null,
            "order": null,
            "_view_module_version": "1.2.0",
            "grid_template_areas": null,
            "object_position": null,
            "object_fit": null,
            "grid_auto_columns": null,
            "margin": null,
            "display": null,
            "left": null
          }
        }
      }
    }
  },
  "cells": [
    {
      "cell_type": "markdown",
      "metadata": {
        "id": "view-in-github",
        "colab_type": "text"
      },
      "source": [
        "<a href=\"https://colab.research.google.com/github/Qwerty71/tiramisuBackgroundRemover/blob/master/Tiramisu.ipynb\" target=\"_parent\"><img src=\"https://colab.research.google.com/assets/colab-badge.svg\" alt=\"Open In Colab\"/></a>"
      ]
    },
    {
      "cell_type": "markdown",
      "metadata": {
        "id": "WwlcollR9BIL",
        "colab_type": "text"
      },
      "source": [
        "## **Background Removal with the One-Hundred Layers Tiramisu Model**\n",
        "\n",
        "\n",
        "---\n",
        "\n",
        "Background removal is a very useful form of machine learning. Over the years, there have been many models created to try and improve on this task. Today, we will look at the Tiramisu Model, and implement it in Keras.\n",
        "\n",
        "### **What is the Tiramisu Model?**\n",
        "\n",
        "The Tiramisu Model (also known as the One-Hundred layer Tiramisu Model), is a deep convolutional neural network composed of 103 layers (contrary to the name), created by the researchers in [this paper](https://arxiv.org/pdf/1611.09326.pdf). It is often used for image segmentation, and in this application we will use it to separate a pet from the background.\n",
        "\n",
        "Before we get into building this model, let's load our libraries."
      ]
    },
    {
      "cell_type": "code",
      "metadata": {
        "id": "whRiv7P_lM1a",
        "colab_type": "code",
        "outputId": "7736400b-fbf6-417f-bdfd-a455cc54c092",
        "colab": {
          "base_uri": "https://localhost:8080/",
          "height": 34
        }
      },
      "source": [
        "%tensorflow_version 2.x\n",
        "import tensorflow as tf\n",
        "import numpy as np\n",
        "import matplotlib.pyplot as plt\n",
        "import tensorflow_datasets as tfds\n",
        "from tensorflow import keras\n",
        "import datetime"
      ],
      "execution_count": 1,
      "outputs": [
        {
          "output_type": "stream",
          "text": [
            "TensorFlow 2.x selected.\n"
          ],
          "name": "stdout"
        }
      ]
    },
    {
      "cell_type": "markdown",
      "metadata": {
        "id": "duudIKj8-mNV",
        "colab_type": "text"
      },
      "source": [
        "We will be using the Oxford Pet dataset to train. It consists of images, labels representing which type of cat/dog the pet is (will not be used in this background removal task), and a segmentation mask which separates the pet from the background. The mask is a set of pixels where each pixel is a 1, 2, or 3 - a 1 represents a pixel within the object, a 2 represents a pixel bordering the object, and a 3 represents a pixel without the object. Since we have concrete outputs, our problem here is a classification problem.\n",
        "\n",
        "Thankfully, TensorFlow Datasets already has this dataset in its library, so we will simply load it from there."
      ]
    },
    {
      "cell_type": "code",
      "metadata": {
        "id": "XCVZQDSblO1I",
        "colab_type": "code",
        "colab": {
          "base_uri": "https://localhost:8080/",
          "height": 298,
          "referenced_widgets": [
            "c6196497f118478487564910f2f3529e",
            "9fff0ae78e244807991804ffedd75ed1",
            "34c0e2f0e5094ac59eac225e481680a3",
            "d76b4b57fb2643dd9f036901a9e7afd0",
            "291a3efdd9b64a9da3a96340f4461443",
            "90eeaad2b63b43deaae3516ed3f8cdb2",
            "f69c4d3e8096457fa2a6c7ebdaf1e818",
            "7f8a94e0ae874b928b18f03696b3fd10",
            "fd2cd59eeefb48509d6374deed34e6fd",
            "53e45470fc0f4500aad92bf2430c0e2a",
            "025914f22630475aafcc98ac4b741841",
            "dd06f9fadb6442bebba7720222ef4a7b",
            "1e0ed5a6091d42ecab3f6d22448c1a2e",
            "f4a4ae2bf8244f748c7c4da6895709b9",
            "724c2bb785b44b6a91b94264530d225d",
            "9fac84a86c7a42fea1b4d67a16b2a333",
            "227c0c12905e4e7eabd35901fea06292",
            "df37b993be814433875c05aa49e25064",
            "977a3c32bef54db9aa70f103660ff178",
            "7f0683836f3545d5b666794b7d11e3ca",
            "708f4ec8e2f74d31a952e94b7b51a32a",
            "de4412c0a2b74ee8baf315ecf3b172ca",
            "60e80127c7b2488d88d2a70264d64d59",
            "77e93b86f1704af1abe69e59eb76de78",
            "be06452eb0f04c41b532a230fd5f4f24",
            "6f548e7e90a44675b7812d2aa6662ec8",
            "54ea7eb9c8da496bb033874ee7463db6",
            "df0dd660492540d28bfd5640c0a01114",
            "559b4df4788a4489bbfc71f58a25dfcf",
            "c0772d182d16435ca272e8b7809a284d",
            "fe45be09caf443818ddb693f7c1a321e",
            "40303bd241a04c76b0d8ed02e3c1c9ec",
            "1b592078ef024cbdbeca9ed6ca34fe89",
            "f4d775ae8c204b829d4bf09c42779521",
            "3e171bd2e1234ccca3edaf96dc18270d",
            "4cc73ad199284d1585a38290986e5708",
            "68588de1d4c54a40920a897e1063254e",
            "a45cb8dcbf3e4e8ab9c647c57a66638b",
            "f166d7ca606e4fd7b43eefb1d982cfda",
            "1c7c2899e28b4f5a8a4a16eb51f12993",
            "7b37cac763d04b9e9224b9fbadb03cc0",
            "5bd4598106ca455090a78f35bc9835b2",
            "99683909c93c44e9a0489b5160cc8885",
            "9598b3c9cfb14e04bf8daa0cb6e81f39",
            "08e62858ce0e46ccaa99fe52b4755d30",
            "1c7b8fbc24c1403a8622d5f1141e82d0",
            "4f89c747d2774532ac7060556523212e",
            "42eea5a9391146ca983a43d4187a089a",
            "1e39d8baae80467bbf491141eb36ac44",
            "f437fdf5bd434206afb07c4ff8402342",
            "8b284899ce7540429be2d5ac22ba17c8",
            "6ce55efcf3244a699534ba0f8a62463c",
            "b9f0c3845b1a48ad8cfbaff4af27888b",
            "d1bad2420ddd409e90092d547bb154e1",
            "6915d2510d0e4536a193e5586e118872",
            "2c18770502e847f68487740c73ac5fa1",
            "82430aa314814d3184eb92c3c7d28c68",
            "8cde5c77c3814acb8296368accd240c8",
            "f8c6389465b547a19ab920d31ef578ce",
            "34141159a4354147aae66c352a6d0b53",
            "d71b0260246d449da14d4eb68a3c1610",
            "8af14b4f285e42808c74046f73b5c69c",
            "5d7717326f524e03992081d47e83b9d3",
            "2b7b9677b11d4dad975cc7022aef6562",
            "71f3cf40b8d94ef0ab993ec9349f39ad",
            "130b7d02044041ffb9dbec2c8b56da9b",
            "7ae4fa9ca73e417fa30ddda398d0fe63",
            "54450a048e7b4af28154a1567965f7c2",
            "5fde503b4fa54037b6022e8d89858119",
            "606846c52f594e03a5716774d4fc5fe8",
            "d3d0da735c924ceeacc3090af69aff37",
            "084622645681446d925f074607dd7849",
            "d7538621e101421fa83afc1700815eb7",
            "3c9e776779054360b09625fb076f65c8",
            "3f382ad79a8b47569003b6ebe621f611",
            "d7d4156d388f4b3f8a4ff7cf3669161d",
            "ad8285c7cd1748e6bf2b27dcad213a15",
            "3ca1a08d8a23497a83cf7372d0f8337c",
            "95055af40ce54035a3c9b0bd4c0e5cd2",
            "0dc39e756965484bbd876758dbdac308"
          ]
        },
        "outputId": "4f9173e3-7c83-4725-c479-691a0cff8bd3"
      },
      "source": [
        "data = tfds.load('oxford_iiit_pet:3.*.*')"
      ],
      "execution_count": 2,
      "outputs": [
        {
          "output_type": "stream",
          "text": [
            "\u001b[1mDownloading and preparing dataset oxford_iiit_pet (801.24 MiB) to /root/tensorflow_datasets/oxford_iiit_pet/3.0.0...\u001b[0m\n"
          ],
          "name": "stdout"
        },
        {
          "output_type": "display_data",
          "data": {
            "application/vnd.jupyter.widget-view+json": {
              "model_id": "c6196497f118478487564910f2f3529e",
              "version_minor": 0,
              "version_major": 2
            },
            "text/plain": [
              "HBox(children=(IntProgress(value=1, bar_style='info', description='Dl Completed...', max=1, style=ProgressStyl…"
            ]
          },
          "metadata": {
            "tags": []
          }
        },
        {
          "output_type": "display_data",
          "data": {
            "application/vnd.jupyter.widget-view+json": {
              "model_id": "fd2cd59eeefb48509d6374deed34e6fd",
              "version_minor": 0,
              "version_major": 2
            },
            "text/plain": [
              "HBox(children=(IntProgress(value=1, bar_style='info', description='Dl Size...', max=1, style=ProgressStyle(des…"
            ]
          },
          "metadata": {
            "tags": []
          }
        },
        {
          "output_type": "display_data",
          "data": {
            "application/vnd.jupyter.widget-view+json": {
              "model_id": "227c0c12905e4e7eabd35901fea06292",
              "version_minor": 0,
              "version_major": 2
            },
            "text/plain": [
              "HBox(children=(IntProgress(value=1, bar_style='info', description='Extraction completed...', max=1, style=Prog…"
            ]
          },
          "metadata": {
            "tags": []
          }
        },
        {
          "output_type": "stream",
          "text": [
            "\n",
            "\n",
            "\n",
            "\n"
          ],
          "name": "stdout"
        },
        {
          "output_type": "display_data",
          "data": {
            "application/vnd.jupyter.widget-view+json": {
              "model_id": "be06452eb0f04c41b532a230fd5f4f24",
              "version_minor": 0,
              "version_major": 2
            },
            "text/plain": [
              "HBox(children=(IntProgress(value=1, bar_style='info', max=1), HTML(value='')))"
            ]
          },
          "metadata": {
            "tags": []
          }
        },
        {
          "output_type": "stream",
          "text": [
            "\rShuffling and writing examples to /root/tensorflow_datasets/oxford_iiit_pet/3.0.0.incompleteBRMODT/oxford_iiit_pet-train.tfrecord\n"
          ],
          "name": "stdout"
        },
        {
          "output_type": "display_data",
          "data": {
            "application/vnd.jupyter.widget-view+json": {
              "model_id": "1b592078ef024cbdbeca9ed6ca34fe89",
              "version_minor": 0,
              "version_major": 2
            },
            "text/plain": [
              "HBox(children=(IntProgress(value=0, max=3680), HTML(value='')))"
            ]
          },
          "metadata": {
            "tags": []
          }
        },
        {
          "output_type": "stream",
          "text": [
            "\r"
          ],
          "name": "stdout"
        },
        {
          "output_type": "display_data",
          "data": {
            "application/vnd.jupyter.widget-view+json": {
              "model_id": "7b37cac763d04b9e9224b9fbadb03cc0",
              "version_minor": 0,
              "version_major": 2
            },
            "text/plain": [
              "HBox(children=(IntProgress(value=1, bar_style='info', max=1), HTML(value='')))"
            ]
          },
          "metadata": {
            "tags": []
          }
        },
        {
          "output_type": "stream",
          "text": [
            "\rShuffling and writing examples to /root/tensorflow_datasets/oxford_iiit_pet/3.0.0.incompleteBRMODT/oxford_iiit_pet-test.tfrecord\n"
          ],
          "name": "stdout"
        },
        {
          "output_type": "display_data",
          "data": {
            "application/vnd.jupyter.widget-view+json": {
              "model_id": "1e39d8baae80467bbf491141eb36ac44",
              "version_minor": 0,
              "version_major": 2
            },
            "text/plain": [
              "HBox(children=(IntProgress(value=0, max=3669), HTML(value='')))"
            ]
          },
          "metadata": {
            "tags": []
          }
        },
        {
          "output_type": "stream",
          "text": [
            "\r"
          ],
          "name": "stdout"
        },
        {
          "output_type": "display_data",
          "data": {
            "application/vnd.jupyter.widget-view+json": {
              "model_id": "82430aa314814d3184eb92c3c7d28c68",
              "version_minor": 0,
              "version_major": 2
            },
            "text/plain": [
              "HBox(children=(IntProgress(value=0, description='Computing statistics...', max=2, style=ProgressStyle(descript…"
            ]
          },
          "metadata": {
            "tags": []
          }
        },
        {
          "output_type": "display_data",
          "data": {
            "application/vnd.jupyter.widget-view+json": {
              "model_id": "71f3cf40b8d94ef0ab993ec9349f39ad",
              "version_minor": 0,
              "version_major": 2
            },
            "text/plain": [
              "HBox(children=(IntProgress(value=1, bar_style='info', max=1), HTML(value='')))"
            ]
          },
          "metadata": {
            "tags": []
          }
        },
        {
          "output_type": "display_data",
          "data": {
            "application/vnd.jupyter.widget-view+json": {
              "model_id": "d7538621e101421fa83afc1700815eb7",
              "version_minor": 0,
              "version_major": 2
            },
            "text/plain": [
              "HBox(children=(IntProgress(value=1, bar_style='info', max=1), HTML(value='')))"
            ]
          },
          "metadata": {
            "tags": []
          }
        },
        {
          "output_type": "stream",
          "text": [
            "\n",
            "\u001b[1mDataset oxford_iiit_pet downloaded and prepared to /root/tensorflow_datasets/oxford_iiit_pet/3.0.0. Subsequent calls will reuse this data.\u001b[0m\n"
          ],
          "name": "stdout"
        }
      ]
    },
    {
      "cell_type": "markdown",
      "metadata": {
        "id": "TS3125Eo-2Nv",
        "colab_type": "text"
      },
      "source": [
        "Let's also normalize the data. The following code resizes the images and masks to be `64x64` rather than `128x128` (as that would be too computationally expensive, and outside the hardware capability of Google Colab), normalizes the images to be between ```[0, 1]``` by dividing by 255, and the masks to be values in the set of `{0, 1, 2}` by subtracting 1."
      ]
    },
    {
      "cell_type": "code",
      "metadata": {
        "id": "m_YenAPelQQe",
        "colab_type": "code",
        "colab": {}
      },
      "source": [
        "size = 64\n",
        "\n",
        "def normalizeImage(image):\n",
        "  return tf.cast(image, tf.float32) / 255\n",
        "\n",
        "def normalizeMask(mask):\n",
        "  return mask - 1\n",
        "\n",
        "def generateData(dataset):\n",
        "  x_train, y_train, x_test, y_test = [], [], [], []\n",
        "  for example in dataset['train']:\n",
        "    x_train.append(normalizeImage(tf.image.resize(example['image'], (size, size))).numpy())\n",
        "    y_train.append(normalizeMask(tf.image.resize(example['segmentation_mask'], (size, size))).numpy())\n",
        "  for example in dataset['test']:\n",
        "    x_test.append(normalizeImage(tf.image.resize(example['image'], (size, size))).numpy())\n",
        "    y_test.append(normalizeMask(tf.image.resize(example['segmentation_mask'], (size, size))).numpy())\n",
        "  return [np.array(x_train), np.array(x_test)], [np.array(y_train), np.array(y_test)]\n",
        "\n",
        "(x_train, x_test), (y_train, y_test) = generateData(data)"
      ],
      "execution_count": 0,
      "outputs": []
    },
    {
      "cell_type": "markdown",
      "metadata": {
        "id": "NBhl7CKrBFib",
        "colab_type": "text"
      },
      "source": [
        "Let's visualize what the image and segmentation masks look like (separately)."
      ]
    },
    {
      "cell_type": "code",
      "metadata": {
        "id": "z7tq7pWroHrV",
        "colab_type": "code",
        "outputId": "51c47eee-789d-4118-ffde-b3799b2f50d7",
        "colab": {
          "base_uri": "https://localhost:8080/",
          "height": 519
        }
      },
      "source": [
        "plt.imshow(x_train[0])\n",
        "plt.show()\n",
        "plt.imshow(y_train[0].reshape((64, 64)))\n",
        "plt.show()"
      ],
      "execution_count": 5,
      "outputs": [
        {
          "output_type": "display_data",
          "data": {
            "image/png": "[encoded data removed]",
            "text/plain": [
              "<Figure size 432x288 with 1 Axes>"
            ]
          },
          "metadata": {
            "tags": []
          }
        },
        {
          "output_type": "display_data",
          "data": {
            "image/png": "[encoded data removed]",
            "text/plain": [
              "<Figure size 432x288 with 1 Axes>"
            ]
          },
          "metadata": {
            "tags": []
          }
        }
      ]
    },
    {
      "cell_type": "markdown",
      "metadata": {
        "id": "oYwgp0O3BSUu",
        "colab_type": "text"
      },
      "source": [
        "Now let's see what the image looks like with a segmentation mask overlayed on top of it."
      ]
    },
    {
      "cell_type": "code",
      "metadata": {
        "id": "s7V-lRZsBWjb",
        "colab_type": "code",
        "colab": {
          "base_uri": "https://localhost:8080/",
          "height": 268
        },
        "outputId": "aef9c32b-d1b9-410b-cc1f-025a46dd0a55"
      },
      "source": [
        "plt.imshow(x_train[0], cmap='gray')\n",
        "plt.imshow(y_train[0].reshape((64, 64)), cmap='jet', alpha=0.5)\n",
        "plt.show()"
      ],
      "execution_count": 6,
      "outputs": [
        {
          "output_type": "display_data",
          "data": {
            "image/png": "[encoded data removed]",
            "text/plain": [
              "<Figure size 432x288 with 1 Axes>"
            ]
          },
          "metadata": {
            "tags": []
          }
        }
      ]
    },
    {
      "cell_type": "markdown",
      "metadata": {
        "id": "zR1Bv-TMBeyE",
        "colab_type": "text"
      },
      "source": [
        "## **Understanding the Model**\n",
        "\n",
        "\n",
        "\n",
        "---\n",
        "\n",
        "Let's see how to build this model. All the following information and images come from [the paper](https://arxiv.org/pdf/1611.09326.pdf).\n",
        "\n",
        "Let's start by understanding how the model works. It is comprised of a down-path (similar to an encoder), and an up-path (similar to a decoder). The general structure of the model is shown below. In the model, there are three main components - a \"Dense Block,\" a \"Transition Up\" and a \"Transition Down.\" The Dense Block is comprised of \"Layers,\" which we will define later as well.\n",
        "\n",
        "![General Architecture of Tiramisu Model](https://forums.fast.ai/uploads/default/original/2X/f/fc919345aa2105948ca50a55a43f7c5793b0e162.jpg)\n",
        "\n",
        "As we can see, the left-side of the model is comprised of \"Dense Blocks\", followed by concatenation computations and then \"Transition Down\" computations. This cycle is repeated (keep in mind this is a very miniature version of the network, the actual one is much deeper. This is only for visualization). Take note of the skip connections between the down-path and the up-path.\n",
        "\n",
        "The right side is comprised of a similar architecture, but reversed - it starts with a \"Transition Up\" computation, followed by a concatenation computation, and then a Dense Block. Conjoining the two is another Dense Block. The first and last layer are convolutions.\n",
        "\n",
        "Let's see the structure of a Dense Block (note that this is a very small, 4-layer dense block. The ones we will use are much larger).\n",
        "\n",
        "![alt text](https://www.jeremyjordan.me/content/images/2018/05/Screen-Shot-2018-05-20-at-3.42.24-PM.png)\n",
        "\n",
        "As we can see, a Dense Block is comprised of multiple layers and concatenation computations. First, the input is run through a layer (which we will define later) - then, the output of this layer is concatenated to the input to this layer (the original input), and this value is then input into the next layer. The next concatenation computations takes this value (the input into this next layer) and the output of this next layer and concatenates them. This cycle is repeated over and over again, until the very last layer. The last concatenation computation is a concatenation of all of the layer's outputs in the Dense Block - this is then returned as the output.\n",
        "\n",
        "Now let's see what this \"Layer\" inside a Dense Block, \"Transition Up\" and \"Transition Down\" are made of.\n",
        "\n",
        "![](https://miro.medium.com/max/1970/1*1Pj56mTHPNha8Pg58fWJEQ.png)\n",
        "\n",
        "This part is rather straightforward. As you can see above, the \"Layer\" used in our \"Dense Block\" is a computation comprised of batch normalization, a ReLU activation, 3x3 convolutions, and a dropout with a rate of 0.2.\n",
        "\n",
        "The \"Transition Down,\" only used in the down-path, is comprised of batch normalization, ReLU activation, a 1x1 convolution, a dropout with rate 0.2, and 2x2 maxpooling.\n",
        "\n",
        "The \"Transition Up,\" only used in the up-path, is comprised of a single 3x3 transposed convolution with a stride of 2. \n",
        "\n",
        "The full model architecture can be seen below.\n",
        "\n",
        "![](https://forums.fast.ai/uploads/default/original/2X/c/c0e6b43494d60bb50b2d10f95505ee64fd3a09a0.png)\n",
        "\n",
        "Here we can see all the elements from our diagram (note that `m` refers to the output dimensions). It is comprised of a 3x3 convolution, multiple layers of Dense Block + Transition Down groups (in our code, we will create a function for this called `db_td`), dense blocks, multiple layers of Transition Up + Dense Block (in our code, we will create a function for this called `tu_db`), and finally a 1x1 convolution with a softmax activation.\n",
        "\n",
        "Now let's get into the code. We will start by making `layer`, `denseBlock`, `transitionUp`, and `transitionDown`, and then we will make higher-level functions to ease the model creation process.\n",
        "\n"
      ]
    },
    {
      "cell_type": "markdown",
      "metadata": {
        "id": "k99mHul3Nriy",
        "colab_type": "text"
      },
      "source": [
        "## **Designing the Model**\n",
        "\n",
        "\n",
        "\n",
        "---\n",
        "\n",
        "\n",
        "\n",
        "First, let's create the `layer` function, as it will be used in `denseBlock`."
      ]
    },
    {
      "cell_type": "code",
      "metadata": {
        "id": "jPjCwycyNvaD",
        "colab_type": "code",
        "colab": {}
      },
      "source": [
        "def layer(x, filters=16):\n",
        "    x = keras.layers.BatchNormalization()(x)\n",
        "    x = keras.layers.ReLU()(x)\n",
        "    x = keras.layers.Conv2D(filters, kernel_size=(3, 3), padding='same')(x)\n",
        "    x = keras.layers.Dropout(0.2)(x)\n",
        "    return x"
      ],
      "execution_count": 0,
      "outputs": []
    },
    {
      "cell_type": "markdown",
      "metadata": {
        "id": "ZrxeKCT8NxSL",
        "colab_type": "text"
      },
      "source": [
        "This code simply performs the operations mentioned above in keras.\n",
        "Now let's create `denseBlock`."
      ]
    },
    {
      "cell_type": "code",
      "metadata": {
        "id": "afJua5uBN7bl",
        "colab_type": "code",
        "colab": {}
      },
      "source": [
        "def denseBlock(x, layers):\n",
        "    blocks = []\n",
        "    for i in range(layers-1):\n",
        "        tmp = x\n",
        "        x = layer(x, 16)\n",
        "        blocks.append(x)\n",
        "        x = keras.layers.concatenate([x, tmp])\n",
        "    x = layer(x, 16)\n",
        "    blocks.append(x)\n",
        "    return keras.layers.concatenate(blocks)"
      ],
      "execution_count": 0,
      "outputs": []
    },
    {
      "cell_type": "markdown",
      "metadata": {
        "id": "KI-95SYlN9BF",
        "colab_type": "text"
      },
      "source": [
        "This functions starts by initializing an empty array for us to store all of the outputs to `layer` (so we can concatenate them in the final output, as mentioned above). Then, we iterate through the layers (we use `layers-1` as the last layer does not use the same computation, it concatenates all the blocks instead of just the previous input). We store the input to the layer in a `tmp` variable, we append the output of the layer to the `blocks` list, and we concatenate the input (`tmp`) to the output (`x`). We continue this process until we get to the last layer - then, we also run the input through `layer` and add it to our `blocks` list, but our final output is just a concatenation of all the `layer` outputs.\n",
        "\n",
        "Now let's create our `transitionDown` function."
      ]
    },
    {
      "cell_type": "code",
      "metadata": {
        "id": "c24Kr27VOl7V",
        "colab_type": "code",
        "colab": {}
      },
      "source": [
        "def transitionDown(x, filters):\n",
        "    x = keras.layers.BatchNormalization()(x)\n",
        "    x = keras.layers.ReLU()(x)\n",
        "    x = keras.layers.Conv2D(filters, kernel_size=(1, 1), padding='same')(x)\n",
        "    x = keras.layers.Dropout(0.2)(x)\n",
        "    x = keras.layers.MaxPool2D(padding='same')(x)\n",
        "    return x"
      ],
      "execution_count": 0,
      "outputs": []
    },
    {
      "cell_type": "markdown",
      "metadata": {
        "id": "pLOSKAS2Omh_",
        "colab_type": "text"
      },
      "source": [
        "This code is also straight forward - it simply performs the operations mentioned when we described what it does in keras.\n",
        "\n",
        "Finally, let's create our final building block - `transitionUp`."
      ]
    },
    {
      "cell_type": "code",
      "metadata": {
        "id": "ziLelD-7Ozua",
        "colab_type": "code",
        "colab": {}
      },
      "source": [
        "def transitionUp(x, filters):\n",
        "    x = keras.layers.Conv2DTranspose(filters, kernel_size=(3, 3), strides=2, padding='same')(x)\n",
        "    return x"
      ],
      "execution_count": 0,
      "outputs": []
    },
    {
      "cell_type": "markdown",
      "metadata": {
        "id": "pGDVjfI2O0MV",
        "colab_type": "text"
      },
      "source": [
        "This code performs the computations listed in the table in the previous section. Note the usage of `Conv2DTranspose` rather than `Conv2D`, as this is a transposed convolution, not just a convolution.\n",
        "\n",
        "Now we will create our `db_td` and `tu_db` functions. These functions comprise the down-path and up-path. Feel free to refer to the first image in the previous section to recall what these sections of the model do."
      ]
    },
    {
      "cell_type": "code",
      "metadata": {
        "id": "2ObweEiuPGcg",
        "colab_type": "code",
        "colab": {}
      },
      "source": [
        "def db_td(layers, x, m):\n",
        "    tmp = x\n",
        "    x = denseBlock(x, layers)\n",
        "    x = keras.layers.concatenate([x, tmp])\n",
        "    skipConnections.append(x)\n",
        "    return transitionDown(x, m)"
      ],
      "execution_count": 0,
      "outputs": []
    },
    {
      "cell_type": "markdown",
      "metadata": {
        "id": "XKblrSEjPJUx",
        "colab_type": "text"
      },
      "source": [
        "Here, we take the input and store it to `tmp`. We then perform a `denseBlock` computation for `layers` amount of layers, and concatenate its output with the `tmp` variable. We then append this output to a list of `skipConnections` to be used in the up-path. Finally, we return a `transitionDown` with an output dimensionality of `m`.\n",
        "\n",
        "Now let's define `tu_db`."
      ]
    },
    {
      "cell_type": "code",
      "metadata": {
        "id": "O26TJxBVPvVK",
        "colab_type": "code",
        "colab": {}
      },
      "source": [
        "def tu_db(layers, x, m, i):\n",
        "    x = transitionUp(x, m)\n",
        "    x = keras.layers.concatenate([x, skipConnections[::-1][i]])\n",
        "    return denseBlock(x, layers)"
      ],
      "execution_count": 0,
      "outputs": []
    },
    {
      "cell_type": "markdown",
      "metadata": {
        "id": "TV60Em5bPv0c",
        "colab_type": "text"
      },
      "source": [
        "This code takes the input and performs the `transitionUp` computation on it - then it adds the output of this with the corresponding `skipConnections` (`i` is a parameter passed that simply indicates the index of which item in `skipConnections` to choose - note that we reverse this list since what we added last is at the end). Then, we output a `denseBlock` computation for `layers` amount of layers.\n",
        "\n",
        "Now we've finished with the building blocks of this model. We can go on to defining the broader architecture. This is now made very easy - we simply have to refer to the overall architecture of the model (last image in previous section), and use it here. This contains everything the table contains, including the output dimensionality (`m`). Here is the overall code."
      ]
    },
    {
      "cell_type": "code",
      "metadata": {
        "id": "TZdCZUKylRqL",
        "colab_type": "code",
        "colab": {}
      },
      "source": [
        "skipConnections = []\n",
        "\n",
        "inp = keras.layers.Input((size, size, 3))\n",
        "x = keras.layers.Conv2D(48, kernel_size=(3, 3), padding='same')(inp)\n",
        "x = db_td(4, x, 112)\n",
        "x = db_td(5, x, 192)\n",
        "x = db_td(7, x, 304)\n",
        "x = db_td(10, x, 464)\n",
        "x = db_td(12, x, 656)\n",
        "x = denseBlock(x, 15)\n",
        "x = tu_db(12, x, 1088, 0)\n",
        "x = tu_db(10, x, 816, 1)\n",
        "x = tu_db(7, x, 578, 2)\n",
        "x = tu_db(5, x, 384, 3)\n",
        "x = tu_db(4, x, 256, 4)\n",
        "x = keras.layers.Conv2D(3, kernel_size=(1, 1), activation='softmax')(x)\n",
        "model = keras.models.Model(inputs=inp, outputs=x)"
      ],
      "execution_count": 0,
      "outputs": []
    },
    {
      "cell_type": "markdown",
      "metadata": {
        "id": "eSpAcdJFQdSi",
        "colab_type": "text"
      },
      "source": [
        "Note that our final convolution layer outputs for `3` classes, as it distinguishes between `{0, 1, 2}` for the different values of pixels."
      ]
    },
    {
      "cell_type": "markdown",
      "metadata": {
        "id": "_ozcqqgcRwHQ",
        "colab_type": "text"
      },
      "source": [
        "## **Training the Model**\n",
        "\n",
        "\n",
        "\n",
        "---\n",
        "\n",
        "\n",
        "Now let's go on to compiling this model.\n"
      ]
    },
    {
      "cell_type": "code",
      "metadata": {
        "id": "1uaVo1-OlYlA",
        "colab_type": "code",
        "colab": {}
      },
      "source": [
        "model.compile(loss='sparse_categorical_crossentropy', optimizer='adam', metrics=['accuracy'])"
      ],
      "execution_count": 0,
      "outputs": []
    },
    {
      "cell_type": "markdown",
      "metadata": {
        "id": "Nb7zWjdARPZm",
        "colab_type": "text"
      },
      "source": [
        "We will now train our model. We're going to use `tensorboard` to visualize the model's performance over time."
      ]
    },
    {
      "cell_type": "code",
      "metadata": {
        "id": "1631IWEdlY7F",
        "colab_type": "code",
        "outputId": "1330aa21-768f-452d-c653-ca3ff19a691a",
        "colab": {
          "base_uri": "https://localhost:8080/",
          "height": 731
        }
      },
      "source": [
        "logDir = \"logs/fit/\" + datetime.datetime.now().strftime(\"%Y%m%d-%H%M%S\")\n",
        "tf_cb = keras.callbacks.TensorBoard(logDir, histogram_freq=1)\n",
        "\n",
        "model.fit(x_train, y_train, validation_data=(x_test, y_test), epochs=20, batch_size=64, shuffle=True, callbacks=[tf_cb])"
      ],
      "execution_count": 15,
      "outputs": [
        {
          "output_type": "stream",
          "text": [
            "Train on 3680 samples, validate on 3669 samples\n",
            "Epoch 1/20\n",
            "3680/3680 [==============================] - 71s 19ms/sample - loss: 0.9947 - accuracy: 0.5940 - val_loss: 0.8998 - val_accuracy: 0.5704\n",
            "Epoch 2/20\n",
            "3680/3680 [==============================] - 36s 10ms/sample - loss: 0.7692 - accuracy: 0.6535 - val_loss: 1.0369 - val_accuracy: 0.5731\n",
            "Epoch 3/20\n",
            "3680/3680 [==============================] - 36s 10ms/sample - loss: 0.6799 - accuracy: 0.7116 - val_loss: 0.9576 - val_accuracy: 0.5895\n",
            "Epoch 4/20\n",
            "3680/3680 [==============================] - 36s 10ms/sample - loss: 0.5964 - accuracy: 0.7549 - val_loss: 0.9391 - val_accuracy: 0.5970\n",
            "Epoch 5/20\n",
            "3680/3680 [==============================] - 36s 10ms/sample - loss: 0.5480 - accuracy: 0.7750 - val_loss: 0.9483 - val_accuracy: 0.5703\n",
            "Epoch 6/20\n",
            "3680/3680 [==============================] - 36s 10ms/sample - loss: 0.5049 - accuracy: 0.7933 - val_loss: 0.7964 - val_accuracy: 0.6563\n",
            "Epoch 7/20\n",
            "3680/3680 [==============================] - 36s 10ms/sample - loss: 0.4774 - accuracy: 0.8053 - val_loss: 0.8033 - val_accuracy: 0.6505\n",
            "Epoch 8/20\n",
            "3680/3680 [==============================] - 36s 10ms/sample - loss: 0.4384 - accuracy: 0.8210 - val_loss: 1.2453 - val_accuracy: 0.5355\n",
            "Epoch 9/20\n",
            "3680/3680 [==============================] - 36s 10ms/sample - loss: 0.4094 - accuracy: 0.8334 - val_loss: 0.5893 - val_accuracy: 0.7540\n",
            "Epoch 10/20\n",
            "3680/3680 [==============================] - 36s 10ms/sample - loss: 0.3893 - accuracy: 0.8416 - val_loss: 0.9440 - val_accuracy: 0.6674\n",
            "Epoch 11/20\n",
            "3680/3680 [==============================] - 36s 10ms/sample - loss: 0.3921 - accuracy: 0.8402 - val_loss: 0.5016 - val_accuracy: 0.8025\n",
            "Epoch 12/20\n",
            "3680/3680 [==============================] - 36s 10ms/sample - loss: 0.3554 - accuracy: 0.8551 - val_loss: 0.4128 - val_accuracy: 0.8343\n",
            "Epoch 13/20\n",
            "3680/3680 [==============================] - 36s 10ms/sample - loss: 0.3427 - accuracy: 0.8591 - val_loss: 0.4613 - val_accuracy: 0.8174\n",
            "Epoch 14/20\n",
            "3680/3680 [==============================] - 36s 10ms/sample - loss: 0.3311 - accuracy: 0.8643 - val_loss: 0.4788 - val_accuracy: 0.8108\n",
            "Epoch 15/20\n",
            "3680/3680 [==============================] - 36s 10ms/sample - loss: 0.3184 - accuracy: 0.8695 - val_loss: 0.4160 - val_accuracy: 0.8325\n",
            "Epoch 16/20\n",
            "3680/3680 [==============================] - 36s 10ms/sample - loss: 0.3100 - accuracy: 0.8724 - val_loss: 0.4119 - val_accuracy: 0.8416\n",
            "Epoch 17/20\n",
            "3680/3680 [==============================] - 36s 10ms/sample - loss: 0.3096 - accuracy: 0.8720 - val_loss: 0.5898 - val_accuracy: 0.7954\n",
            "Epoch 18/20\n",
            "3680/3680 [==============================] - 36s 10ms/sample - loss: 0.3009 - accuracy: 0.8756 - val_loss: 0.4649 - val_accuracy: 0.8306\n",
            "Epoch 19/20\n",
            "3680/3680 [==============================] - 36s 10ms/sample - loss: 0.2974 - accuracy: 0.8768 - val_loss: 0.3749 - val_accuracy: 0.8544\n",
            "Epoch 20/20\n",
            "3680/3680 [==============================] - 36s 10ms/sample - loss: 0.2828 - accuracy: 0.8826 - val_loss: 0.4688 - val_accuracy: 0.8302\n"
          ],
          "name": "stdout"
        },
        {
          "output_type": "execute_result",
          "data": {
            "text/plain": [
              "<tensorflow.python.keras.callbacks.History at 0x7f1a4bedc898>"
            ]
          },
          "metadata": {
            "tags": []
          },
          "execution_count": 15
        }
      ]
    },
    {
      "cell_type": "markdown",
      "metadata": {
        "id": "aZY9KdEbUclE",
        "colab_type": "text"
      },
      "source": [
        "Let's visualize it in TensorBoard."
      ]
    },
    {
      "cell_type": "code",
      "metadata": {
        "id": "Nh3r_4pqUec5",
        "colab_type": "code",
        "colab": {}
      },
      "source": [
        "!tensorboard dev upload --logdir ./logs"
      ],
      "execution_count": 0,
      "outputs": []
    },
    {
      "cell_type": "markdown",
      "metadata": {
        "id": "68ZBTou8X1TS",
        "colab_type": "text"
      },
      "source": [
        "As we can see, our loss went down and our accuracy converged (if we wanted to improve accuracy, we could train for more epochs, but in this tutorial we will keep it at 20)."
      ]
    },
    {
      "cell_type": "markdown",
      "metadata": {
        "id": "_WwseU0IR4FG",
        "colab_type": "text"
      },
      "source": [
        "## **Background Removal**\n",
        "\n",
        "\n",
        "---\n",
        "\n",
        "First, let's create a function that transforms our output mask, an array of probabilities, into a defined segmentation mask."
      ]
    },
    {
      "cell_type": "code",
      "metadata": {
        "id": "lGggvRUJapjW",
        "colab_type": "code",
        "colab": {}
      },
      "source": [
        "def create_mask(pred_mask):\n",
        "  pred_mask = np.argmax(pred_mask, axis=-1)\n",
        "  pred_mask = pred_mask[..., tf.newaxis]\n",
        "  return pred_mask[0]"
      ],
      "execution_count": 0,
      "outputs": []
    },
    {
      "cell_type": "markdown",
      "metadata": {
        "id": "nIqtxEDDaqLP",
        "colab_type": "text"
      },
      "source": [
        "This simply takes the `argmax` (highest value) of each array index.\n",
        "\n",
        "Next, let's create a utility function to remove backgrounds. It checks whether the `mask` has a value of `0` (containing the pet) - if not, it turns the `image` pixel to white."
      ]
    },
    {
      "cell_type": "code",
      "metadata": {
        "id": "YtEyUj0ma4Om",
        "colab_type": "code",
        "colab": {}
      },
      "source": [
        "def create(image, mask):\n",
        "  for i in range(size):\n",
        "    for j in range(size):\n",
        "      if mask[i][j] != 0:\n",
        "        image[i][j][0] = 255\n",
        "        image[i][j][1] = 255\n",
        "        image[i][j][2] = 255\n",
        "  return image"
      ],
      "execution_count": 0,
      "outputs": []
    },
    {
      "cell_type": "markdown",
      "metadata": {
        "id": "C0b38RX6a5Bk",
        "colab_type": "text"
      },
      "source": [
        "Now let's create a prediction function that takes an image as input and removes the background."
      ]
    },
    {
      "cell_type": "code",
      "metadata": {
        "id": "vgoBQIKVQ2ve",
        "colab_type": "code",
        "colab": {}
      },
      "source": [
        "def predict(i):\n",
        "  i = tf.image.resize(i, (64, 64))\n",
        "\n",
        "  pred_mask = model.predict(tf.reshape(i, (1,64,64,3)))\n",
        "  pred_mask = create_mask(pred_mask=pred_mask)\n",
        "\n",
        "  removed = create(i.numpy(), pred_mask)\n",
        "  plt.imshow(removed)\n",
        "  plt.show()"
      ],
      "execution_count": 0,
      "outputs": []
    },
    {
      "cell_type": "markdown",
      "metadata": {
        "id": "9qxTkotFbBMu",
        "colab_type": "text"
      },
      "source": [
        "Let's see how our model performs."
      ]
    },
    {
      "cell_type": "code",
      "metadata": {
        "id": "rx_S8Y4i82wa",
        "colab_type": "code",
        "colab": {
          "base_uri": "https://localhost:8080/",
          "height": 285
        },
        "outputId": "e31b2e25-7f39-4358-e7d1-c77c66a8471f"
      },
      "source": [
        "predict(x_test[24])"
      ],
      "execution_count": 53,
      "outputs": [
        {
          "output_type": "stream",
          "text": [
            "WARNING:matplotlib.image:Clipping input data to the valid range for imshow with RGB data ([0..1] for floats or [0..255] for integers).\n"
          ],
          "name": "stderr"
        },
        {
          "output_type": "display_data",
          "data": {
            "image/png": "[encoded data removed]",
            "text/plain": [
              "<Figure size 432x288 with 1 Axes>"
            ]
          },
          "metadata": {
            "tags": []
          }
        }
      ]
    },
    {
      "cell_type": "markdown",
      "metadata": {
        "id": "YAV4ctUlbv_6",
        "colab_type": "text"
      },
      "source": [
        "As we can see, although it is not perfect (this could be trained for much longer), our model gets the gist and is able to separate the pet from the background of the image.\n",
        "\n",
        "\n",
        "\n",
        "---\n",
        "\n",
        "### **References**\n",
        "\n",
        "https://arxiv.org/pdf/1611.09326.pdf\n",
        "\n",
        "https://www.tensorflow.org/tutorials/images/segmentation\n",
        "\n",
        "**Images**\n",
        "\n",
        "https://www.jeremyjordan.me/content/images/2018/05/Screen-Shot-2018-05-20-at-3.42.24-PM.png\n",
        "\n",
        "https://forums.fast.ai/uploads/default/original/2X/f/fc919345aa2105948ca50a55a43f7c5793b0e162.jpg\n",
        "\n",
        "https://www.jeremyjordan.me/content/images/2018/05/Screen-Shot-2018-05-20-at-3.42.24-PM.png\n",
        "\n",
        "https://miro.medium.com/max/1970/1*1Pj56mTHPNha8Pg58fWJEQ.png\n",
        "\n",
        "https://forums.fast.ai/uploads/default/original/2X/c/c0e6b43494d60bb50b2d10f95505ee64fd3a09a0.png\n"
      ]
    }
  ]
}
